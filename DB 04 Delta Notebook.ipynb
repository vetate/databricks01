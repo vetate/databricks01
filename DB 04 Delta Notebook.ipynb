{
 "cells": [
  {
   "cell_type": "markdown",
   "metadata": {
    "application/vnd.databricks.v1+cell": {
     "cellMetadata": {},
     "inputWidgets": {},
     "nuid": "26881361-9fd1-4864-94fc-96f0f377c584",
     "showTitle": false,
     "title": ""
    }
   },
   "source": [
    "### Delta Lake Reading Databricks Datasets Already Provided"
   ]
  },
  {
   "cell_type": "markdown",
   "metadata": {
    "application/vnd.databricks.v1+cell": {
     "cellMetadata": {},
     "inputWidgets": {},
     "nuid": "2d7187f9-4fe8-43c9-94d1-c3755be09d2a",
     "showTitle": false,
     "title": ""
    }
   },
   "source": [
    "[Delta Lake Tutorial](https://docs.databricks.com/en/delta/tutorial.html#language-sql): \n",
    "This tutorial introduces common Delta Lake operations on Databricks.\n",
    "Delta Lake is the optimized storage layer that provides the foundation for storing data and tables in the Databricks Lakehouse Platform. \n",
    "Delta Lake is open source software that extends Parquet data files with a file-based transaction log for ACID transactions and scalable metadata handling."
   ]
  },
  {
   "cell_type": "code",
   "execution_count": 0,
   "metadata": {
    "application/vnd.databricks.v1+cell": {
     "cellMetadata": {
      "byteLimit": 2048000,
      "rowLimit": 10000
     },
     "inputWidgets": {},
     "nuid": "11d3ea02-ecde-4a66-b758-8d1f88d5320f",
     "showTitle": true,
     "title": "Listing the Flights dataset"
    }
   },
   "outputs": [
    {
     "output_type": "execute_result",
     "data": {
      "text/plain": [
       "[FileInfo(path='dbfs:/databricks-datasets/flights/README.md', name='README.md', size=412, modificationTime=1457766852000),\n",
       " FileInfo(path='dbfs:/databricks-datasets/flights/airport-codes-na.txt', name='airport-codes-na.txt', size=11411, modificationTime=1457749605000),\n",
       " FileInfo(path='dbfs:/databricks-datasets/flights/departuredelays.csv', name='departuredelays.csv', size=33396236, modificationTime=1457749605000)]"
      ]
     },
     "execution_count": 1,
     "metadata": {},
     "output_type": "execute_result"
    }
   ],
   "source": [
    "%python\n",
    "dbutils.fs.ls(\"/databricks-datasets/flights/\")"
   ]
  },
  {
   "cell_type": "code",
   "execution_count": 0,
   "metadata": {
    "application/vnd.databricks.v1+cell": {
     "cellMetadata": {
      "byteLimit": 2048000,
      "implicitDf": true,
      "rowLimit": 10000
     },
     "inputWidgets": {},
     "nuid": "65525697-278b-429a-a5ba-3ff187b9e63d",
     "showTitle": true,
     "title": "Creating a table called delayflights "
    }
   },
   "outputs": [
    {
     "output_type": "display_data",
     "data": {
      "text/html": [
       "<style scoped>\n",
       "  .table-result-container {\n",
       "    max-height: 300px;\n",
       "    overflow: auto;\n",
       "  }\n",
       "  table, th, td {\n",
       "    border: 1px solid black;\n",
       "    border-collapse: collapse;\n",
       "  }\n",
       "  th, td {\n",
       "    padding: 5px;\n",
       "  }\n",
       "  th {\n",
       "    text-align: left;\n",
       "  }\n",
       "</style><div class='table-result-container'><table class='table-result'><thead style='background-color: white'><tr><th>num_affected_rows</th><th>num_inserted_rows</th></tr></thead><tbody></tbody></table></div>"
      ]
     },
     "metadata": {
      "application/vnd.databricks.v1+output": {
       "addedWidgets": {},
       "aggData": [],
       "aggError": "",
       "aggOverflow": false,
       "aggSchema": [],
       "aggSeriesLimitReached": false,
       "aggType": "",
       "arguments": {},
       "columnCustomDisplayInfos": {},
       "data": [],
       "datasetInfos": [],
       "dbfsResultPath": null,
       "isJsonSchema": true,
       "metadata": {
        "isDbfsCommandResult": false
       },
       "overflow": false,
       "plotOptions": {
        "customPlotOptions": {},
        "displayType": "table",
        "pivotAggregation": null,
        "pivotColumns": null,
        "xColumns": null,
        "yColumns": null
       },
       "removedWidgets": [],
       "schema": [
        {
         "metadata": "{}",
         "name": "num_affected_rows",
         "type": "\"long\""
        },
        {
         "metadata": "{}",
         "name": "num_inserted_rows",
         "type": "\"long\""
        }
       ],
       "type": "table"
      }
     },
     "output_type": "display_data"
    }
   ],
   "source": [
    "%sql\n",
    "drop table if exists delayflights;\n",
    "create table if not exists delayflights\n",
    "as select * \n",
    "from read_files(\"/databricks-datasets/flights/departuredelays.csv\")"
   ]
  },
  {
   "cell_type": "code",
   "execution_count": 0,
   "metadata": {
    "application/vnd.databricks.v1+cell": {
     "cellMetadata": {
      "byteLimit": 2048000,
      "rowLimit": 10000
     },
     "inputWidgets": {},
     "nuid": "b0035bc5-8ecd-4f5e-b1ac-dc1a09ee60c1",
     "showTitle": true,
     "title": "All Tables created in Databricks will be Delta"
    }
   },
   "outputs": [
    {
     "output_type": "display_data",
     "data": {
      "text/html": [
       "<style scoped>\n",
       "  .table-result-container {\n",
       "    max-height: 300px;\n",
       "    overflow: auto;\n",
       "  }\n",
       "  table, th, td {\n",
       "    border: 1px solid black;\n",
       "    border-collapse: collapse;\n",
       "  }\n",
       "  th, td {\n",
       "    padding: 5px;\n",
       "  }\n",
       "  th {\n",
       "    text-align: left;\n",
       "  }\n",
       "</style><div class='table-result-container'><table class='table-result'><thead style='background-color: white'><tr><th>format</th><th>id</th><th>name</th><th>description</th><th>location</th><th>createdAt</th><th>lastModified</th><th>partitionColumns</th><th>clusteringColumns</th><th>numFiles</th><th>sizeInBytes</th><th>properties</th><th>minReaderVersion</th><th>minWriterVersion</th><th>tableFeatures</th><th>statistics</th></tr></thead><tbody><tr><td>delta</td><td>6ffc8859-ec0d-4550-869b-40891bd3dd75</td><td>spark_catalog.default.delayflights</td><td>null</td><td>dbfs:/user/hive/warehouse/delayflights</td><td>2024-01-27T15:24:57.685Z</td><td>2024-01-27T15:25:35Z</td><td>List()</td><td>List()</td><td>8</td><td>6774798</td><td>Map()</td><td>1</td><td>2</td><td>List(appendOnly, invariants)</td><td>Map()</td></tr></tbody></table></div>"
      ]
     },
     "metadata": {
      "application/vnd.databricks.v1+output": {
       "addedWidgets": {},
       "aggData": [],
       "aggError": "",
       "aggOverflow": false,
       "aggSchema": [],
       "aggSeriesLimitReached": false,
       "aggType": "",
       "arguments": {},
       "columnCustomDisplayInfos": {},
       "data": [
        [
         "delta",
         "6ffc8859-ec0d-4550-869b-40891bd3dd75",
         "spark_catalog.default.delayflights",
         null,
         "dbfs:/user/hive/warehouse/delayflights",
         "2024-01-27T15:24:57.685Z",
         "2024-01-27T15:25:35Z",
         [],
         [],
         8,
         6774798,
         {},
         1,
         2,
         [
          "appendOnly",
          "invariants"
         ],
         {}
        ]
       ],
       "datasetInfos": [],
       "dbfsResultPath": null,
       "isJsonSchema": true,
       "metadata": {
        "isDbfsCommandResult": false
       },
       "overflow": false,
       "plotOptions": {
        "customPlotOptions": {},
        "displayType": "table",
        "pivotAggregation": null,
        "pivotColumns": null,
        "xColumns": null,
        "yColumns": null
       },
       "removedWidgets": [],
       "schema": [
        {
         "metadata": "{}",
         "name": "format",
         "type": "\"string\""
        },
        {
         "metadata": "{}",
         "name": "id",
         "type": "\"string\""
        },
        {
         "metadata": "{}",
         "name": "name",
         "type": "\"string\""
        },
        {
         "metadata": "{}",
         "name": "description",
         "type": "\"string\""
        },
        {
         "metadata": "{}",
         "name": "location",
         "type": "\"string\""
        },
        {
         "metadata": "{}",
         "name": "createdAt",
         "type": "\"timestamp\""
        },
        {
         "metadata": "{}",
         "name": "lastModified",
         "type": "\"timestamp\""
        },
        {
         "metadata": "{}",
         "name": "partitionColumns",
         "type": "{\"type\":\"array\",\"elementType\":\"string\",\"containsNull\":true}"
        },
        {
         "metadata": "{}",
         "name": "clusteringColumns",
         "type": "{\"type\":\"array\",\"elementType\":\"string\",\"containsNull\":true}"
        },
        {
         "metadata": "{}",
         "name": "numFiles",
         "type": "\"long\""
        },
        {
         "metadata": "{}",
         "name": "sizeInBytes",
         "type": "\"long\""
        },
        {
         "metadata": "{}",
         "name": "properties",
         "type": "{\"type\":\"map\",\"keyType\":\"string\",\"valueType\":\"string\",\"valueContainsNull\":true}"
        },
        {
         "metadata": "{}",
         "name": "minReaderVersion",
         "type": "\"integer\""
        },
        {
         "metadata": "{}",
         "name": "minWriterVersion",
         "type": "\"integer\""
        },
        {
         "metadata": "{}",
         "name": "tableFeatures",
         "type": "{\"type\":\"array\",\"elementType\":\"string\",\"containsNull\":true}"
        },
        {
         "metadata": "{}",
         "name": "statistics",
         "type": "{\"type\":\"map\",\"keyType\":\"string\",\"valueType\":\"long\",\"valueContainsNull\":true}"
        }
       ],
       "type": "table"
      }
     },
     "output_type": "display_data"
    }
   ],
   "source": [
    "%sql\n",
    "DESCRIBE DETAIL delayflights;"
   ]
  },
  {
   "cell_type": "markdown",
   "metadata": {
    "application/vnd.databricks.v1+cell": {
     "cellMetadata": {},
     "inputWidgets": {},
     "nuid": "e3f3262a-a479-4e8d-993f-14d4ffc11ff5",
     "showTitle": false,
     "title": ""
    }
   },
   "source": [
    "### Browse Databricks Datasets - https://docs.databricks.com/en/discover/databricks-datasets.html#databricks-datasets-databricks-datasets "
   ]
  },
  {
   "cell_type": "code",
   "execution_count": 0,
   "metadata": {
    "application/vnd.databricks.v1+cell": {
     "cellMetadata": {
      "byteLimit": 2048000,
      "rowLimit": 10000
     },
     "inputWidgets": {},
     "nuid": "1a94c0f3-0c30-45f0-8401-e3405987dc9d",
     "showTitle": true,
     "title": ""
    }
   },
   "outputs": [
    {
     "output_type": "execute_result",
     "data": {
      "text/plain": [
       "[FileInfo(path='dbfs:/databricks-datasets/learning-spark-v2/people/.DS_Store', name='.DS_Store', size=6148, modificationTime=1602174521000),\n",
       " FileInfo(path='dbfs:/databricks-datasets/learning-spark-v2/people/README.md', name='README.md', size=215, modificationTime=1587070414000),\n",
       " FileInfo(path='dbfs:/databricks-datasets/learning-spark-v2/people/people-10m.delta/', name='people-10m.delta/', size=0, modificationTime=0),\n",
       " FileInfo(path='dbfs:/databricks-datasets/learning-spark-v2/people/people-10m.parquet/', name='people-10m.parquet/', size=0, modificationTime=0),\n",
       " FileInfo(path='dbfs:/databricks-datasets/learning-spark-v2/people/people-with-header-10m.csv.bzip/', name='people-with-header-10m.csv.bzip/', size=0, modificationTime=0),\n",
       " FileInfo(path='dbfs:/databricks-datasets/learning-spark-v2/people/people-with-header-10m.txt', name='people-with-header-10m.txt', size=608145966, modificationTime=1587070596000),\n",
       " FileInfo(path='dbfs:/databricks-datasets/learning-spark-v2/people/people-with-header-10m.txt.gz', name='people-with-header-10m.txt.gz', size=273242367, modificationTime=1587070857000),\n",
       " FileInfo(path='dbfs:/databricks-datasets/learning-spark-v2/people/people-with-header-10m.txt.snappy/', name='people-with-header-10m.txt.snappy/', size=0, modificationTime=0)]"
      ]
     },
     "execution_count": 2,
     "metadata": {},
     "output_type": "execute_result"
    }
   ],
   "source": [
    "%python\n",
    "dbutils.fs.ls(\"/databricks-datasets/learning-spark-v2/people/\")"
   ]
  },
  {
   "cell_type": "markdown",
   "metadata": {
    "application/vnd.databricks.v1+cell": {
     "cellMetadata": {},
     "inputWidgets": {},
     "nuid": "5dd1d9e9-47ea-4953-aa5d-28194207f277",
     "showTitle": false,
     "title": ""
    }
   },
   "source": [
    "### Lets read in a Delta table and save it in a new table called people_10m. \n",
    "Notice the .delta below. "
   ]
  },
  {
   "cell_type": "code",
   "execution_count": 0,
   "metadata": {
    "application/vnd.databricks.v1+cell": {
     "cellMetadata": {
      "byteLimit": 2048000,
      "rowLimit": 10000
     },
     "inputWidgets": {},
     "nuid": "4b7f9ed2-db44-4aa3-a823-e2c29e3265cd",
     "showTitle": true,
     "title": "Lets Read DELTA tables now."
    }
   },
   "outputs": [
    {
     "output_type": "display_data",
     "data": {
      "text/html": [
       "<style scoped>\n",
       "  .table-result-container {\n",
       "    max-height: 300px;\n",
       "    overflow: auto;\n",
       "  }\n",
       "  table, th, td {\n",
       "    border: 1px solid black;\n",
       "    border-collapse: collapse;\n",
       "  }\n",
       "  th, td {\n",
       "    padding: 5px;\n",
       "  }\n",
       "  th {\n",
       "    text-align: left;\n",
       "  }\n",
       "</style><div class='table-result-container'><table class='table-result'><thead style='background-color: white'><tr><th>num_affected_rows</th><th>num_inserted_rows</th></tr></thead><tbody></tbody></table></div>"
      ]
     },
     "metadata": {
      "application/vnd.databricks.v1+output": {
       "addedWidgets": {},
       "aggData": [],
       "aggError": "",
       "aggOverflow": false,
       "aggSchema": [],
       "aggSeriesLimitReached": false,
       "aggType": "",
       "arguments": {},
       "columnCustomDisplayInfos": {},
       "data": [],
       "datasetInfos": [],
       "dbfsResultPath": null,
       "isJsonSchema": true,
       "metadata": {
        "isDbfsCommandResult": false
       },
       "overflow": false,
       "plotOptions": {
        "customPlotOptions": {},
        "displayType": "table",
        "pivotAggregation": null,
        "pivotColumns": null,
        "xColumns": null,
        "yColumns": null
       },
       "removedWidgets": [],
       "schema": [
        {
         "metadata": "{}",
         "name": "num_affected_rows",
         "type": "\"long\""
        },
        {
         "metadata": "{}",
         "name": "num_inserted_rows",
         "type": "\"long\""
        }
       ],
       "type": "table"
      }
     },
     "output_type": "display_data"
    }
   ],
   "source": [
    "%sql\n",
    "DROP TABLE IF EXISTS people_10m;\n",
    "\n",
    "CREATE TABLE IF NOT EXISTS people_10m\n",
    "AS SELECT * FROM delta.`/databricks-datasets/learning-spark-v2/people/people-10m.delta`;"
   ]
  },
  {
   "cell_type": "code",
   "execution_count": 0,
   "metadata": {
    "application/vnd.databricks.v1+cell": {
     "cellMetadata": {
      "byteLimit": 2048000,
      "rowLimit": 10000
     },
     "inputWidgets": {},
     "nuid": "d0968798-52b7-4ad7-bc06-be867266c638",
     "showTitle": false,
     "title": ""
    }
   },
   "outputs": [
    {
     "output_type": "display_data",
     "data": {
      "text/html": [
       "<style scoped>\n",
       "  .table-result-container {\n",
       "    max-height: 300px;\n",
       "    overflow: auto;\n",
       "  }\n",
       "  table, th, td {\n",
       "    border: 1px solid black;\n",
       "    border-collapse: collapse;\n",
       "  }\n",
       "  th, td {\n",
       "    padding: 5px;\n",
       "  }\n",
       "  th {\n",
       "    text-align: left;\n",
       "  }\n",
       "</style><div class='table-result-container'><table class='table-result'><thead style='background-color: white'><tr><th>format</th><th>id</th><th>name</th><th>description</th><th>location</th><th>createdAt</th><th>lastModified</th><th>partitionColumns</th><th>clusteringColumns</th><th>numFiles</th><th>sizeInBytes</th><th>properties</th><th>minReaderVersion</th><th>minWriterVersion</th><th>tableFeatures</th><th>statistics</th></tr></thead><tbody><tr><td>delta</td><td>5e9eff92-4f02-43ac-b200-4b9c1b1f102f</td><td>spark_catalog.default.people_10m</td><td>null</td><td>dbfs:/user/hive/warehouse/people_10m</td><td>2024-01-27T16:18:41.993Z</td><td>2024-01-27T16:19:51Z</td><td>List()</td><td>List()</td><td>8</td><td>236921468</td><td>Map()</td><td>1</td><td>2</td><td>List(appendOnly, invariants)</td><td>Map()</td></tr></tbody></table></div>"
      ]
     },
     "metadata": {
      "application/vnd.databricks.v1+output": {
       "addedWidgets": {},
       "aggData": [],
       "aggError": "",
       "aggOverflow": false,
       "aggSchema": [],
       "aggSeriesLimitReached": false,
       "aggType": "",
       "arguments": {},
       "columnCustomDisplayInfos": {},
       "data": [
        [
         "delta",
         "5e9eff92-4f02-43ac-b200-4b9c1b1f102f",
         "spark_catalog.default.people_10m",
         null,
         "dbfs:/user/hive/warehouse/people_10m",
         "2024-01-27T16:18:41.993Z",
         "2024-01-27T16:19:51Z",
         [],
         [],
         8,
         236921468,
         {},
         1,
         2,
         [
          "appendOnly",
          "invariants"
         ],
         {}
        ]
       ],
       "datasetInfos": [],
       "dbfsResultPath": null,
       "isJsonSchema": true,
       "metadata": {
        "isDbfsCommandResult": false
       },
       "overflow": false,
       "plotOptions": {
        "customPlotOptions": {},
        "displayType": "table",
        "pivotAggregation": null,
        "pivotColumns": null,
        "xColumns": null,
        "yColumns": null
       },
       "removedWidgets": [],
       "schema": [
        {
         "metadata": "{}",
         "name": "format",
         "type": "\"string\""
        },
        {
         "metadata": "{}",
         "name": "id",
         "type": "\"string\""
        },
        {
         "metadata": "{}",
         "name": "name",
         "type": "\"string\""
        },
        {
         "metadata": "{}",
         "name": "description",
         "type": "\"string\""
        },
        {
         "metadata": "{}",
         "name": "location",
         "type": "\"string\""
        },
        {
         "metadata": "{}",
         "name": "createdAt",
         "type": "\"timestamp\""
        },
        {
         "metadata": "{}",
         "name": "lastModified",
         "type": "\"timestamp\""
        },
        {
         "metadata": "{}",
         "name": "partitionColumns",
         "type": "{\"type\":\"array\",\"elementType\":\"string\",\"containsNull\":true}"
        },
        {
         "metadata": "{}",
         "name": "clusteringColumns",
         "type": "{\"type\":\"array\",\"elementType\":\"string\",\"containsNull\":true}"
        },
        {
         "metadata": "{}",
         "name": "numFiles",
         "type": "\"long\""
        },
        {
         "metadata": "{}",
         "name": "sizeInBytes",
         "type": "\"long\""
        },
        {
         "metadata": "{}",
         "name": "properties",
         "type": "{\"type\":\"map\",\"keyType\":\"string\",\"valueType\":\"string\",\"valueContainsNull\":true}"
        },
        {
         "metadata": "{}",
         "name": "minReaderVersion",
         "type": "\"integer\""
        },
        {
         "metadata": "{}",
         "name": "minWriterVersion",
         "type": "\"integer\""
        },
        {
         "metadata": "{}",
         "name": "tableFeatures",
         "type": "{\"type\":\"array\",\"elementType\":\"string\",\"containsNull\":true}"
        },
        {
         "metadata": "{}",
         "name": "statistics",
         "type": "{\"type\":\"map\",\"keyType\":\"string\",\"valueType\":\"long\",\"valueContainsNull\":true}"
        }
       ],
       "type": "table"
      }
     },
     "output_type": "display_data"
    }
   ],
   "source": [
    "%sql\n",
    "DESCRIBE DETAIL people_10m;"
   ]
  },
  {
   "cell_type": "markdown",
   "metadata": {
    "application/vnd.databricks.v1+cell": {
     "cellMetadata": {},
     "inputWidgets": {},
     "nuid": "0ccb6a89-c83a-4083-a86b-f377a17f2892",
     "showTitle": false,
     "title": ""
    }
   },
   "source": [
    "### Go to Catalog Now\n",
    "dbfs:/user/hive/warehouse/people_10m - the location is in the Delta Wearhouse.\n",
    "\n",
    "But also notice we created a new table too in Default\n"
   ]
  },
  {
   "cell_type": "code",
   "execution_count": 0,
   "metadata": {
    "application/vnd.databricks.v1+cell": {
     "cellMetadata": {
      "byteLimit": 2048000,
      "rowLimit": 10000
     },
     "inputWidgets": {},
     "nuid": "063abc7d-5ed6-4c2a-a923-77dde4652174",
     "showTitle": false,
     "title": ""
    }
   },
   "outputs": [
    {
     "output_type": "display_data",
     "data": {
      "text/html": [
       "<style scoped>\n",
       "  .table-result-container {\n",
       "    max-height: 300px;\n",
       "    overflow: auto;\n",
       "  }\n",
       "  table, th, td {\n",
       "    border: 1px solid black;\n",
       "    border-collapse: collapse;\n",
       "  }\n",
       "  th, td {\n",
       "    padding: 5px;\n",
       "  }\n",
       "  th {\n",
       "    text-align: left;\n",
       "  }\n",
       "</style><div class='table-result-container'><table class='table-result'><thead style='background-color: white'><tr><th>count(1)</th></tr></thead><tbody><tr><td>10000000</td></tr></tbody></table></div>"
      ]
     },
     "metadata": {
      "application/vnd.databricks.v1+output": {
       "addedWidgets": {},
       "aggData": [],
       "aggError": "",
       "aggOverflow": false,
       "aggSchema": [],
       "aggSeriesLimitReached": false,
       "aggType": "",
       "arguments": {},
       "columnCustomDisplayInfos": {},
       "data": [
        [
         10000000
        ]
       ],
       "datasetInfos": [],
       "dbfsResultPath": null,
       "isJsonSchema": true,
       "metadata": {
        "isDbfsCommandResult": false
       },
       "overflow": false,
       "plotOptions": {
        "customPlotOptions": {},
        "displayType": "table",
        "pivotAggregation": null,
        "pivotColumns": null,
        "xColumns": null,
        "yColumns": null
       },
       "removedWidgets": [],
       "schema": [
        {
         "metadata": "{\"__autoGeneratedAlias\":\"true\"}",
         "name": "count(1)",
         "type": "\"long\""
        }
       ],
       "type": "table"
      }
     },
     "output_type": "display_data"
    }
   ],
   "source": [
    "%sql\n",
    "select count(*) from people_10m"
   ]
  },
  {
   "cell_type": "markdown",
   "metadata": {
    "application/vnd.databricks.v1+cell": {
     "cellMetadata": {},
     "inputWidgets": {},
     "nuid": "440dc502-7f72-4845-adb8-2a8c47afe1e6",
     "showTitle": false,
     "title": ""
    }
   },
   "source": [
    "## Upsert to a Table\n",
    "To merge a set of updates and insertions into an existing Delta table, you use the [MERGE INTO](https://docs.databricks.com/en/sql/language-manual/delta-merge-into.html) statement"
   ]
  },
  {
   "cell_type": "code",
   "execution_count": 0,
   "metadata": {
    "application/vnd.databricks.v1+cell": {
     "cellMetadata": {
      "byteLimit": 2048000,
      "rowLimit": 10000
     },
     "inputWidgets": {},
     "nuid": "7b6cb69c-92c6-4402-8290-3f9a2beec1f3",
     "showTitle": false,
     "title": ""
    }
   },
   "outputs": [
    {
     "output_type": "display_data",
     "data": {
      "text/html": [
       "<style scoped>\n",
       "  .ansiout {\n",
       "    display: block;\n",
       "    unicode-bidi: embed;\n",
       "    white-space: pre-wrap;\n",
       "    word-wrap: break-word;\n",
       "    word-break: break-all;\n",
       "    font-family: \"Menlo\", \"Monaco\", \"Consolas\", \"Ubuntu Mono\", \"Source Code Pro\", monospace;\n",
       "    font-size: 13px;\n",
       "    color: #555;\n",
       "    margin-left: 4px;\n",
       "    line-height: 19px;\n",
       "  }\n",
       "</style>\n",
       "com.databricks.backend.common.rpc.SparkDriverExceptions$SQLExecutionException: org.apache.spark.SparkException: Job aborted due to stage failure: Task 3 in stage 52.0 failed 1 times, most recent failure: Lost task 3.0 in stage 52.0 (TID 120) (ip-10-172-243-241.us-west-2.compute.internal executor driver): org.apache.spark.SparkDateTimeException: [CAST_INVALID_INPUT] The value '1978-01-14T04:00:00.000+000' of the type \"STRING\" cannot be cast to \"TIMESTAMP\" because it is malformed. Correct the value as per the syntax, or change its target type. Use `try_cast` to tolerate malformed input and return NULL instead. If necessary set \"spark.sql.ansi.enabled\" to \"false\" to bypass this error. SQLSTATE: 22018\n",
       "== SQL (line 1, position 1) ==\n",
       "MERGE INTO people_10m\n",
       "^^^^^^^^^^^^^^^^^^^^^\n",
       "USING people_updates\n",
       "^^^^^^^^^^^^^^^^^^^^\n",
       "ON people_10m.id = people_updates.id\n",
       "^^^^^^^^^^^^^^^^^^^^^^^^^^^^^^^^^^^^\n",
       "WHEN MATCHED THEN UPDATE SET *\n",
       "^^^^^^^^^^^^^^^^^^^^^^^^^^^^^^\n",
       "WHEN NOT MATCHED THEN INSERT *\n",
       "^^^^^^^^^^^^^^^^^^^^^^^^^^^^^^\n",
       "\n",
       "\tat org.apache.spark.sql.errors.ExecutionErrors.invalidInputInCastToDatetimeErrorInternal(ExecutionErrors.scala:114)\n",
       "\tat org.apache.spark.sql.errors.ExecutionErrors.invalidInputInCastToDatetimeErrorInternal$(ExecutionErrors.scala:101)\n",
       "\tat org.apache.spark.sql.errors.ExecutionErrors$.invalidInputInCastToDatetimeErrorInternal(ExecutionErrors.scala:230)\n",
       "\tat org.apache.spark.sql.errors.ExecutionErrors.invalidInputInCastToDatetimeError(ExecutionErrors.scala:91)\n",
       "\tat org.apache.spark.sql.errors.ExecutionErrors.invalidInputInCastToDatetimeError$(ExecutionErrors.scala:87)\n",
       "\tat org.apache.spark.sql.errors.ExecutionErrors$.invalidInputInCastToDatetimeError(ExecutionErrors.scala:230)\n",
       "\tat org.apache.spark.sql.catalyst.util.SparkDateTimeUtils.$anonfun$stringToTimestampAnsi$1(SparkDateTimeUtils.scala:588)\n",
       "\tat scala.Option.getOrElse(Option.scala:189)\n",
       "\tat org.apache.spark.sql.catalyst.util.SparkDateTimeUtils.stringToTimestampAnsi(SparkDateTimeUtils.scala:588)\n",
       "\tat org.apache.spark.sql.catalyst.util.SparkDateTimeUtils.stringToTimestampAnsi$(SparkDateTimeUtils.scala:583)\n",
       "\tat org.apache.spark.sql.catalyst.util.DateTimeUtils$.stringToTimestampAnsi(DateTimeUtils.scala:40)\n",
       "\tat org.apache.spark.sql.catalyst.util.DateTimeUtils.stringToTimestampAnsi(DateTimeUtils.scala)\n",
       "\tat org.apache.spark.sql.catalyst.expressions.GeneratedClass$GeneratedIteratorForCodegenStage3.processNext(Unknown Source)\n",
       "\tat org.apache.spark.sql.execution.BufferedRowIterator.hasNext(BufferedRowIterator.java:43)\n",
       "\tat org.apache.spark.sql.execution.WholeStageCodegenEvaluatorFactory$WholeStageCodegenPartitionEvaluator$$anon$1.hasNext(WholeStageCodegenEvaluatorFactory.scala:43)\n",
       "\tat org.apache.spark.sql.execution.datasources.FileFormatWriter$.executeTask(FileFormatWriter.scala:525)\n",
       "\tat org.apache.spark.sql.execution.datasources.WriteFilesExec.$anonfun$doExecuteWrite$1(WriteFiles.scala:116)\n",
       "\tat org.apache.spark.rdd.RDD.$anonfun$mapPartitionsInternal$2(RDD.scala:931)\n",
       "\tat org.apache.spark.rdd.RDD.$anonfun$mapPartitionsInternal$2$adapted(RDD.scala:931)\n",
       "\tat org.apache.spark.rdd.MapPartitionsRDD.compute(MapPartitionsRDD.scala:60)\n",
       "\tat org.apache.spark.rdd.RDD.$anonfun$computeOrReadCheckpoint$1(RDD.scala:407)\n",
       "\tat com.databricks.spark.util.ExecutorFrameProfiler$.record(ExecutorFrameProfiler.scala:110)\n",
       "\tat org.apache.spark.rdd.RDD.computeOrReadCheckpoint(RDD.scala:404)\n",
       "\tat org.apache.spark.rdd.RDD.iterator(RDD.scala:371)\n",
       "\tat org.apache.spark.scheduler.ResultTask.$anonfun$runTask$3(ResultTask.scala:82)\n",
       "\tat com.databricks.spark.util.ExecutorFrameProfiler$.record(ExecutorFrameProfiler.scala:110)\n",
       "\tat org.apache.spark.scheduler.ResultTask.$anonfun$runTask$1(ResultTask.scala:82)\n",
       "\tat com.databricks.spark.util.ExecutorFrameProfiler$.record(ExecutorFrameProfiler.scala:110)\n",
       "\tat org.apache.spark.scheduler.ResultTask.runTask(ResultTask.scala:62)\n",
       "\tat org.apache.spark.TaskContext.runTaskWithListeners(TaskContext.scala:196)\n",
       "\tat org.apache.spark.scheduler.Task.doRunTask(Task.scala:181)\n",
       "\tat org.apache.spark.scheduler.Task.$anonfun$run$5(Task.scala:146)\n",
       "\tat com.databricks.unity.EmptyHandle$.runWithAndClose(UCSHandle.scala:125)\n",
       "\tat org.apache.spark.scheduler.Task.$anonfun$run$1(Task.scala:146)\n",
       "\tat com.databricks.spark.util.ExecutorFrameProfiler$.record(ExecutorFrameProfiler.scala:110)\n",
       "\tat org.apache.spark.scheduler.Task.run(Task.scala:99)\n",
       "\tat org.apache.spark.executor.Executor$TaskRunner.$anonfun$run$9(Executor.scala:932)\n",
       "\tat org.apache.spark.util.SparkErrorUtils.tryWithSafeFinally(SparkErrorUtils.scala:64)\n",
       "\tat org.apache.spark.util.SparkErrorUtils.tryWithSafeFinally$(SparkErrorUtils.scala:61)\n",
       "\tat org.apache.spark.util.Utils$.tryWithSafeFinally(Utils.scala:102)\n",
       "\tat org.apache.spark.executor.Executor$TaskRunner.$anonfun$run$3(Executor.scala:935)\n",
       "\tat scala.runtime.java8.JFunction0$mcV$sp.apply(JFunction0$mcV$sp.java:23)\n",
       "\tat com.databricks.spark.util.ExecutorFrameProfiler$.record(ExecutorFrameProfiler.scala:110)\n",
       "\tat org.apache.spark.executor.Executor$TaskRunner.run(Executor.scala:827)\n",
       "\tat java.util.concurrent.ThreadPoolExecutor.runWorker(ThreadPoolExecutor.java:1149)\n",
       "\tat java.util.concurrent.ThreadPoolExecutor$Worker.run(ThreadPoolExecutor.java:624)\n",
       "\tat java.lang.Thread.run(Thread.java:750)\n",
       "\n",
       "Driver stacktrace:\n",
       "\tat org.apache.spark.scheduler.DAGScheduler.failJobAndIndependentStages(DAGScheduler.scala:3634)\n",
       "\tat org.apache.spark.scheduler.DAGScheduler.$anonfun$abortStage$2(DAGScheduler.scala:3556)\n",
       "\tat org.apache.spark.scheduler.DAGScheduler.$anonfun$abortStage$2$adapted(DAGScheduler.scala:3543)\n",
       "\tat scala.collection.mutable.ResizableArray.foreach(ResizableArray.scala:62)\n",
       "\tat scala.collection.mutable.ResizableArray.foreach$(ResizableArray.scala:55)\n",
       "\tat scala.collection.mutable.ArrayBuffer.foreach(ArrayBuffer.scala:49)\n",
       "\tat org.apache.spark.scheduler.DAGScheduler.abortStage(DAGScheduler.scala:3543)\n",
       "\tat org.apache.spark.scheduler.DAGScheduler.$anonfun$handleTaskSetFailed$1(DAGScheduler.scala:1526)\n",
       "\tat org.apache.spark.scheduler.DAGScheduler.$anonfun$handleTaskSetFailed$1$adapted(DAGScheduler.scala:1526)\n",
       "\tat scala.Option.foreach(Option.scala:407)\n",
       "\tat org.apache.spark.scheduler.DAGScheduler.handleTaskSetFailed(DAGScheduler.scala:1526)\n",
       "\tat org.apache.spark.scheduler.DAGSchedulerEventProcessLoop.doOnReceive(DAGScheduler.scala:3880)\n",
       "\tat org.apache.spark.scheduler.DAGSchedulerEventProcessLoop.onReceive(DAGScheduler.scala:3792)\n",
       "\tat org.apache.spark.scheduler.DAGSchedulerEventProcessLoop.onReceive(DAGScheduler.scala:3780)\n",
       "\tat org.apache.spark.util.EventLoop$$anon$1.run(EventLoop.scala:51)\n",
       "\tat org.apache.spark.scheduler.DAGScheduler.$anonfun$runJob$1(DAGScheduler.scala:1250)\n",
       "\tat scala.runtime.java8.JFunction0$mcV$sp.apply(JFunction0$mcV$sp.java:23)\n",
       "\tat com.databricks.spark.util.FrameProfiler$.record(FrameProfiler.scala:94)\n",
       "\tat org.apache.spark.scheduler.DAGScheduler.runJob(DAGScheduler.scala:1238)\n",
       "\tat org.apache.spark.SparkContext.runJobInternal(SparkContext.scala:2996)\n",
       "\tat org.apache.spark.SparkContext.runJob(SparkContext.scala:2979)\n",
       "\tat org.apache.spark.sql.execution.datasources.FileFormatWriter$.$anonfun$executeWrite$4(FileFormatWriter.scala:421)\n",
       "\tat org.apache.spark.sql.execution.datasources.FileFormatWriter$.writeAndCommit(FileFormatWriter.scala:385)\n",
       "\tat org.apache.spark.sql.execution.datasources.FileFormatWriter$.executeWrite(FileFormatWriter.scala:418)\n",
       "\tat org.apache.spark.sql.execution.datasources.FileFormatWriter$.$anonfun$write$1(FileFormatWriter.scala:292)\n",
       "\tat com.databricks.spark.util.FrameProfiler$.record(FrameProfiler.scala:94)\n",
       "\tat org.apache.spark.sql.execution.datasources.FileFormatWriter$.write(FileFormatWriter.scala:117)\n",
       "\tat com.databricks.sql.transaction.tahoe.commands.WriteIntoDeltaCommand.run(WriteIntoDeltaCommand.scala:114)\n",
       "\tat org.apache.spark.sql.execution.command.DataWritingCommandExec.$anonfun$sideEffectResult$5(commands.scala:136)\n",
       "\tat org.apache.spark.sql.execution.SparkPlan.runCommandWithAetherOff(SparkPlan.scala:171)\n",
       "\tat org.apache.spark.sql.execution.command.DataWritingCommandExec.$anonfun$sideEffectResult$4(commands.scala:136)\n",
       "\tat com.databricks.spark.util.FrameProfiler$.record(FrameProfiler.scala:94)\n",
       "\tat org.apache.spark.sql.execution.command.DataWritingCommandExec.sideEffectResult$lzycompute(commands.scala:132)\n",
       "\tat org.apache.spark.sql.execution.command.DataWritingCommandExec.sideEffectResult(commands.scala:131)\n",
       "\tat org.apache.spark.sql.execution.command.DataWritingCommandExec.$anonfun$doExecute$4(commands.scala:160)\n",
       "\tat com.databricks.spark.util.FrameProfiler$.record(FrameProfiler.scala:94)\n",
       "\tat org.apache.spark.sql.execution.command.DataWritingCommandExec.doExecute(commands.scala:160)\n",
       "\tat org.apache.spark.sql.execution.SparkPlan.$anonfun$execute$2(SparkPlan.scala:304)\n",
       "\tat com.databricks.spark.util.FrameProfiler$.record(FrameProfiler.scala:94)\n",
       "\tat org.apache.spark.sql.execution.SparkPlan.$anonfun$execute$1(SparkPlan.scala:304)\n",
       "\tat org.apache.spark.sql.execution.SparkPlan$.org$apache$spark$sql$execution$SparkPlan$$withExecuteQueryLogging(SparkPlan.scala:123)\n",
       "\tat org.apache.spark.sql.execution.SparkPlan.$anonfun$executeQuery$1(SparkPlan.scala:362)\n",
       "\tat org.apache.spark.rdd.RDDOperationScope$.withScope(RDDOperationScope.scala:165)\n",
       "\tat org.apache.spark.sql.execution.SparkPlan.executeQuery(SparkPlan.scala:358)\n",
       "\tat org.apache.spark.sql.execution.SparkPlan.execute(SparkPlan.scala:299)\n",
       "\tat org.apache.spark.sql.execution.adaptive.AdaptiveSparkPlanExec.$anonfun$doExecute$1(AdaptiveSparkPlanExec.scala:762)\n",
       "\tat org.apache.spark.sql.execution.adaptive.ResultQueryStageExec.$anonfun$doMaterialize$1(QueryStageExec.scala:530)\n",
       "\tat org.apache.spark.sql.SparkSession.withActive(SparkSession.scala:1140)\n",
       "\tat org.apache.spark.sql.execution.SQLExecution$.$anonfun$withThreadLocalCaptured$5(SQLExecution.scala:677)\n",
       "\tat com.databricks.util.LexicalThreadLocal$Handle.runWith(LexicalThreadLocal.scala:63)\n",
       "\tat org.apache.spark.sql.execution.SQLExecution$.$anonfun$withThreadLocalCaptured$4(SQLExecution.scala:677)\n",
       "\tat scala.util.DynamicVariable.withValue(DynamicVariable.scala:62)\n",
       "\tat org.apache.spark.sql.execution.SQLExecution$.$anonfun$withThreadLocalCaptured$3(SQLExecution.scala:676)\n",
       "\tat scala.util.DynamicVariable.withValue(DynamicVariable.scala:62)\n",
       "\tat org.apache.spark.sql.execution.SQLExecution$.$anonfun$withThreadLocalCaptured$2(SQLExecution.scala:675)\n",
       "\tat com.databricks.sql.transaction.tahoe.OptimisticTransaction$.withActive(OptimisticTransaction.scala:187)\n",
       "\tat org.apache.spark.sql.execution.SQLExecution$.withOptimisticTransaction(SQLExecution.scala:694)\n",
       "\tat org.apache.spark.sql.execution.SQLExecution$.$anonfun$withThreadLocalCaptured$1(SQLExecution.scala:674)\n",
       "\tat java.util.concurrent.CompletableFuture$AsyncSupply.run(CompletableFuture.java:1604)\n",
       "\tat org.apache.spark.util.threads.SparkThreadLocalCapturingRunnable.$anonfun$run$1(SparkThreadLocalForwardingThreadPoolExecutor.scala:134)\n",
       "\tat scala.runtime.java8.JFunction0$mcV$sp.apply(JFunction0$mcV$sp.java:23)\n",
       "\tat com.databricks.spark.util.IdentityClaim$.withClaim(IdentityClaim.scala:48)\n",
       "\tat org.apache.spark.util.threads.SparkThreadLocalCapturingHelper.$anonfun$runWithCaptured$4(SparkThreadLocalForwardingThreadPoolExecutor.scala:91)\n",
       "\tat com.databricks.unity.UCSEphemeralState$Handle.runWith(UCSEphemeralState.scala:41)\n",
       "\tat org.apache.spark.util.threads.SparkThreadLocalCapturingHelper.runWithCaptured(SparkThreadLocalForwardingThreadPoolExecutor.scala:90)\n",
       "\tat org.apache.spark.util.threads.SparkThreadLocalCapturingHelper.runWithCaptured$(SparkThreadLocalForwardingThreadPoolExecutor.scala:67)\n",
       "\tat org.apache.spark.util.threads.SparkThreadLocalCapturingRunnable.runWithCaptured(SparkThreadLocalForwardingThreadPoolExecutor.scala:131)\n",
       "\tat org.apache.spark.util.threads.SparkThreadLocalCapturingRunnable.run(SparkThreadLocalForwardingThreadPoolExecutor.scala:134)\n",
       "\tat java.util.concurrent.ThreadPoolExecutor.runWorker(ThreadPoolExecutor.java:1149)\n",
       "\tat java.util.concurrent.ThreadPoolExecutor$Worker.run(ThreadPoolExecutor.java:624)\n",
       "\tat java.lang.Thread.run(Thread.java:750)\n",
       "Caused by: org.apache.spark.SparkDateTimeException: [CAST_INVALID_INPUT] The value '1978-01-14T04:00:00.000+000' of the type \"STRING\" cannot be cast to \"TIMESTAMP\" because it is malformed. Correct the value as per the syntax, or change its target type. Use `try_cast` to tolerate malformed input and return NULL instead. If necessary set \"spark.sql.ansi.enabled\" to \"false\" to bypass this error. SQLSTATE: 22018\n",
       "== SQL (line 1, position 1) ==\n",
       "MERGE INTO people_10m\n",
       "^^^^^^^^^^^^^^^^^^^^^\n",
       "USING people_updates\n",
       "^^^^^^^^^^^^^^^^^^^^\n",
       "ON people_10m.id = people_updates.id\n",
       "^^^^^^^^^^^^^^^^^^^^^^^^^^^^^^^^^^^^\n",
       "WHEN MATCHED THEN UPDATE SET *\n",
       "^^^^^^^^^^^^^^^^^^^^^^^^^^^^^^\n",
       "WHEN NOT MATCHED THEN INSERT *\n",
       "^^^^^^^^^^^^^^^^^^^^^^^^^^^^^^\n",
       "\n",
       "\tat org.apache.spark.sql.errors.ExecutionErrors.invalidInputInCastToDatetimeErrorInternal(ExecutionErrors.scala:114)\n",
       "\tat org.apache.spark.sql.errors.ExecutionErrors.invalidInputInCastToDatetimeErrorInternal$(ExecutionErrors.scala:101)\n",
       "\tat org.apache.spark.sql.errors.ExecutionErrors$.invalidInputInCastToDatetimeErrorInternal(ExecutionErrors.scala:230)\n",
       "\tat org.apache.spark.sql.errors.ExecutionErrors.invalidInputInCastToDatetimeError(ExecutionErrors.scala:91)\n",
       "\tat org.apache.spark.sql.errors.ExecutionErrors.invalidInputInCastToDatetimeError$(ExecutionErrors.scala:87)\n",
       "\tat org.apache.spark.sql.errors.ExecutionErrors$.invalidInputInCastToDatetimeError(ExecutionErrors.scala:230)\n",
       "\tat org.apache.spark.sql.catalyst.util.SparkDateTimeUtils.$anonfun$stringToTimestampAnsi$1(SparkDateTimeUtils.scala:588)\n",
       "\tat scala.Option.getOrElse(Option.scala:189)\n",
       "\tat org.apache.spark.sql.catalyst.util.SparkDateTimeUtils.stringToTimestampAnsi(SparkDateTimeUtils.scala:588)\n",
       "\tat org.apache.spark.sql.catalyst.util.SparkDateTimeUtils.stringToTimestampAnsi$(SparkDateTimeUtils.scala:583)\n",
       "\tat org.apache.spark.sql.catalyst.util.DateTimeUtils$.stringToTimestampAnsi(DateTimeUtils.scala:40)\n",
       "\tat org.apache.spark.sql.catalyst.util.DateTimeUtils.stringToTimestampAnsi(DateTimeUtils.scala)\n",
       "\tat org.apache.spark.sql.catalyst.expressions.GeneratedClass$GeneratedIteratorForCodegenStage3.processNext(Unknown Source)\n",
       "\tat org.apache.spark.sql.execution.BufferedRowIterator.hasNext(BufferedRowIterator.java:43)\n",
       "\tat org.apache.spark.sql.execution.WholeStageCodegenEvaluatorFactory$WholeStageCodegenPartitionEvaluator$$anon$1.hasNext(WholeStageCodegenEvaluatorFactory.scala:43)\n",
       "\tat org.apache.spark.sql.execution.datasources.FileFormatWriter$.executeTask(FileFormatWriter.scala:525)\n",
       "\tat org.apache.spark.sql.execution.datasources.WriteFilesExec.$anonfun$doExecuteWrite$1(WriteFiles.scala:116)\n",
       "\tat org.apache.spark.rdd.RDD.$anonfun$mapPartitionsInternal$2(RDD.scala:931)\n",
       "\tat org.apache.spark.rdd.RDD.$anonfun$mapPartitionsInternal$2$adapted(RDD.scala:931)\n",
       "\tat org.apache.spark.rdd.MapPartitionsRDD.compute(MapPartitionsRDD.scala:60)\n",
       "\tat org.apache.spark.rdd.RDD.$anonfun$computeOrReadCheckpoint$1(RDD.scala:407)\n",
       "\tat com.databricks.spark.util.ExecutorFrameProfiler$.record(ExecutorFrameProfiler.scala:110)\n",
       "\tat org.apache.spark.rdd.RDD.computeOrReadCheckpoint(RDD.scala:404)\n",
       "\tat org.apache.spark.rdd.RDD.iterator(RDD.scala:371)\n",
       "\tat org.apache.spark.scheduler.ResultTask.$anonfun$runTask$3(ResultTask.scala:82)\n",
       "\tat com.databricks.spark.util.ExecutorFrameProfiler$.record(ExecutorFrameProfiler.scala:110)\n",
       "\tat org.apache.spark.scheduler.ResultTask.$anonfun$runTask$1(ResultTask.scala:82)\n",
       "\tat com.databricks.spark.util.ExecutorFrameProfiler$.record(ExecutorFrameProfiler.scala:110)\n",
       "\tat org.apache.spark.scheduler.ResultTask.runTask(ResultTask.scala:62)\n",
       "\tat org.apache.spark.TaskContext.runTaskWithListeners(TaskContext.scala:196)\n",
       "\tat org.apache.spark.scheduler.Task.doRunTask(Task.scala:181)\n",
       "\tat org.apache.spark.scheduler.Task.$anonfun$run$5(Task.scala:146)\n",
       "\tat com.databricks.unity.EmptyHandle$.runWithAndClose(UCSHandle.scala:125)\n",
       "\tat org.apache.spark.scheduler.Task.$anonfun$run$1(Task.scala:146)\n",
       "\tat com.databricks.spark.util.ExecutorFrameProfiler$.record(ExecutorFrameProfiler.scala:110)\n",
       "\tat org.apache.spark.scheduler.Task.run(Task.scala:99)\n",
       "\tat org.apache.spark.executor.Executor$TaskRunner.$anonfun$run$9(Executor.scala:932)\n",
       "\tat org.apache.spark.util.SparkErrorUtils.tryWithSafeFinally(SparkErrorUtils.scala:64)\n",
       "\tat org.apache.spark.util.SparkErrorUtils.tryWithSafeFinally$(SparkErrorUtils.scala:61)\n",
       "\tat org.apache.spark.util.Utils$.tryWithSafeFinally(Utils.scala:102)\n",
       "\tat org.apache.spark.executor.Executor$TaskRunner.$anonfun$run$3(Executor.scala:935)\n",
       "\tat scala.runtime.java8.JFunction0$mcV$sp.apply(JFunction0$mcV$sp.java:23)\n",
       "\tat com.databricks.spark.util.ExecutorFrameProfiler$.record(ExecutorFrameProfiler.scala:110)\n",
       "\tat org.apache.spark.executor.Executor$TaskRunner.run(Executor.scala:827)\n",
       "\t... 3 more\n",
       "\n",
       "\tat com.databricks.backend.daemon.driver.DriverLocal.executeSql(DriverLocal.scala:427)\n",
       "\tat com.databricks.backend.daemon.driver.SQLDriverLocal.repl(SQLDriverLocal.scala:39)\n",
       "\tat com.databricks.backend.daemon.driver.DriverLocal.$anonfun$execute$34(DriverLocal.scala:1083)\n",
       "\tat com.databricks.unity.EmptyHandle$.runWith(UCSHandle.scala:124)\n",
       "\tat com.databricks.backend.daemon.driver.DriverLocal.$anonfun$execute$22(DriverLocal.scala:1066)\n",
       "\tat com.databricks.logging.UsageLogging.$anonfun$withAttributionContext$1(UsageLogging.scala:426)\n",
       "\tat scala.util.DynamicVariable.withValue(DynamicVariable.scala:62)\n",
       "\tat com.databricks.logging.AttributionContext$.withValue(AttributionContext.scala:216)\n",
       "\tat com.databricks.logging.UsageLogging.withAttributionContext(UsageLogging.scala:424)\n",
       "\tat com.databricks.logging.UsageLogging.withAttributionContext$(UsageLogging.scala:418)\n",
       "\tat com.databricks.backend.daemon.driver.DriverLocal.withAttributionContext(DriverLocal.scala:85)\n",
       "\tat com.databricks.logging.UsageLogging.withAttributionTags(UsageLogging.scala:472)\n",
       "\tat com.databricks.logging.UsageLogging.withAttributionTags$(UsageLogging.scala:455)\n",
       "\tat com.databricks.backend.daemon.driver.DriverLocal.withAttributionTags(DriverLocal.scala:85)\n",
       "\tat com.databricks.backend.daemon.driver.DriverLocal.execute(DriverLocal.scala:1003)\n",
       "\tat com.databricks.backend.daemon.driver.DriverWrapper.$anonfun$tryExecutingCommand$1(DriverWrapper.scala:739)\n",
       "\tat scala.util.Try$.apply(Try.scala:213)\n",
       "\tat com.databricks.backend.daemon.driver.DriverWrapper.tryExecutingCommand(DriverWrapper.scala:731)\n",
       "\tat com.databricks.backend.daemon.driver.DriverWrapper.executeCommandAndGetError(DriverWrapper.scala:640)\n",
       "\tat com.databricks.backend.daemon.driver.DriverWrapper.executeCommand(DriverWrapper.scala:685)\n",
       "\tat com.databricks.backend.daemon.driver.DriverWrapper.runInnerLoop(DriverWrapper.scala:517)\n",
       "\tat com.databricks.backend.daemon.driver.DriverWrapper.runInner(DriverWrapper.scala:433)\n",
       "\tat com.databricks.backend.daemon.driver.DriverWrapper.run(DriverWrapper.scala:275)\n",
       "\tat java.lang.Thread.run(Thread.java:750)"
      ]
     },
     "metadata": {
      "application/vnd.databricks.v1+output": {
       "arguments": {},
       "data": "com.databricks.backend.common.rpc.SparkDriverExceptions$SQLExecutionException: org.apache.spark.SparkException: Job aborted due to stage failure: Task 3 in stage 52.0 failed 1 times, most recent failure: Lost task 3.0 in stage 52.0 (TID 120) (ip-10-172-243-241.us-west-2.compute.internal executor driver): org.apache.spark.SparkDateTimeException: [CAST_INVALID_INPUT] The value '1978-01-14T04:00:00.000+000' of the type \"STRING\" cannot be cast to \"TIMESTAMP\" because it is malformed. Correct the value as per the syntax, or change its target type. Use `try_cast` to tolerate malformed input and return NULL instead. If necessary set \"spark.sql.ansi.enabled\" to \"false\" to bypass this error. SQLSTATE: 22018\n== SQL (line 1, position 1) ==\nMERGE INTO people_10m\n^^^^^^^^^^^^^^^^^^^^^\nUSING people_updates\n^^^^^^^^^^^^^^^^^^^^\nON people_10m.id = people_updates.id\n^^^^^^^^^^^^^^^^^^^^^^^^^^^^^^^^^^^^\nWHEN MATCHED THEN UPDATE SET *\n^^^^^^^^^^^^^^^^^^^^^^^^^^^^^^\nWHEN NOT MATCHED THEN INSERT *\n^^^^^^^^^^^^^^^^^^^^^^^^^^^^^^\n\n\tat org.apache.spark.sql.errors.ExecutionErrors.invalidInputInCastToDatetimeErrorInternal(ExecutionErrors.scala:114)\n\tat org.apache.spark.sql.errors.ExecutionErrors.invalidInputInCastToDatetimeErrorInternal$(ExecutionErrors.scala:101)\n\tat org.apache.spark.sql.errors.ExecutionErrors$.invalidInputInCastToDatetimeErrorInternal(ExecutionErrors.scala:230)\n\tat org.apache.spark.sql.errors.ExecutionErrors.invalidInputInCastToDatetimeError(ExecutionErrors.scala:91)\n\tat org.apache.spark.sql.errors.ExecutionErrors.invalidInputInCastToDatetimeError$(ExecutionErrors.scala:87)\n\tat org.apache.spark.sql.errors.ExecutionErrors$.invalidInputInCastToDatetimeError(ExecutionErrors.scala:230)\n\tat org.apache.spark.sql.catalyst.util.SparkDateTimeUtils.$anonfun$stringToTimestampAnsi$1(SparkDateTimeUtils.scala:588)\n\tat scala.Option.getOrElse(Option.scala:189)\n\tat org.apache.spark.sql.catalyst.util.SparkDateTimeUtils.stringToTimestampAnsi(SparkDateTimeUtils.scala:588)\n\tat org.apache.spark.sql.catalyst.util.SparkDateTimeUtils.stringToTimestampAnsi$(SparkDateTimeUtils.scala:583)\n\tat org.apache.spark.sql.catalyst.util.DateTimeUtils$.stringToTimestampAnsi(DateTimeUtils.scala:40)\n\tat org.apache.spark.sql.catalyst.util.DateTimeUtils.stringToTimestampAnsi(DateTimeUtils.scala)\n\tat org.apache.spark.sql.catalyst.expressions.GeneratedClass$GeneratedIteratorForCodegenStage3.processNext(Unknown Source)\n\tat org.apache.spark.sql.execution.BufferedRowIterator.hasNext(BufferedRowIterator.java:43)\n\tat org.apache.spark.sql.execution.WholeStageCodegenEvaluatorFactory$WholeStageCodegenPartitionEvaluator$$anon$1.hasNext(WholeStageCodegenEvaluatorFactory.scala:43)\n\tat org.apache.spark.sql.execution.datasources.FileFormatWriter$.executeTask(FileFormatWriter.scala:525)\n\tat org.apache.spark.sql.execution.datasources.WriteFilesExec.$anonfun$doExecuteWrite$1(WriteFiles.scala:116)\n\tat org.apache.spark.rdd.RDD.$anonfun$mapPartitionsInternal$2(RDD.scala:931)\n\tat org.apache.spark.rdd.RDD.$anonfun$mapPartitionsInternal$2$adapted(RDD.scala:931)\n\tat org.apache.spark.rdd.MapPartitionsRDD.compute(MapPartitionsRDD.scala:60)\n\tat org.apache.spark.rdd.RDD.$anonfun$computeOrReadCheckpoint$1(RDD.scala:407)\n\tat com.databricks.spark.util.ExecutorFrameProfiler$.record(ExecutorFrameProfiler.scala:110)\n\tat org.apache.spark.rdd.RDD.computeOrReadCheckpoint(RDD.scala:404)\n\tat org.apache.spark.rdd.RDD.iterator(RDD.scala:371)\n\tat org.apache.spark.scheduler.ResultTask.$anonfun$runTask$3(ResultTask.scala:82)\n\tat com.databricks.spark.util.ExecutorFrameProfiler$.record(ExecutorFrameProfiler.scala:110)\n\tat org.apache.spark.scheduler.ResultTask.$anonfun$runTask$1(ResultTask.scala:82)\n\tat com.databricks.spark.util.ExecutorFrameProfiler$.record(ExecutorFrameProfiler.scala:110)\n\tat org.apache.spark.scheduler.ResultTask.runTask(ResultTask.scala:62)\n\tat org.apache.spark.TaskContext.runTaskWithListeners(TaskContext.scala:196)\n\tat org.apache.spark.scheduler.Task.doRunTask(Task.scala:181)\n\tat org.apache.spark.scheduler.Task.$anonfun$run$5(Task.scala:146)\n\tat com.databricks.unity.EmptyHandle$.runWithAndClose(UCSHandle.scala:125)\n\tat org.apache.spark.scheduler.Task.$anonfun$run$1(Task.scala:146)\n\tat com.databricks.spark.util.ExecutorFrameProfiler$.record(ExecutorFrameProfiler.scala:110)\n\tat org.apache.spark.scheduler.Task.run(Task.scala:99)\n\tat org.apache.spark.executor.Executor$TaskRunner.$anonfun$run$9(Executor.scala:932)\n\tat org.apache.spark.util.SparkErrorUtils.tryWithSafeFinally(SparkErrorUtils.scala:64)\n\tat org.apache.spark.util.SparkErrorUtils.tryWithSafeFinally$(SparkErrorUtils.scala:61)\n\tat org.apache.spark.util.Utils$.tryWithSafeFinally(Utils.scala:102)\n\tat org.apache.spark.executor.Executor$TaskRunner.$anonfun$run$3(Executor.scala:935)\n\tat scala.runtime.java8.JFunction0$mcV$sp.apply(JFunction0$mcV$sp.java:23)\n\tat com.databricks.spark.util.ExecutorFrameProfiler$.record(ExecutorFrameProfiler.scala:110)\n\tat org.apache.spark.executor.Executor$TaskRunner.run(Executor.scala:827)\n\tat java.util.concurrent.ThreadPoolExecutor.runWorker(ThreadPoolExecutor.java:1149)\n\tat java.util.concurrent.ThreadPoolExecutor$Worker.run(ThreadPoolExecutor.java:624)\n\tat java.lang.Thread.run(Thread.java:750)\n\nDriver stacktrace:\n\tat org.apache.spark.scheduler.DAGScheduler.failJobAndIndependentStages(DAGScheduler.scala:3634)\n\tat org.apache.spark.scheduler.DAGScheduler.$anonfun$abortStage$2(DAGScheduler.scala:3556)\n\tat org.apache.spark.scheduler.DAGScheduler.$anonfun$abortStage$2$adapted(DAGScheduler.scala:3543)\n\tat scala.collection.mutable.ResizableArray.foreach(ResizableArray.scala:62)\n\tat scala.collection.mutable.ResizableArray.foreach$(ResizableArray.scala:55)\n\tat scala.collection.mutable.ArrayBuffer.foreach(ArrayBuffer.scala:49)\n\tat org.apache.spark.scheduler.DAGScheduler.abortStage(DAGScheduler.scala:3543)\n\tat org.apache.spark.scheduler.DAGScheduler.$anonfun$handleTaskSetFailed$1(DAGScheduler.scala:1526)\n\tat org.apache.spark.scheduler.DAGScheduler.$anonfun$handleTaskSetFailed$1$adapted(DAGScheduler.scala:1526)\n\tat scala.Option.foreach(Option.scala:407)\n\tat org.apache.spark.scheduler.DAGScheduler.handleTaskSetFailed(DAGScheduler.scala:1526)\n\tat org.apache.spark.scheduler.DAGSchedulerEventProcessLoop.doOnReceive(DAGScheduler.scala:3880)\n\tat org.apache.spark.scheduler.DAGSchedulerEventProcessLoop.onReceive(DAGScheduler.scala:3792)\n\tat org.apache.spark.scheduler.DAGSchedulerEventProcessLoop.onReceive(DAGScheduler.scala:3780)\n\tat org.apache.spark.util.EventLoop$$anon$1.run(EventLoop.scala:51)\n\tat org.apache.spark.scheduler.DAGScheduler.$anonfun$runJob$1(DAGScheduler.scala:1250)\n\tat scala.runtime.java8.JFunction0$mcV$sp.apply(JFunction0$mcV$sp.java:23)\n\tat com.databricks.spark.util.FrameProfiler$.record(FrameProfiler.scala:94)\n\tat org.apache.spark.scheduler.DAGScheduler.runJob(DAGScheduler.scala:1238)\n\tat org.apache.spark.SparkContext.runJobInternal(SparkContext.scala:2996)\n\tat org.apache.spark.SparkContext.runJob(SparkContext.scala:2979)\n\tat org.apache.spark.sql.execution.datasources.FileFormatWriter$.$anonfun$executeWrite$4(FileFormatWriter.scala:421)\n\tat org.apache.spark.sql.execution.datasources.FileFormatWriter$.writeAndCommit(FileFormatWriter.scala:385)\n\tat org.apache.spark.sql.execution.datasources.FileFormatWriter$.executeWrite(FileFormatWriter.scala:418)\n\tat org.apache.spark.sql.execution.datasources.FileFormatWriter$.$anonfun$write$1(FileFormatWriter.scala:292)\n\tat com.databricks.spark.util.FrameProfiler$.record(FrameProfiler.scala:94)\n\tat org.apache.spark.sql.execution.datasources.FileFormatWriter$.write(FileFormatWriter.scala:117)\n\tat com.databricks.sql.transaction.tahoe.commands.WriteIntoDeltaCommand.run(WriteIntoDeltaCommand.scala:114)\n\tat org.apache.spark.sql.execution.command.DataWritingCommandExec.$anonfun$sideEffectResult$5(commands.scala:136)\n\tat org.apache.spark.sql.execution.SparkPlan.runCommandWithAetherOff(SparkPlan.scala:171)\n\tat org.apache.spark.sql.execution.command.DataWritingCommandExec.$anonfun$sideEffectResult$4(commands.scala:136)\n\tat com.databricks.spark.util.FrameProfiler$.record(FrameProfiler.scala:94)\n\tat org.apache.spark.sql.execution.command.DataWritingCommandExec.sideEffectResult$lzycompute(commands.scala:132)\n\tat org.apache.spark.sql.execution.command.DataWritingCommandExec.sideEffectResult(commands.scala:131)\n\tat org.apache.spark.sql.execution.command.DataWritingCommandExec.$anonfun$doExecute$4(commands.scala:160)\n\tat com.databricks.spark.util.FrameProfiler$.record(FrameProfiler.scala:94)\n\tat org.apache.spark.sql.execution.command.DataWritingCommandExec.doExecute(commands.scala:160)\n\tat org.apache.spark.sql.execution.SparkPlan.$anonfun$execute$2(SparkPlan.scala:304)\n\tat com.databricks.spark.util.FrameProfiler$.record(FrameProfiler.scala:94)\n\tat org.apache.spark.sql.execution.SparkPlan.$anonfun$execute$1(SparkPlan.scala:304)\n\tat org.apache.spark.sql.execution.SparkPlan$.org$apache$spark$sql$execution$SparkPlan$$withExecuteQueryLogging(SparkPlan.scala:123)\n\tat org.apache.spark.sql.execution.SparkPlan.$anonfun$executeQuery$1(SparkPlan.scala:362)\n\tat org.apache.spark.rdd.RDDOperationScope$.withScope(RDDOperationScope.scala:165)\n\tat org.apache.spark.sql.execution.SparkPlan.executeQuery(SparkPlan.scala:358)\n\tat org.apache.spark.sql.execution.SparkPlan.execute(SparkPlan.scala:299)\n\tat org.apache.spark.sql.execution.adaptive.AdaptiveSparkPlanExec.$anonfun$doExecute$1(AdaptiveSparkPlanExec.scala:762)\n\tat org.apache.spark.sql.execution.adaptive.ResultQueryStageExec.$anonfun$doMaterialize$1(QueryStageExec.scala:530)\n\tat org.apache.spark.sql.SparkSession.withActive(SparkSession.scala:1140)\n\tat org.apache.spark.sql.execution.SQLExecution$.$anonfun$withThreadLocalCaptured$5(SQLExecution.scala:677)\n\tat com.databricks.util.LexicalThreadLocal$Handle.runWith(LexicalThreadLocal.scala:63)\n\tat org.apache.spark.sql.execution.SQLExecution$.$anonfun$withThreadLocalCaptured$4(SQLExecution.scala:677)\n\tat scala.util.DynamicVariable.withValue(DynamicVariable.scala:62)\n\tat org.apache.spark.sql.execution.SQLExecution$.$anonfun$withThreadLocalCaptured$3(SQLExecution.scala:676)\n\tat scala.util.DynamicVariable.withValue(DynamicVariable.scala:62)\n\tat org.apache.spark.sql.execution.SQLExecution$.$anonfun$withThreadLocalCaptured$2(SQLExecution.scala:675)\n\tat com.databricks.sql.transaction.tahoe.OptimisticTransaction$.withActive(OptimisticTransaction.scala:187)\n\tat org.apache.spark.sql.execution.SQLExecution$.withOptimisticTransaction(SQLExecution.scala:694)\n\tat org.apache.spark.sql.execution.SQLExecution$.$anonfun$withThreadLocalCaptured$1(SQLExecution.scala:674)\n\tat java.util.concurrent.CompletableFuture$AsyncSupply.run(CompletableFuture.java:1604)\n\tat org.apache.spark.util.threads.SparkThreadLocalCapturingRunnable.$anonfun$run$1(SparkThreadLocalForwardingThreadPoolExecutor.scala:134)\n\tat scala.runtime.java8.JFunction0$mcV$sp.apply(JFunction0$mcV$sp.java:23)\n\tat com.databricks.spark.util.IdentityClaim$.withClaim(IdentityClaim.scala:48)\n\tat org.apache.spark.util.threads.SparkThreadLocalCapturingHelper.$anonfun$runWithCaptured$4(SparkThreadLocalForwardingThreadPoolExecutor.scala:91)\n\tat com.databricks.unity.UCSEphemeralState$Handle.runWith(UCSEphemeralState.scala:41)\n\tat org.apache.spark.util.threads.SparkThreadLocalCapturingHelper.runWithCaptured(SparkThreadLocalForwardingThreadPoolExecutor.scala:90)\n\tat org.apache.spark.util.threads.SparkThreadLocalCapturingHelper.runWithCaptured$(SparkThreadLocalForwardingThreadPoolExecutor.scala:67)\n\tat org.apache.spark.util.threads.SparkThreadLocalCapturingRunnable.runWithCaptured(SparkThreadLocalForwardingThreadPoolExecutor.scala:131)\n\tat org.apache.spark.util.threads.SparkThreadLocalCapturingRunnable.run(SparkThreadLocalForwardingThreadPoolExecutor.scala:134)\n\tat java.util.concurrent.ThreadPoolExecutor.runWorker(ThreadPoolExecutor.java:1149)\n\tat java.util.concurrent.ThreadPoolExecutor$Worker.run(ThreadPoolExecutor.java:624)\n\tat java.lang.Thread.run(Thread.java:750)\nCaused by: org.apache.spark.SparkDateTimeException: [CAST_INVALID_INPUT] The value '1978-01-14T04:00:00.000+000' of the type \"STRING\" cannot be cast to \"TIMESTAMP\" because it is malformed. Correct the value as per the syntax, or change its target type. Use `try_cast` to tolerate malformed input and return NULL instead. If necessary set \"spark.sql.ansi.enabled\" to \"false\" to bypass this error. SQLSTATE: 22018\n== SQL (line 1, position 1) ==\nMERGE INTO people_10m\n^^^^^^^^^^^^^^^^^^^^^\nUSING people_updates\n^^^^^^^^^^^^^^^^^^^^\nON people_10m.id = people_updates.id\n^^^^^^^^^^^^^^^^^^^^^^^^^^^^^^^^^^^^\nWHEN MATCHED THEN UPDATE SET *\n^^^^^^^^^^^^^^^^^^^^^^^^^^^^^^\nWHEN NOT MATCHED THEN INSERT *\n^^^^^^^^^^^^^^^^^^^^^^^^^^^^^^\n\n\tat org.apache.spark.sql.errors.ExecutionErrors.invalidInputInCastToDatetimeErrorInternal(ExecutionErrors.scala:114)\n\tat org.apache.spark.sql.errors.ExecutionErrors.invalidInputInCastToDatetimeErrorInternal$(ExecutionErrors.scala:101)\n\tat org.apache.spark.sql.errors.ExecutionErrors$.invalidInputInCastToDatetimeErrorInternal(ExecutionErrors.scala:230)\n\tat org.apache.spark.sql.errors.ExecutionErrors.invalidInputInCastToDatetimeError(ExecutionErrors.scala:91)\n\tat org.apache.spark.sql.errors.ExecutionErrors.invalidInputInCastToDatetimeError$(ExecutionErrors.scala:87)\n\tat org.apache.spark.sql.errors.ExecutionErrors$.invalidInputInCastToDatetimeError(ExecutionErrors.scala:230)\n\tat org.apache.spark.sql.catalyst.util.SparkDateTimeUtils.$anonfun$stringToTimestampAnsi$1(SparkDateTimeUtils.scala:588)\n\tat scala.Option.getOrElse(Option.scala:189)\n\tat org.apache.spark.sql.catalyst.util.SparkDateTimeUtils.stringToTimestampAnsi(SparkDateTimeUtils.scala:588)\n\tat org.apache.spark.sql.catalyst.util.SparkDateTimeUtils.stringToTimestampAnsi$(SparkDateTimeUtils.scala:583)\n\tat org.apache.spark.sql.catalyst.util.DateTimeUtils$.stringToTimestampAnsi(DateTimeUtils.scala:40)\n\tat org.apache.spark.sql.catalyst.util.DateTimeUtils.stringToTimestampAnsi(DateTimeUtils.scala)\n\tat org.apache.spark.sql.catalyst.expressions.GeneratedClass$GeneratedIteratorForCodegenStage3.processNext(Unknown Source)\n\tat org.apache.spark.sql.execution.BufferedRowIterator.hasNext(BufferedRowIterator.java:43)\n\tat org.apache.spark.sql.execution.WholeStageCodegenEvaluatorFactory$WholeStageCodegenPartitionEvaluator$$anon$1.hasNext(WholeStageCodegenEvaluatorFactory.scala:43)\n\tat org.apache.spark.sql.execution.datasources.FileFormatWriter$.executeTask(FileFormatWriter.scala:525)\n\tat org.apache.spark.sql.execution.datasources.WriteFilesExec.$anonfun$doExecuteWrite$1(WriteFiles.scala:116)\n\tat org.apache.spark.rdd.RDD.$anonfun$mapPartitionsInternal$2(RDD.scala:931)\n\tat org.apache.spark.rdd.RDD.$anonfun$mapPartitionsInternal$2$adapted(RDD.scala:931)\n\tat org.apache.spark.rdd.MapPartitionsRDD.compute(MapPartitionsRDD.scala:60)\n\tat org.apache.spark.rdd.RDD.$anonfun$computeOrReadCheckpoint$1(RDD.scala:407)\n\tat com.databricks.spark.util.ExecutorFrameProfiler$.record(ExecutorFrameProfiler.scala:110)\n\tat org.apache.spark.rdd.RDD.computeOrReadCheckpoint(RDD.scala:404)\n\tat org.apache.spark.rdd.RDD.iterator(RDD.scala:371)\n\tat org.apache.spark.scheduler.ResultTask.$anonfun$runTask$3(ResultTask.scala:82)\n\tat com.databricks.spark.util.ExecutorFrameProfiler$.record(ExecutorFrameProfiler.scala:110)\n\tat org.apache.spark.scheduler.ResultTask.$anonfun$runTask$1(ResultTask.scala:82)\n\tat com.databricks.spark.util.ExecutorFrameProfiler$.record(ExecutorFrameProfiler.scala:110)\n\tat org.apache.spark.scheduler.ResultTask.runTask(ResultTask.scala:62)\n\tat org.apache.spark.TaskContext.runTaskWithListeners(TaskContext.scala:196)\n\tat org.apache.spark.scheduler.Task.doRunTask(Task.scala:181)\n\tat org.apache.spark.scheduler.Task.$anonfun$run$5(Task.scala:146)\n\tat com.databricks.unity.EmptyHandle$.runWithAndClose(UCSHandle.scala:125)\n\tat org.apache.spark.scheduler.Task.$anonfun$run$1(Task.scala:146)\n\tat com.databricks.spark.util.ExecutorFrameProfiler$.record(ExecutorFrameProfiler.scala:110)\n\tat org.apache.spark.scheduler.Task.run(Task.scala:99)\n\tat org.apache.spark.executor.Executor$TaskRunner.$anonfun$run$9(Executor.scala:932)\n\tat org.apache.spark.util.SparkErrorUtils.tryWithSafeFinally(SparkErrorUtils.scala:64)\n\tat org.apache.spark.util.SparkErrorUtils.tryWithSafeFinally$(SparkErrorUtils.scala:61)\n\tat org.apache.spark.util.Utils$.tryWithSafeFinally(Utils.scala:102)\n\tat org.apache.spark.executor.Executor$TaskRunner.$anonfun$run$3(Executor.scala:935)\n\tat scala.runtime.java8.JFunction0$mcV$sp.apply(JFunction0$mcV$sp.java:23)\n\tat com.databricks.spark.util.ExecutorFrameProfiler$.record(ExecutorFrameProfiler.scala:110)\n\tat org.apache.spark.executor.Executor$TaskRunner.run(Executor.scala:827)\n\t... 3 more\n\n\tat com.databricks.backend.daemon.driver.DriverLocal.executeSql(DriverLocal.scala:427)\n\tat com.databricks.backend.daemon.driver.SQLDriverLocal.repl(SQLDriverLocal.scala:39)\n\tat com.databricks.backend.daemon.driver.DriverLocal.$anonfun$execute$34(DriverLocal.scala:1083)\n\tat com.databricks.unity.EmptyHandle$.runWith(UCSHandle.scala:124)\n\tat com.databricks.backend.daemon.driver.DriverLocal.$anonfun$execute$22(DriverLocal.scala:1066)\n\tat com.databricks.logging.UsageLogging.$anonfun$withAttributionContext$1(UsageLogging.scala:426)\n\tat scala.util.DynamicVariable.withValue(DynamicVariable.scala:62)\n\tat com.databricks.logging.AttributionContext$.withValue(AttributionContext.scala:216)\n\tat com.databricks.logging.UsageLogging.withAttributionContext(UsageLogging.scala:424)\n\tat com.databricks.logging.UsageLogging.withAttributionContext$(UsageLogging.scala:418)\n\tat com.databricks.backend.daemon.driver.DriverLocal.withAttributionContext(DriverLocal.scala:85)\n\tat com.databricks.logging.UsageLogging.withAttributionTags(UsageLogging.scala:472)\n\tat com.databricks.logging.UsageLogging.withAttributionTags$(UsageLogging.scala:455)\n\tat com.databricks.backend.daemon.driver.DriverLocal.withAttributionTags(DriverLocal.scala:85)\n\tat com.databricks.backend.daemon.driver.DriverLocal.execute(DriverLocal.scala:1003)\n\tat com.databricks.backend.daemon.driver.DriverWrapper.$anonfun$tryExecutingCommand$1(DriverWrapper.scala:739)\n\tat scala.util.Try$.apply(Try.scala:213)\n\tat com.databricks.backend.daemon.driver.DriverWrapper.tryExecutingCommand(DriverWrapper.scala:731)\n\tat com.databricks.backend.daemon.driver.DriverWrapper.executeCommandAndGetError(DriverWrapper.scala:640)\n\tat com.databricks.backend.daemon.driver.DriverWrapper.executeCommand(DriverWrapper.scala:685)\n\tat com.databricks.backend.daemon.driver.DriverWrapper.runInnerLoop(DriverWrapper.scala:517)\n\tat com.databricks.backend.daemon.driver.DriverWrapper.runInner(DriverWrapper.scala:433)\n\tat com.databricks.backend.daemon.driver.DriverWrapper.run(DriverWrapper.scala:275)\n\tat java.lang.Thread.run(Thread.java:750)\n",
       "errorSummary": "SparkException: Job aborted due to stage failure: Task 3 in stage 52.0 failed 1 times, most recent failure: Lost task 3.0 in stage 52.0 (TID 120) (ip-10-172-243-241.us-west-2.compute.internal executor driver): org.apache.spark.SparkDateTimeException: [CAST_INVALID_INPUT] The value '1978-01-14T04:00:00.000+000' of the type \"STRING\" cannot be cast to \"TIMESTAMP\" because it is malformed. Correct the value as per the syntax, or change its target type. Use `try_cast` to tolerate malformed input and return NULL instead. If necessary set \"spark.sql.ansi.enabled\" to \"false\" to bypass this error. SQLSTATE: 22018\n== SQL (line 1, position 1) ==\nMERGE INTO people_10m\n^^^^^^^^^^^^^^^^^^^^^\nUSING people_updates\n^^^^^^^^^^^^^^^^^^^^\nON people_10m.id = people_updates.id\n^^^^^^^^^^^^^^^^^^^^^^^^^^^^^^^^^^^^\nWHEN MATCHED THEN UPDATE SET *\n^^^^^^^^^^^^^^^^^^^^^^^^^^^^^^\nWHEN NOT MATCHED THEN INSERT *\n^^^^^^^^^^^^^^^^^^^^^^^^^^^^^^\n\n\tat org.apache.spark.sql.errors.ExecutionErrors.invalidInputInCastToDatetimeErrorInternal(ExecutionErrors.scala:114)\n\tat org.apache.spark.sql.errors.ExecutionErrors.invalidInputInCastToDatetimeErrorInternal$(ExecutionErrors.scala:101)\n\tat org.apache.spark.sql.errors.ExecutionErrors$.invalidInputInCastToDatetimeErrorInternal(ExecutionErrors.scala:230)\n\tat org.apache.spark.sql.errors.ExecutionErrors.invalidInputInCastToDatetimeError(ExecutionErrors.scala:91)\n\tat org.apache.spark.sql.errors.ExecutionErrors.invalidInputInCastToDatetimeError$(ExecutionErrors.scala:87)\n\tat org.apache.spark.sql.errors.ExecutionErrors$.invalidInputInCastToDatetimeError(ExecutionErrors.scala:230)\n\tat org.apache.spark.sql.catalyst.util.SparkDateTimeUtils.$anonfun$stringToTimestampAnsi$1(SparkDateTimeUtils.scala:588)\n\tat scala.Option.getOrElse(Option.scala:189)\n\tat org.apache.spark.sql.catalyst.util.SparkDateTimeUtils.stringToTimestampAnsi(SparkDateTimeUtils.scala:588)\n\tat org.apache.spark.sql.catalyst.util.SparkDateTimeUtils.stringToTimestampAnsi$(SparkDateTimeUtils.scala:583)\n\tat org.apache.spark.sql.catalyst.util.DateTimeUtils$.stringToTimestampAnsi(DateTimeUtils.scala:40)\n\tat org.apache.spark.sql.catalyst.util.DateTimeUtils.stringToTimestampAnsi(DateTimeUtils.scala)\n\tat org.apache.spark.sql.catalyst.expressions.GeneratedClass$GeneratedIteratorForCodegenStage3.processNext(Unknown Source)\n\tat org.apache.spark.sql.execution.BufferedRowIterator.hasNext(BufferedRowIterator.java:43)\n\tat org.apache.spark.sql.execution.WholeStageCodegenEvaluatorFactory$WholeStageCodegenPartitionEvaluator$$anon$1.hasNext(WholeStageCodegenEvaluatorFactory.scala:43)\n\tat org.apache.spark.sql.execution.datasources.FileFormatWriter$.executeTask(FileFormatWriter.scala:525)\n\tat org.apache.spark.sql.execution.datasources.WriteFilesExec.$anonfun$doExecuteWrite$1(WriteFiles.scala:116)\n\tat org.apache.spark.rdd.RDD.$anonfun$mapPartitionsInternal$2(RDD.scala:931)\n\tat org.apache.spark.rdd.RDD.$anonfun$mapPartitionsInternal$2$adapted(RDD.scala:931)\n\tat org.apache.spark.rdd.MapPartitionsRDD.compute(MapPartitionsRDD.scala:60)\n\tat org.apache.spark.rdd.RDD.$anonfun$computeOrReadCheckpoint$1(RDD.scala:407)\n\tat com.databricks.spark.util.ExecutorFrameProfiler$.record(ExecutorFrameProfiler.scala:110)\n\tat org.apache.spark.rdd.RDD.computeOrReadCheckpoint(RDD.scala:404)\n\tat org.apache.spark.rdd.RDD.iterator(RDD.scala:371)\n\tat org.apache.spark.scheduler.ResultTask.$anonfun$runTask$3(ResultTask.scala:82)\n\tat com.databricks.spark.util.ExecutorFrameProfiler$.record(ExecutorFrameProfiler.scala:110)\n\tat org.apache.spark.scheduler.ResultTask.$anonfun$runTask$1(ResultTask.scala:82)\n\tat com.databricks.spark.util.ExecutorFrameProfiler$.record(ExecutorFrameProfiler.scala:110)\n\tat org.apache.spark.scheduler.ResultTask.runTask(ResultTask.scala:62)\n\tat org.apache.spark.TaskContext.runTaskWithListeners(TaskContext.scala:196)\n\tat org.apache.spark.scheduler.Task.doRunTask(Task.scala:181)\n\tat org.apache.spark.scheduler.Task.$anonfun$run$5(Task.scala:146)\n\tat com.databricks.unity.EmptyHandle$.runWithAndClose(UCSHandle.scala:125)\n\tat org.apache.spark.scheduler.Task.$anonfun$run$1(Task.scala:146)\n\tat com.databricks.spark.util.ExecutorFrameProfiler$.record(ExecutorFrameProfiler.scala:110)\n\tat org.apache.spark.scheduler.Task.run(Task.scala:99)\n\tat org.apache.spark.executor.Executor$TaskRunner.$anonfun$run$9(Executor.scala:932)\n\tat org.apache.spark.util.SparkErrorUtils.tryWithSafeFinally(SparkErrorUtils.scala:64)\n\tat org.apache.spark.util.SparkErrorUtils.tryWithSafeFinally$(SparkErrorUtils.scala:61)\n\tat org.apache.spark.util.Utils$.tryWithSafeFinally(Utils.scala:102)\n\tat org.apache.spark.executor.Executor$TaskRunner.$anonfun$run$3(Executor.scala:935)\n\tat scala.runtime.java8.JFunction0$mcV$sp.apply(JFunction0$mcV$sp.java:23)\n\tat com.databricks.spark.util.ExecutorFrameProfiler$.record(ExecutorFrameProfiler.scala:110)\n\tat org.apache.spark.executor.Executor$TaskRunner.run(Executor.scala:827)\n\tat java.util.concurrent.ThreadPoolExecutor.runWorker(ThreadPoolExecutor.java:1149)\n\tat java.util.concurrent.ThreadPoolExecutor$Worker.run(ThreadPoolExecutor.java:624)\n\tat java.lang.Thread.run(Thread.java:750)\n\nDriver stacktrace:",
       "errorTraceType": "html",
       "metadata": {},
       "type": "ipynbError"
      }
     },
     "output_type": "display_data"
    }
   ],
   "source": [
    "%sql\n",
    "CREATE OR REPLACE TEMP VIEW people_updates (\n",
    "  id, firstName, middleName, lastName, gender, birthDate, ssn, salary\n",
    ") AS VALUES\n",
    "  (9999998, 'Hulk', 'Bruce', 'Banner', 'M', '1992-09-17T04:00:00.000+0000', '953-38-9452', 55250),\n",
    "  (9999999, 'Batman', 'Bruce', 'Wayne', 'M', '1984-05-22T04:00:00.000+0000', '906-51-2137', 48500),\n",
    "  (10000000, 'Thor', 'Chris', 'Hemsworth', 'M', '1968-07-22T04:00:00.000+0000', '988-61-6247', 90000),\n",
    "  (20000001, 'Spiderman', '', 'Parker', 'M', '1978-01-14T04:00:00.000+000', '345-67-8901', 55500),\n",
    "  (20000002, 'Captain', '', 'America', 'M', '1982-10-29T01:00:00.000+000', '456-78-9012', 98250),\n",
    "  (20000003, 'Wonder', '', 'Woman', 'F', '1981-06-25T04:00:00.000+000', '567-89-0123', 89900);\n",
    "\n",
    "MERGE INTO people_10m\n",
    "USING people_updates\n",
    "ON people_10m.id = people_updates.id\n",
    "WHEN MATCHED THEN UPDATE SET *\n",
    "WHEN NOT MATCHED THEN INSERT *;"
   ]
  },
  {
   "cell_type": "code",
   "execution_count": 0,
   "metadata": {
    "application/vnd.databricks.v1+cell": {
     "cellMetadata": {
      "byteLimit": 2048000,
      "rowLimit": 10000
     },
     "inputWidgets": {},
     "nuid": "a7d6461c-5c14-4364-ad23-5ddc4673a6d0",
     "showTitle": true,
     "title": "We have a Date Error - Lets See the Data types in the Table"
    }
   },
   "outputs": [
    {
     "output_type": "display_data",
     "data": {
      "text/html": [
       "<style scoped>\n",
       "  .table-result-container {\n",
       "    max-height: 300px;\n",
       "    overflow: auto;\n",
       "  }\n",
       "  table, th, td {\n",
       "    border: 1px solid black;\n",
       "    border-collapse: collapse;\n",
       "  }\n",
       "  th, td {\n",
       "    padding: 5px;\n",
       "  }\n",
       "  th {\n",
       "    text-align: left;\n",
       "  }\n",
       "</style><div class='table-result-container'><table class='table-result'><thead style='background-color: white'><tr><th>col_name</th><th>data_type</th><th>comment</th></tr></thead><tbody><tr><td>id</td><td>int</td><td>null</td></tr><tr><td>firstName</td><td>string</td><td>null</td></tr><tr><td>middleName</td><td>string</td><td>null</td></tr><tr><td>lastName</td><td>string</td><td>null</td></tr><tr><td>gender</td><td>string</td><td>null</td></tr><tr><td>birthDate</td><td>timestamp</td><td>null</td></tr><tr><td>ssn</td><td>string</td><td>null</td></tr><tr><td>salary</td><td>int</td><td>null</td></tr></tbody></table></div>"
      ]
     },
     "metadata": {
      "application/vnd.databricks.v1+output": {
       "addedWidgets": {},
       "aggData": [],
       "aggError": "",
       "aggOverflow": false,
       "aggSchema": [],
       "aggSeriesLimitReached": false,
       "aggType": "",
       "arguments": {},
       "columnCustomDisplayInfos": {},
       "data": [
        [
         "id",
         "int",
         null
        ],
        [
         "firstName",
         "string",
         null
        ],
        [
         "middleName",
         "string",
         null
        ],
        [
         "lastName",
         "string",
         null
        ],
        [
         "gender",
         "string",
         null
        ],
        [
         "birthDate",
         "timestamp",
         null
        ],
        [
         "ssn",
         "string",
         null
        ],
        [
         "salary",
         "int",
         null
        ]
       ],
       "datasetInfos": [],
       "dbfsResultPath": null,
       "isJsonSchema": true,
       "metadata": {
        "isDbfsCommandResult": false
       },
       "overflow": false,
       "plotOptions": {
        "customPlotOptions": {},
        "displayType": "table",
        "pivotAggregation": null,
        "pivotColumns": null,
        "xColumns": null,
        "yColumns": null
       },
       "removedWidgets": [],
       "schema": [
        {
         "metadata": "{\"comment\":\"name of the column\"}",
         "name": "col_name",
         "type": "\"string\""
        },
        {
         "metadata": "{\"comment\":\"data type of the column\"}",
         "name": "data_type",
         "type": "\"string\""
        },
        {
         "metadata": "{\"comment\":\"comment of the column\"}",
         "name": "comment",
         "type": "\"string\""
        }
       ],
       "type": "table"
      }
     },
     "output_type": "display_data"
    }
   ],
   "source": [
    "%sql\n",
    "DESCRIBE people_10m;"
   ]
  },
  {
   "cell_type": "code",
   "execution_count": 0,
   "metadata": {
    "application/vnd.databricks.v1+cell": {
     "cellMetadata": {
      "byteLimit": 2048000,
      "rowLimit": 10000
     },
     "inputWidgets": {},
     "nuid": "e8aa49c5-e9ad-4109-a8ec-4570372bbeee",
     "showTitle": true,
     "title": "Just see the columns"
    }
   },
   "outputs": [
    {
     "output_type": "display_data",
     "data": {
      "text/html": [
       "<style scoped>\n",
       "  .table-result-container {\n",
       "    max-height: 300px;\n",
       "    overflow: auto;\n",
       "  }\n",
       "  table, th, td {\n",
       "    border: 1px solid black;\n",
       "    border-collapse: collapse;\n",
       "  }\n",
       "  th, td {\n",
       "    padding: 5px;\n",
       "  }\n",
       "  th {\n",
       "    text-align: left;\n",
       "  }\n",
       "</style><div class='table-result-container'><table class='table-result'><thead style='background-color: white'><tr><th>col_name</th></tr></thead><tbody><tr><td>id</td></tr><tr><td>firstName</td></tr><tr><td>middleName</td></tr><tr><td>lastName</td></tr><tr><td>gender</td></tr><tr><td>birthDate</td></tr><tr><td>ssn</td></tr><tr><td>salary</td></tr></tbody></table></div>"
      ]
     },
     "metadata": {
      "application/vnd.databricks.v1+output": {
       "addedWidgets": {},
       "aggData": [],
       "aggError": "",
       "aggOverflow": false,
       "aggSchema": [],
       "aggSeriesLimitReached": false,
       "aggType": "",
       "arguments": {},
       "columnCustomDisplayInfos": {},
       "data": [
        [
         "id"
        ],
        [
         "firstName"
        ],
        [
         "middleName"
        ],
        [
         "lastName"
        ],
        [
         "gender"
        ],
        [
         "birthDate"
        ],
        [
         "ssn"
        ],
        [
         "salary"
        ]
       ],
       "datasetInfos": [],
       "dbfsResultPath": null,
       "isJsonSchema": true,
       "metadata": {
        "isDbfsCommandResult": false
       },
       "overflow": false,
       "plotOptions": {
        "customPlotOptions": {},
        "displayType": "table",
        "pivotAggregation": null,
        "pivotColumns": null,
        "xColumns": null,
        "yColumns": null
       },
       "removedWidgets": [],
       "schema": [
        {
         "metadata": "{}",
         "name": "col_name",
         "type": "\"string\""
        }
       ],
       "type": "table"
      }
     },
     "output_type": "display_data"
    }
   ],
   "source": [
    "%sql\n",
    "SHOW COLUMNS FROM people_10m;"
   ]
  },
  {
   "cell_type": "code",
   "execution_count": 0,
   "metadata": {
    "application/vnd.databricks.v1+cell": {
     "cellMetadata": {
      "byteLimit": 2048000,
      "rowLimit": 10000
     },
     "inputWidgets": {},
     "nuid": "222a39f8-4554-44f3-ad70-7bae44164202",
     "showTitle": true,
     "title": "Cast the Birthdate String as timestamp"
    }
   },
   "outputs": [
    {
     "output_type": "display_data",
     "data": {
      "text/html": [
       "<style scoped>\n",
       "  .table-result-container {\n",
       "    max-height: 300px;\n",
       "    overflow: auto;\n",
       "  }\n",
       "  table, th, td {\n",
       "    border: 1px solid black;\n",
       "    border-collapse: collapse;\n",
       "  }\n",
       "  th, td {\n",
       "    padding: 5px;\n",
       "  }\n",
       "  th {\n",
       "    text-align: left;\n",
       "  }\n",
       "</style><div class='table-result-container'><table class='table-result'><thead style='background-color: white'><tr><th>num_affected_rows</th><th>num_updated_rows</th><th>num_deleted_rows</th><th>num_inserted_rows</th></tr></thead><tbody><tr><td>6</td><td>3</td><td>0</td><td>3</td></tr></tbody></table></div>"
      ]
     },
     "metadata": {
      "application/vnd.databricks.v1+output": {
       "addedWidgets": {},
       "aggData": [],
       "aggError": "",
       "aggOverflow": false,
       "aggSchema": [],
       "aggSeriesLimitReached": false,
       "aggType": "",
       "arguments": {},
       "columnCustomDisplayInfos": {},
       "data": [
        [
         6,
         3,
         0,
         3
        ]
       ],
       "datasetInfos": [],
       "dbfsResultPath": null,
       "isJsonSchema": true,
       "metadata": {
        "isDbfsCommandResult": false
       },
       "overflow": false,
       "plotOptions": {
        "customPlotOptions": {},
        "displayType": "table",
        "pivotAggregation": null,
        "pivotColumns": null,
        "xColumns": null,
        "yColumns": null
       },
       "removedWidgets": [],
       "schema": [
        {
         "metadata": "{}",
         "name": "num_affected_rows",
         "type": "\"long\""
        },
        {
         "metadata": "{}",
         "name": "num_updated_rows",
         "type": "\"long\""
        },
        {
         "metadata": "{}",
         "name": "num_deleted_rows",
         "type": "\"long\""
        },
        {
         "metadata": "{}",
         "name": "num_inserted_rows",
         "type": "\"long\""
        }
       ],
       "type": "table"
      }
     },
     "output_type": "display_data"
    }
   ],
   "source": [
    "%sql\n",
    "CREATE OR REPLACE TEMP VIEW people_updates (\n",
    "  id, firstName, middleName, lastName, gender, birthDate, ssn, salary\n",
    ") AS VALUES\n",
    "  (9999998, 'Hulk', 'Bruce', 'Banner', 'M', '1992-09-17T04:00:00.000+0000', '953-38-9452', 55250),\n",
    "  (9999999, 'Batman', 'Bruce', 'Wayne', 'M', '1984-05-22T04:00:00.000+0000', '906-51-2137', 48500),\n",
    "  (10000000, 'Thor', 'Chris', 'Hemsworth', 'M', '1968-07-22T04:00:00.000+0000', '988-61-6247', 90000),\n",
    "  (20000001, 'Spiderman', '', 'Parker', 'M', '1978-01-14T04:00:00.000+000', '345-67-8901', 55500),\n",
    "  (20000002, 'Captain', '', 'America', 'M', '1982-10-29T01:00:00.000+000', '456-78-9012', 98250),\n",
    "  (20000003, 'Wonder', '', 'Woman', 'F', '1981-06-25T04:00:00.000+000', '567-89-0123', 89900);\n",
    "\n",
    "MERGE INTO people_10m\n",
    "USING (\n",
    "  SELECT id, firstName, middleName, lastName, gender, ssn, salary, try_cast(birthDate AS timestamp) AS birthDate\n",
    "  FROM people_updates\n",
    ") AS updates\n",
    "ON people_10m.id = updates.id\n",
    "WHEN MATCHED THEN UPDATE SET *\n",
    "WHEN NOT MATCHED THEN INSERT *"
   ]
  },
  {
   "cell_type": "markdown",
   "metadata": {
    "application/vnd.databricks.v1+cell": {
     "cellMetadata": {},
     "inputWidgets": {},
     "nuid": "88048162-4d41-45d7-9073-e00a3ff8c4cd",
     "showTitle": false,
     "title": ""
    }
   },
   "source": [
    "## Read a table"
   ]
  },
  {
   "cell_type": "code",
   "execution_count": 0,
   "metadata": {
    "application/vnd.databricks.v1+cell": {
     "cellMetadata": {
      "byteLimit": 2048000,
      "rowLimit": 10000
     },
     "inputWidgets": {},
     "nuid": "eab08922-0f11-4dfc-8ca8-f1fe382ca880",
     "showTitle": false,
     "title": ""
    }
   },
   "outputs": [
    {
     "output_type": "display_data",
     "data": {
      "text/html": [
       "<style scoped>\n",
       "  .table-result-container {\n",
       "    max-height: 300px;\n",
       "    overflow: auto;\n",
       "  }\n",
       "  table, th, td {\n",
       "    border: 1px solid black;\n",
       "    border-collapse: collapse;\n",
       "  }\n",
       "  th, td {\n",
       "    padding: 5px;\n",
       "  }\n",
       "  th {\n",
       "    text-align: left;\n",
       "  }\n",
       "</style><div class='table-result-container'><table class='table-result'><thead style='background-color: white'><tr><th>id</th><th>firstName</th><th>middleName</th><th>lastName</th><th>gender</th><th>birthDate</th><th>ssn</th><th>salary</th></tr></thead><tbody><tr><td>5016568</td><td>Enrique</td><td>Emmett</td><td>Carvil</td><td>M</td><td>1960-01-17T05:00:00Z</td><td>909-88-7612</td><td>62241</td></tr><tr><td>5016569</td><td>Jordan</td><td>Alva</td><td>Penk</td><td>M</td><td>1979-05-02T04:00:00Z</td><td>936-39-5888</td><td>74778</td></tr><tr><td>5016570</td><td>Leo</td><td>Merlin</td><td>Conkay</td><td>M</td><td>1981-05-21T04:00:00Z</td><td>919-71-2948</td><td>82321</td></tr><tr><td>5016571</td><td>Bernard</td><td>Wiley</td><td>Thackham</td><td>M</td><td>1983-10-12T04:00:00Z</td><td>976-38-5505</td><td>72797</td></tr><tr><td>5016572</td><td>Devin</td><td>Loyd</td><td>Gipp</td><td>M</td><td>1990-01-20T05:00:00Z</td><td>934-44-9546</td><td>99538</td></tr><tr><td>5016573</td><td>Howard</td><td>Wade</td><td>Cokly</td><td>M</td><td>1979-04-10T05:00:00Z</td><td>901-17-5955</td><td>39998</td></tr><tr><td>5016574</td><td>Clyde</td><td>Anibal</td><td>Silvester</td><td>M</td><td>1964-02-03T05:00:00Z</td><td>992-74-4926</td><td>88749</td></tr><tr><td>5016575</td><td>Craig</td><td>Doug</td><td>Dohmer</td><td>M</td><td>1971-10-28T04:00:00Z</td><td>943-46-5612</td><td>75135</td></tr><tr><td>5016576</td><td>Eddie</td><td>Mikel</td><td>Handyside</td><td>M</td><td>1962-01-07T05:00:00Z</td><td>916-66-9845</td><td>67990</td></tr><tr><td>5016577</td><td>Burton</td><td>Scotty</td><td>Broggini</td><td>M</td><td>1968-02-16T05:00:00Z</td><td>973-55-2258</td><td>64515</td></tr></tbody></table></div>"
      ]
     },
     "metadata": {
      "application/vnd.databricks.v1+output": {
       "addedWidgets": {},
       "aggData": [],
       "aggError": "",
       "aggOverflow": false,
       "aggSchema": [],
       "aggSeriesLimitReached": false,
       "aggType": "",
       "arguments": {},
       "columnCustomDisplayInfos": {},
       "data": [
        [
         5016568,
         "Enrique",
         "Emmett",
         "Carvil",
         "M",
         "1960-01-17T05:00:00Z",
         "909-88-7612",
         62241
        ],
        [
         5016569,
         "Jordan",
         "Alva",
         "Penk",
         "M",
         "1979-05-02T04:00:00Z",
         "936-39-5888",
         74778
        ],
        [
         5016570,
         "Leo",
         "Merlin",
         "Conkay",
         "M",
         "1981-05-21T04:00:00Z",
         "919-71-2948",
         82321
        ],
        [
         5016571,
         "Bernard",
         "Wiley",
         "Thackham",
         "M",
         "1983-10-12T04:00:00Z",
         "976-38-5505",
         72797
        ],
        [
         5016572,
         "Devin",
         "Loyd",
         "Gipp",
         "M",
         "1990-01-20T05:00:00Z",
         "934-44-9546",
         99538
        ],
        [
         5016573,
         "Howard",
         "Wade",
         "Cokly",
         "M",
         "1979-04-10T05:00:00Z",
         "901-17-5955",
         39998
        ],
        [
         5016574,
         "Clyde",
         "Anibal",
         "Silvester",
         "M",
         "1964-02-03T05:00:00Z",
         "992-74-4926",
         88749
        ],
        [
         5016575,
         "Craig",
         "Doug",
         "Dohmer",
         "M",
         "1971-10-28T04:00:00Z",
         "943-46-5612",
         75135
        ],
        [
         5016576,
         "Eddie",
         "Mikel",
         "Handyside",
         "M",
         "1962-01-07T05:00:00Z",
         "916-66-9845",
         67990
        ],
        [
         5016577,
         "Burton",
         "Scotty",
         "Broggini",
         "M",
         "1968-02-16T05:00:00Z",
         "973-55-2258",
         64515
        ]
       ],
       "datasetInfos": [],
       "dbfsResultPath": null,
       "isJsonSchema": true,
       "metadata": {
        "isDbfsCommandResult": false
       },
       "overflow": false,
       "plotOptions": {
        "customPlotOptions": {},
        "displayType": "table",
        "pivotAggregation": null,
        "pivotColumns": null,
        "xColumns": null,
        "yColumns": null
       },
       "removedWidgets": [],
       "schema": [
        {
         "metadata": "{}",
         "name": "id",
         "type": "\"integer\""
        },
        {
         "metadata": "{}",
         "name": "firstName",
         "type": "\"string\""
        },
        {
         "metadata": "{}",
         "name": "middleName",
         "type": "\"string\""
        },
        {
         "metadata": "{}",
         "name": "lastName",
         "type": "\"string\""
        },
        {
         "metadata": "{}",
         "name": "gender",
         "type": "\"string\""
        },
        {
         "metadata": "{}",
         "name": "birthDate",
         "type": "\"timestamp\""
        },
        {
         "metadata": "{}",
         "name": "ssn",
         "type": "\"string\""
        },
        {
         "metadata": "{}",
         "name": "salary",
         "type": "\"integer\""
        }
       ],
       "type": "table"
      }
     },
     "output_type": "display_data"
    }
   ],
   "source": [
    "%sql\n",
    "select * from people_10m limit 10;"
   ]
  },
  {
   "cell_type": "code",
   "execution_count": 0,
   "metadata": {
    "application/vnd.databricks.v1+cell": {
     "cellMetadata": {
      "byteLimit": 2048000,
      "rowLimit": 10000
     },
     "inputWidgets": {},
     "nuid": "9e71b758-7a6f-4fa3-8dc9-0cecce110ded",
     "showTitle": false,
     "title": ""
    }
   },
   "outputs": [
    {
     "output_type": "display_data",
     "data": {
      "text/html": [
       "<style scoped>\n",
       "  .table-result-container {\n",
       "    max-height: 300px;\n",
       "    overflow: auto;\n",
       "  }\n",
       "  table, th, td {\n",
       "    border: 1px solid black;\n",
       "    border-collapse: collapse;\n",
       "  }\n",
       "  th, td {\n",
       "    padding: 5px;\n",
       "  }\n",
       "  th {\n",
       "    text-align: left;\n",
       "  }\n",
       "</style><div class='table-result-container'><table class='table-result'><thead style='background-color: white'><tr><th>id</th><th>firstName</th><th>middleName</th><th>lastName</th><th>gender</th><th>birthDate</th><th>ssn</th><th>salary</th></tr></thead><tbody><tr><td>5016568</td><td>Enrique</td><td>Emmett</td><td>Carvil</td><td>M</td><td>1960-01-17T05:00:00Z</td><td>909-88-7612</td><td>62241</td></tr><tr><td>5016569</td><td>Jordan</td><td>Alva</td><td>Penk</td><td>M</td><td>1979-05-02T04:00:00Z</td><td>936-39-5888</td><td>74778</td></tr><tr><td>5016570</td><td>Leo</td><td>Merlin</td><td>Conkay</td><td>M</td><td>1981-05-21T04:00:00Z</td><td>919-71-2948</td><td>82321</td></tr><tr><td>5016571</td><td>Bernard</td><td>Wiley</td><td>Thackham</td><td>M</td><td>1983-10-12T04:00:00Z</td><td>976-38-5505</td><td>72797</td></tr><tr><td>5016572</td><td>Devin</td><td>Loyd</td><td>Gipp</td><td>M</td><td>1990-01-20T05:00:00Z</td><td>934-44-9546</td><td>99538</td></tr><tr><td>5016573</td><td>Howard</td><td>Wade</td><td>Cokly</td><td>M</td><td>1979-04-10T05:00:00Z</td><td>901-17-5955</td><td>39998</td></tr><tr><td>5016574</td><td>Clyde</td><td>Anibal</td><td>Silvester</td><td>M</td><td>1964-02-03T05:00:00Z</td><td>992-74-4926</td><td>88749</td></tr><tr><td>5016575</td><td>Craig</td><td>Doug</td><td>Dohmer</td><td>M</td><td>1971-10-28T04:00:00Z</td><td>943-46-5612</td><td>75135</td></tr><tr><td>5016576</td><td>Eddie</td><td>Mikel</td><td>Handyside</td><td>M</td><td>1962-01-07T05:00:00Z</td><td>916-66-9845</td><td>67990</td></tr><tr><td>5016577</td><td>Burton</td><td>Scotty</td><td>Broggini</td><td>M</td><td>1968-02-16T05:00:00Z</td><td>973-55-2258</td><td>64515</td></tr></tbody></table></div>"
      ]
     },
     "metadata": {
      "application/vnd.databricks.v1+output": {
       "addedWidgets": {},
       "aggData": [],
       "aggError": "",
       "aggOverflow": false,
       "aggSchema": [],
       "aggSeriesLimitReached": false,
       "aggType": "",
       "arguments": {},
       "columnCustomDisplayInfos": {},
       "data": [
        [
         5016568,
         "Enrique",
         "Emmett",
         "Carvil",
         "M",
         "1960-01-17T05:00:00Z",
         "909-88-7612",
         62241
        ],
        [
         5016569,
         "Jordan",
         "Alva",
         "Penk",
         "M",
         "1979-05-02T04:00:00Z",
         "936-39-5888",
         74778
        ],
        [
         5016570,
         "Leo",
         "Merlin",
         "Conkay",
         "M",
         "1981-05-21T04:00:00Z",
         "919-71-2948",
         82321
        ],
        [
         5016571,
         "Bernard",
         "Wiley",
         "Thackham",
         "M",
         "1983-10-12T04:00:00Z",
         "976-38-5505",
         72797
        ],
        [
         5016572,
         "Devin",
         "Loyd",
         "Gipp",
         "M",
         "1990-01-20T05:00:00Z",
         "934-44-9546",
         99538
        ],
        [
         5016573,
         "Howard",
         "Wade",
         "Cokly",
         "M",
         "1979-04-10T05:00:00Z",
         "901-17-5955",
         39998
        ],
        [
         5016574,
         "Clyde",
         "Anibal",
         "Silvester",
         "M",
         "1964-02-03T05:00:00Z",
         "992-74-4926",
         88749
        ],
        [
         5016575,
         "Craig",
         "Doug",
         "Dohmer",
         "M",
         "1971-10-28T04:00:00Z",
         "943-46-5612",
         75135
        ],
        [
         5016576,
         "Eddie",
         "Mikel",
         "Handyside",
         "M",
         "1962-01-07T05:00:00Z",
         "916-66-9845",
         67990
        ],
        [
         5016577,
         "Burton",
         "Scotty",
         "Broggini",
         "M",
         "1968-02-16T05:00:00Z",
         "973-55-2258",
         64515
        ]
       ],
       "datasetInfos": [],
       "dbfsResultPath": null,
       "isJsonSchema": true,
       "metadata": {
        "isDbfsCommandResult": false
       },
       "overflow": false,
       "plotOptions": {
        "customPlotOptions": {},
        "displayType": "table",
        "pivotAggregation": null,
        "pivotColumns": null,
        "xColumns": null,
        "yColumns": null
       },
       "removedWidgets": [],
       "schema": [
        {
         "metadata": "{}",
         "name": "id",
         "type": "\"integer\""
        },
        {
         "metadata": "{}",
         "name": "firstName",
         "type": "\"string\""
        },
        {
         "metadata": "{}",
         "name": "middleName",
         "type": "\"string\""
        },
        {
         "metadata": "{}",
         "name": "lastName",
         "type": "\"string\""
        },
        {
         "metadata": "{}",
         "name": "gender",
         "type": "\"string\""
        },
        {
         "metadata": "{}",
         "name": "birthDate",
         "type": "\"timestamp\""
        },
        {
         "metadata": "{}",
         "name": "ssn",
         "type": "\"string\""
        },
        {
         "metadata": "{}",
         "name": "salary",
         "type": "\"integer\""
        }
       ],
       "type": "table"
      }
     },
     "output_type": "display_data"
    }
   ],
   "source": [
    "%sql\n",
    "select * from delta.`dbfs:/user/hive/warehouse/people_10m` limit 10;"
   ]
  },
  {
   "cell_type": "markdown",
   "metadata": {
    "application/vnd.databricks.v1+cell": {
     "cellMetadata": {
      "byteLimit": 2048000,
      "rowLimit": 10000
     },
     "inputWidgets": {},
     "nuid": "3a423c85-889a-4644-bd1b-8a9f7ba3d3c6",
     "showTitle": false,
     "title": ""
    }
   },
   "source": [
    "## Update a table"
   ]
  },
  {
   "cell_type": "code",
   "execution_count": 0,
   "metadata": {
    "application/vnd.databricks.v1+cell": {
     "cellMetadata": {
      "byteLimit": 2048000,
      "rowLimit": 10000
     },
     "inputWidgets": {},
     "nuid": "4192125a-529d-466e-b10f-a10e30183740",
     "showTitle": true,
     "title": "Change Gender to Superhero & Eye Candy"
    }
   },
   "outputs": [
    {
     "output_type": "display_data",
     "data": {
      "text/html": [
       "<style scoped>\n",
       "  .table-result-container {\n",
       "    max-height: 300px;\n",
       "    overflow: auto;\n",
       "  }\n",
       "  table, th, td {\n",
       "    border: 1px solid black;\n",
       "    border-collapse: collapse;\n",
       "  }\n",
       "  th, td {\n",
       "    padding: 5px;\n",
       "  }\n",
       "  th {\n",
       "    text-align: left;\n",
       "  }\n",
       "</style><div class='table-result-container'><table class='table-result'><thead style='background-color: white'><tr><th>num_affected_rows</th></tr></thead><tbody><tr><td>4812700</td></tr></tbody></table></div>"
      ]
     },
     "metadata": {
      "application/vnd.databricks.v1+output": {
       "addedWidgets": {},
       "aggData": [],
       "aggError": "",
       "aggOverflow": false,
       "aggSchema": [],
       "aggSeriesLimitReached": false,
       "aggType": "",
       "arguments": {},
       "columnCustomDisplayInfos": {},
       "data": [
        [
         4812700
        ]
       ],
       "datasetInfos": [],
       "dbfsResultPath": null,
       "isJsonSchema": true,
       "metadata": {
        "isDbfsCommandResult": false
       },
       "overflow": false,
       "plotOptions": {
        "customPlotOptions": {},
        "displayType": "table",
        "pivotAggregation": null,
        "pivotColumns": null,
        "xColumns": null,
        "yColumns": null
       },
       "removedWidgets": [],
       "schema": [
        {
         "metadata": "{}",
         "name": "num_affected_rows",
         "type": "\"long\""
        }
       ],
       "type": "table"
      }
     },
     "output_type": "display_data"
    }
   ],
   "source": [
    "%sql\n",
    "UPDATE people_10m SET gender = 'Superhero' WHERE gender = 'Female';\n",
    "UPDATE people_10m SET gender = 'Eye Candy' WHERE gender = 'Male';"
   ]
  },
  {
   "cell_type": "code",
   "execution_count": 0,
   "metadata": {
    "application/vnd.databricks.v1+cell": {
     "cellMetadata": {
      "byteLimit": 2048000,
      "rowLimit": 10000
     },
     "inputWidgets": {},
     "nuid": "c7b65ba7-eada-4767-9e51-6ca4b3e40b54",
     "showTitle": false,
     "title": ""
    }
   },
   "outputs": [
    {
     "output_type": "display_data",
     "data": {
      "text/html": [
       "<style scoped>\n",
       "  .table-result-container {\n",
       "    max-height: 300px;\n",
       "    overflow: auto;\n",
       "  }\n",
       "  table, th, td {\n",
       "    border: 1px solid black;\n",
       "    border-collapse: collapse;\n",
       "  }\n",
       "  th, td {\n",
       "    padding: 5px;\n",
       "  }\n",
       "  th {\n",
       "    text-align: left;\n",
       "  }\n",
       "</style><div class='table-result-container'><table class='table-result'><thead style='background-color: white'><tr><th>id</th><th>firstName</th><th>middleName</th><th>lastName</th><th>gender</th><th>birthDate</th><th>ssn</th><th>salary</th></tr></thead><tbody><tr><td>1267751</td><td>Hester</td><td>Sherie</td><td>Bonome</td><td>Superhero</td><td>1999-09-13T04:00:00Z</td><td>943-76-3317</td><td>81098</td></tr><tr><td>1267752</td><td>Shanae</td><td>Lucie</td><td>Ahlin</td><td>Superhero</td><td>1980-02-13T05:00:00Z</td><td>987-96-3819</td><td>87092</td></tr><tr><td>1267753</td><td>Vasiliki</td><td>Candelaria</td><td>Gipps</td><td>Superhero</td><td>1960-06-20T04:00:00Z</td><td>987-24-9098</td><td>90477</td></tr><tr><td>1267754</td><td>Sue</td><td>Alba</td><td>Gullefant</td><td>Superhero</td><td>1978-10-14T04:00:00Z</td><td>995-81-4875</td><td>95425</td></tr><tr><td>1267755</td><td>Clemmie</td><td>Lisabeth</td><td>Clayfield</td><td>Superhero</td><td>1990-09-30T04:00:00Z</td><td>905-20-1783</td><td>65913</td></tr><tr><td>1267756</td><td>Elza</td><td>Ayako</td><td>Boynton</td><td>Superhero</td><td>1984-04-01T05:00:00Z</td><td>935-85-5288</td><td>31122</td></tr><tr><td>1267757</td><td>Berniece</td><td>Shelley</td><td>Cutler</td><td>Superhero</td><td>1999-07-09T04:00:00Z</td><td>980-55-6967</td><td>74981</td></tr><tr><td>1267758</td><td>Gwyneth</td><td>Gilda</td><td>Futter</td><td>Superhero</td><td>1983-07-08T04:00:00Z</td><td>969-50-3671</td><td>104619</td></tr><tr><td>1267759</td><td>Marine</td><td>Kayce</td><td>Irving</td><td>Superhero</td><td>1963-06-07T04:00:00Z</td><td>924-81-6464</td><td>68535</td></tr><tr><td>1267760</td><td>Patience</td><td>Mellie</td><td>Goodanew</td><td>Superhero</td><td>1957-07-19T04:00:00Z</td><td>995-95-3098</td><td>104723</td></tr><tr><td>1267761</td><td>Cayla</td><td>Vera</td><td>Copelli</td><td>Superhero</td><td>1954-06-28T04:00:00Z</td><td>929-64-5970</td><td>101834</td></tr><tr><td>1267762</td><td>Ofelia</td><td>Cinthia</td><td>Crippes</td><td>Superhero</td><td>1990-07-15T04:00:00Z</td><td>902-38-2904</td><td>77080</td></tr><tr><td>1267763</td><td>Lacy</td><td>Arleen</td><td>Ridger</td><td>Superhero</td><td>1981-11-24T05:00:00Z</td><td>991-72-5578</td><td>90613</td></tr><tr><td>1267764</td><td>Danielle</td><td>Toni</td><td>Milmore</td><td>Superhero</td><td>1974-08-25T04:00:00Z</td><td>916-61-1099</td><td>83356</td></tr><tr><td>1267765</td><td>Marketta</td><td>Lauri</td><td>Bischop</td><td>Superhero</td><td>1965-06-13T04:00:00Z</td><td>916-66-1869</td><td>62127</td></tr><tr><td>1267766</td><td>Vanessa</td><td>Phuong</td><td>Degoy</td><td>Superhero</td><td>1992-12-23T05:00:00Z</td><td>925-80-1948</td><td>94407</td></tr><tr><td>1267767</td><td>Suellen</td><td>Monique</td><td>Sorrel</td><td>Superhero</td><td>1995-05-25T04:00:00Z</td><td>998-86-1555</td><td>67360</td></tr><tr><td>1267768</td><td>Jolynn</td><td>Yasmine</td><td>Brolechan</td><td>Superhero</td><td>1996-10-14T04:00:00Z</td><td>985-91-3582</td><td>71750</td></tr><tr><td>1267769</td><td>Andrea</td><td>Crystle</td><td>Perot</td><td>Superhero</td><td>1996-10-09T04:00:00Z</td><td>930-36-9133</td><td>60753</td></tr><tr><td>1267770</td><td>Nyla</td><td>Louann</td><td>Dilleway</td><td>Superhero</td><td>1962-08-01T04:00:00Z</td><td>975-67-7366</td><td>71046</td></tr><tr><td>1267771</td><td>Princess</td><td>Lanell</td><td>Clibbery</td><td>Superhero</td><td>1991-04-24T04:00:00Z</td><td>900-73-3264</td><td>65339</td></tr><tr><td>1267772</td><td>Nancey</td><td>Letitia</td><td>Bartolijn</td><td>Superhero</td><td>1991-01-17T05:00:00Z</td><td>996-24-5037</td><td>86795</td></tr><tr><td>1267773</td><td>Pura</td><td>Floy</td><td>Lanfranconi</td><td>Superhero</td><td>1973-07-05T04:00:00Z</td><td>908-23-8713</td><td>96424</td></tr><tr><td>1267774</td><td>Emmy</td><td>Toshia</td><td>Pozzi</td><td>Superhero</td><td>1980-04-02T05:00:00Z</td><td>998-79-1576</td><td>57256</td></tr><tr><td>1267775</td><td>Ruthie</td><td>Georgette</td><td>Magister</td><td>Superhero</td><td>1991-09-06T04:00:00Z</td><td>923-53-6910</td><td>70942</td></tr><tr><td>1267776</td><td>Penelope</td><td>Felecia</td><td>Jarratt</td><td>Superhero</td><td>1953-05-10T04:00:00Z</td><td>954-83-8028</td><td>68287</td></tr><tr><td>1267777</td><td>Sharan</td><td>Sonja</td><td>McMickan</td><td>Superhero</td><td>1989-05-14T04:00:00Z</td><td>982-26-6208</td><td>79178</td></tr><tr><td>1267778</td><td>Tarsha</td><td>Dorris</td><td>Brunker</td><td>Superhero</td><td>1973-03-26T05:00:00Z</td><td>962-58-9493</td><td>80712</td></tr><tr><td>1267779</td><td>Chassidy</td><td>Marcelle</td><td>Gaspero</td><td>Superhero</td><td>1972-11-06T05:00:00Z</td><td>930-67-7623</td><td>76790</td></tr><tr><td>1267780</td><td>Cleopatra</td><td>Krystyna</td><td>Duny</td><td>Superhero</td><td>1998-08-07T04:00:00Z</td><td>912-80-9616</td><td>94797</td></tr><tr><td>1267781</td><td>Cathrine</td><td>Shaniqua</td><td>Burchmore</td><td>Superhero</td><td>1999-05-20T04:00:00Z</td><td>984-53-2868</td><td>64114</td></tr><tr><td>1267782</td><td>Ileen</td><td>Guillermina</td><td>McCrudden</td><td>Superhero</td><td>1964-11-13T05:00:00Z</td><td>972-66-9008</td><td>65530</td></tr><tr><td>1267783</td><td>Flora</td><td>Lizzie</td><td>Heaney</td><td>Superhero</td><td>1975-04-16T04:00:00Z</td><td>931-43-7005</td><td>80070</td></tr><tr><td>1267784</td><td>Cythia</td><td>Afton</td><td>Toffalo</td><td>Superhero</td><td>1981-03-23T05:00:00Z</td><td>912-69-6018</td><td>38300</td></tr><tr><td>1267785</td><td>Dorothea</td><td>Carroll</td><td>Rogeon</td><td>Superhero</td><td>1967-09-12T04:00:00Z</td><td>911-89-7555</td><td>77983</td></tr><tr><td>1267786</td><td>Earlene</td><td>Johnsie</td><td>Varren</td><td>Superhero</td><td>1993-06-05T04:00:00Z</td><td>929-26-1144</td><td>60104</td></tr><tr><td>1267787</td><td>Dann</td><td>Donnie</td><td>Bridywater</td><td>Superhero</td><td>1983-06-20T04:00:00Z</td><td>999-85-9797</td><td>91397</td></tr><tr><td>1267788</td><td>Merlene</td><td>Lawanda</td><td>Fehners</td><td>Superhero</td><td>1959-10-28T05:00:00Z</td><td>980-12-1395</td><td>73114</td></tr><tr><td>1267789</td><td>Suk</td><td>Devona</td><td>Bagnell</td><td>Superhero</td><td>1975-03-22T04:00:00Z</td><td>960-50-6541</td><td>71762</td></tr><tr><td>1267790</td><td>Adriana</td><td>Tonisha</td><td>Sallenger</td><td>Superhero</td><td>1981-09-20T04:00:00Z</td><td>900-32-5450</td><td>39946</td></tr><tr><td>1267791</td><td>Eleonore</td><td>Philomena</td><td>Reavell</td><td>Superhero</td><td>1985-06-09T04:00:00Z</td><td>981-28-3659</td><td>96898</td></tr><tr><td>1267792</td><td>Lisha</td><td>Ilse</td><td>Pealing</td><td>Superhero</td><td>1993-06-18T04:00:00Z</td><td>999-98-5749</td><td>56160</td></tr><tr><td>1267793</td><td>Tiffiny</td><td>Danyel</td><td>Nusche</td><td>Superhero</td><td>1997-10-27T05:00:00Z</td><td>974-12-9832</td><td>63782</td></tr><tr><td>1267794</td><td>Velia</td><td>Charlette</td><td>Santino</td><td>Superhero</td><td>1956-06-02T04:00:00Z</td><td>921-84-5545</td><td>84802</td></tr><tr><td>1267795</td><td>Misty</td><td>Latrisha</td><td>Houlahan</td><td>Superhero</td><td>1986-11-29T05:00:00Z</td><td>923-22-9479</td><td>74201</td></tr><tr><td>1267796</td><td>Nicolette</td><td>Dodie</td><td>Alyutin</td><td>Superhero</td><td>1997-08-24T04:00:00Z</td><td>942-25-5633</td><td>85867</td></tr><tr><td>1267797</td><td>Carlee</td><td>Jestine</td><td>Kearney</td><td>Superhero</td><td>1964-12-31T05:00:00Z</td><td>938-25-6908</td><td>54607</td></tr><tr><td>1267798</td><td>Celena</td><td>Rheba</td><td>Stancliffe</td><td>Superhero</td><td>1957-05-13T04:00:00Z</td><td>915-73-2020</td><td>120037</td></tr><tr><td>1267799</td><td>Ossie</td><td>Monique</td><td>Edson</td><td>Superhero</td><td>1959-06-23T04:00:00Z</td><td>956-44-8523</td><td>65941</td></tr><tr><td>1267800</td><td>Wanda</td><td>Lorene</td><td>Thirtle</td><td>Superhero</td><td>1998-03-14T05:00:00Z</td><td>906-57-3709</td><td>100707</td></tr></tbody></table></div>"
      ]
     },
     "metadata": {
      "application/vnd.databricks.v1+output": {
       "addedWidgets": {},
       "aggData": [],
       "aggError": "",
       "aggOverflow": false,
       "aggSchema": [],
       "aggSeriesLimitReached": false,
       "aggType": "",
       "arguments": {},
       "columnCustomDisplayInfos": {},
       "data": [
        [
         1267751,
         "Hester",
         "Sherie",
         "Bonome",
         "Superhero",
         "1999-09-13T04:00:00Z",
         "943-76-3317",
         81098
        ],
        [
         1267752,
         "Shanae",
         "Lucie",
         "Ahlin",
         "Superhero",
         "1980-02-13T05:00:00Z",
         "987-96-3819",
         87092
        ],
        [
         1267753,
         "Vasiliki",
         "Candelaria",
         "Gipps",
         "Superhero",
         "1960-06-20T04:00:00Z",
         "987-24-9098",
         90477
        ],
        [
         1267754,
         "Sue",
         "Alba",
         "Gullefant",
         "Superhero",
         "1978-10-14T04:00:00Z",
         "995-81-4875",
         95425
        ],
        [
         1267755,
         "Clemmie",
         "Lisabeth",
         "Clayfield",
         "Superhero",
         "1990-09-30T04:00:00Z",
         "905-20-1783",
         65913
        ],
        [
         1267756,
         "Elza",
         "Ayako",
         "Boynton",
         "Superhero",
         "1984-04-01T05:00:00Z",
         "935-85-5288",
         31122
        ],
        [
         1267757,
         "Berniece",
         "Shelley",
         "Cutler",
         "Superhero",
         "1999-07-09T04:00:00Z",
         "980-55-6967",
         74981
        ],
        [
         1267758,
         "Gwyneth",
         "Gilda",
         "Futter",
         "Superhero",
         "1983-07-08T04:00:00Z",
         "969-50-3671",
         104619
        ],
        [
         1267759,
         "Marine",
         "Kayce",
         "Irving",
         "Superhero",
         "1963-06-07T04:00:00Z",
         "924-81-6464",
         68535
        ],
        [
         1267760,
         "Patience",
         "Mellie",
         "Goodanew",
         "Superhero",
         "1957-07-19T04:00:00Z",
         "995-95-3098",
         104723
        ],
        [
         1267761,
         "Cayla",
         "Vera",
         "Copelli",
         "Superhero",
         "1954-06-28T04:00:00Z",
         "929-64-5970",
         101834
        ],
        [
         1267762,
         "Ofelia",
         "Cinthia",
         "Crippes",
         "Superhero",
         "1990-07-15T04:00:00Z",
         "902-38-2904",
         77080
        ],
        [
         1267763,
         "Lacy",
         "Arleen",
         "Ridger",
         "Superhero",
         "1981-11-24T05:00:00Z",
         "991-72-5578",
         90613
        ],
        [
         1267764,
         "Danielle",
         "Toni",
         "Milmore",
         "Superhero",
         "1974-08-25T04:00:00Z",
         "916-61-1099",
         83356
        ],
        [
         1267765,
         "Marketta",
         "Lauri",
         "Bischop",
         "Superhero",
         "1965-06-13T04:00:00Z",
         "916-66-1869",
         62127
        ],
        [
         1267766,
         "Vanessa",
         "Phuong",
         "Degoy",
         "Superhero",
         "1992-12-23T05:00:00Z",
         "925-80-1948",
         94407
        ],
        [
         1267767,
         "Suellen",
         "Monique",
         "Sorrel",
         "Superhero",
         "1995-05-25T04:00:00Z",
         "998-86-1555",
         67360
        ],
        [
         1267768,
         "Jolynn",
         "Yasmine",
         "Brolechan",
         "Superhero",
         "1996-10-14T04:00:00Z",
         "985-91-3582",
         71750
        ],
        [
         1267769,
         "Andrea",
         "Crystle",
         "Perot",
         "Superhero",
         "1996-10-09T04:00:00Z",
         "930-36-9133",
         60753
        ],
        [
         1267770,
         "Nyla",
         "Louann",
         "Dilleway",
         "Superhero",
         "1962-08-01T04:00:00Z",
         "975-67-7366",
         71046
        ],
        [
         1267771,
         "Princess",
         "Lanell",
         "Clibbery",
         "Superhero",
         "1991-04-24T04:00:00Z",
         "900-73-3264",
         65339
        ],
        [
         1267772,
         "Nancey",
         "Letitia",
         "Bartolijn",
         "Superhero",
         "1991-01-17T05:00:00Z",
         "996-24-5037",
         86795
        ],
        [
         1267773,
         "Pura",
         "Floy",
         "Lanfranconi",
         "Superhero",
         "1973-07-05T04:00:00Z",
         "908-23-8713",
         96424
        ],
        [
         1267774,
         "Emmy",
         "Toshia",
         "Pozzi",
         "Superhero",
         "1980-04-02T05:00:00Z",
         "998-79-1576",
         57256
        ],
        [
         1267775,
         "Ruthie",
         "Georgette",
         "Magister",
         "Superhero",
         "1991-09-06T04:00:00Z",
         "923-53-6910",
         70942
        ],
        [
         1267776,
         "Penelope",
         "Felecia",
         "Jarratt",
         "Superhero",
         "1953-05-10T04:00:00Z",
         "954-83-8028",
         68287
        ],
        [
         1267777,
         "Sharan",
         "Sonja",
         "McMickan",
         "Superhero",
         "1989-05-14T04:00:00Z",
         "982-26-6208",
         79178
        ],
        [
         1267778,
         "Tarsha",
         "Dorris",
         "Brunker",
         "Superhero",
         "1973-03-26T05:00:00Z",
         "962-58-9493",
         80712
        ],
        [
         1267779,
         "Chassidy",
         "Marcelle",
         "Gaspero",
         "Superhero",
         "1972-11-06T05:00:00Z",
         "930-67-7623",
         76790
        ],
        [
         1267780,
         "Cleopatra",
         "Krystyna",
         "Duny",
         "Superhero",
         "1998-08-07T04:00:00Z",
         "912-80-9616",
         94797
        ],
        [
         1267781,
         "Cathrine",
         "Shaniqua",
         "Burchmore",
         "Superhero",
         "1999-05-20T04:00:00Z",
         "984-53-2868",
         64114
        ],
        [
         1267782,
         "Ileen",
         "Guillermina",
         "McCrudden",
         "Superhero",
         "1964-11-13T05:00:00Z",
         "972-66-9008",
         65530
        ],
        [
         1267783,
         "Flora",
         "Lizzie",
         "Heaney",
         "Superhero",
         "1975-04-16T04:00:00Z",
         "931-43-7005",
         80070
        ],
        [
         1267784,
         "Cythia",
         "Afton",
         "Toffalo",
         "Superhero",
         "1981-03-23T05:00:00Z",
         "912-69-6018",
         38300
        ],
        [
         1267785,
         "Dorothea",
         "Carroll",
         "Rogeon",
         "Superhero",
         "1967-09-12T04:00:00Z",
         "911-89-7555",
         77983
        ],
        [
         1267786,
         "Earlene",
         "Johnsie",
         "Varren",
         "Superhero",
         "1993-06-05T04:00:00Z",
         "929-26-1144",
         60104
        ],
        [
         1267787,
         "Dann",
         "Donnie",
         "Bridywater",
         "Superhero",
         "1983-06-20T04:00:00Z",
         "999-85-9797",
         91397
        ],
        [
         1267788,
         "Merlene",
         "Lawanda",
         "Fehners",
         "Superhero",
         "1959-10-28T05:00:00Z",
         "980-12-1395",
         73114
        ],
        [
         1267789,
         "Suk",
         "Devona",
         "Bagnell",
         "Superhero",
         "1975-03-22T04:00:00Z",
         "960-50-6541",
         71762
        ],
        [
         1267790,
         "Adriana",
         "Tonisha",
         "Sallenger",
         "Superhero",
         "1981-09-20T04:00:00Z",
         "900-32-5450",
         39946
        ],
        [
         1267791,
         "Eleonore",
         "Philomena",
         "Reavell",
         "Superhero",
         "1985-06-09T04:00:00Z",
         "981-28-3659",
         96898
        ],
        [
         1267792,
         "Lisha",
         "Ilse",
         "Pealing",
         "Superhero",
         "1993-06-18T04:00:00Z",
         "999-98-5749",
         56160
        ],
        [
         1267793,
         "Tiffiny",
         "Danyel",
         "Nusche",
         "Superhero",
         "1997-10-27T05:00:00Z",
         "974-12-9832",
         63782
        ],
        [
         1267794,
         "Velia",
         "Charlette",
         "Santino",
         "Superhero",
         "1956-06-02T04:00:00Z",
         "921-84-5545",
         84802
        ],
        [
         1267795,
         "Misty",
         "Latrisha",
         "Houlahan",
         "Superhero",
         "1986-11-29T05:00:00Z",
         "923-22-9479",
         74201
        ],
        [
         1267796,
         "Nicolette",
         "Dodie",
         "Alyutin",
         "Superhero",
         "1997-08-24T04:00:00Z",
         "942-25-5633",
         85867
        ],
        [
         1267797,
         "Carlee",
         "Jestine",
         "Kearney",
         "Superhero",
         "1964-12-31T05:00:00Z",
         "938-25-6908",
         54607
        ],
        [
         1267798,
         "Celena",
         "Rheba",
         "Stancliffe",
         "Superhero",
         "1957-05-13T04:00:00Z",
         "915-73-2020",
         120037
        ],
        [
         1267799,
         "Ossie",
         "Monique",
         "Edson",
         "Superhero",
         "1959-06-23T04:00:00Z",
         "956-44-8523",
         65941
        ],
        [
         1267800,
         "Wanda",
         "Lorene",
         "Thirtle",
         "Superhero",
         "1998-03-14T05:00:00Z",
         "906-57-3709",
         100707
        ]
       ],
       "datasetInfos": [],
       "dbfsResultPath": null,
       "isJsonSchema": true,
       "metadata": {
        "isDbfsCommandResult": false
       },
       "overflow": false,
       "plotOptions": {
        "customPlotOptions": {},
        "displayType": "table",
        "pivotAggregation": null,
        "pivotColumns": null,
        "xColumns": null,
        "yColumns": null
       },
       "removedWidgets": [],
       "schema": [
        {
         "metadata": "{}",
         "name": "id",
         "type": "\"integer\""
        },
        {
         "metadata": "{}",
         "name": "firstName",
         "type": "\"string\""
        },
        {
         "metadata": "{}",
         "name": "middleName",
         "type": "\"string\""
        },
        {
         "metadata": "{}",
         "name": "lastName",
         "type": "\"string\""
        },
        {
         "metadata": "{}",
         "name": "gender",
         "type": "\"string\""
        },
        {
         "metadata": "{}",
         "name": "birthDate",
         "type": "\"timestamp\""
        },
        {
         "metadata": "{}",
         "name": "ssn",
         "type": "\"string\""
        },
        {
         "metadata": "{}",
         "name": "salary",
         "type": "\"integer\""
        }
       ],
       "type": "table"
      }
     },
     "output_type": "display_data"
    }
   ],
   "source": [
    "%sql\n",
    "select * from people_10m limit 50;"
   ]
  },
  {
   "cell_type": "code",
   "execution_count": 0,
   "metadata": {
    "application/vnd.databricks.v1+cell": {
     "cellMetadata": {
      "byteLimit": 2048000,
      "rowLimit": 10000
     },
     "inputWidgets": {},
     "nuid": "2a953c91-5e3a-416a-914e-acd7a8cec4b2",
     "showTitle": true,
     "title": "View Eye Candy"
    }
   },
   "outputs": [
    {
     "output_type": "display_data",
     "data": {
      "text/html": [
       "<style scoped>\n",
       "  .table-result-container {\n",
       "    max-height: 300px;\n",
       "    overflow: auto;\n",
       "  }\n",
       "  table, th, td {\n",
       "    border: 1px solid black;\n",
       "    border-collapse: collapse;\n",
       "  }\n",
       "  th, td {\n",
       "    padding: 5px;\n",
       "  }\n",
       "  th {\n",
       "    text-align: left;\n",
       "  }\n",
       "</style><div class='table-result-container'><table class='table-result'><thead style='background-color: white'><tr><th>id</th><th>firstName</th><th>middleName</th><th>lastName</th><th>gender</th><th>birthDate</th><th>ssn</th><th>salary</th></tr></thead><tbody><tr><td>5000001</td><td>Jasper</td><td>Gil</td><td>Neubigin</td><td>Eye Candy</td><td>1961-02-20T05:00:00Z</td><td>900-26-1632</td><td>71908</td></tr><tr><td>5000002</td><td>Robert</td><td>Lindsay</td><td>Kipling</td><td>Eye Candy</td><td>1986-01-02T05:00:00Z</td><td>971-15-9711</td><td>73156</td></tr><tr><td>5000003</td><td>Abdul</td><td>Mickey</td><td>Pachta</td><td>Eye Candy</td><td>1956-01-28T05:00:00Z</td><td>935-93-3364</td><td>71366</td></tr><tr><td>5000004</td><td>Earle</td><td>Logan</td><td>Gieraths</td><td>Eye Candy</td><td>1958-04-17T05:00:00Z</td><td>995-20-3583</td><td>82976</td></tr><tr><td>5000005</td><td>Mickey</td><td>August</td><td>Wotton</td><td>Eye Candy</td><td>1976-08-29T04:00:00Z</td><td>666-63-8912</td><td>53965</td></tr><tr><td>5000006</td><td>Theron</td><td>Theo</td><td>Aplin</td><td>Eye Candy</td><td>1995-03-16T05:00:00Z</td><td>902-85-9597</td><td>92844</td></tr><tr><td>5000007</td><td>Brice</td><td>Jefferson</td><td>Charge</td><td>Eye Candy</td><td>1973-07-17T04:00:00Z</td><td>983-50-9434</td><td>66020</td></tr><tr><td>5000008</td><td>Valentin</td><td>Aubrey</td><td>Yakunin</td><td>Eye Candy</td><td>1999-04-06T04:00:00Z</td><td>951-85-8091</td><td>67641</td></tr><tr><td>5000009</td><td>Trenton</td><td>Rogelio</td><td>Prangle</td><td>Eye Candy</td><td>1980-05-18T04:00:00Z</td><td>922-19-4866</td><td>49319</td></tr><tr><td>5000010</td><td>Brock</td><td>Bruno</td><td>Perdue</td><td>Eye Candy</td><td>1967-07-18T04:00:00Z</td><td>968-59-2693</td><td>55465</td></tr><tr><td>5000011</td><td>Glen</td><td>Otto</td><td>Petto</td><td>Eye Candy</td><td>1956-09-14T04:00:00Z</td><td>951-22-9642</td><td>29916</td></tr><tr><td>5000012</td><td>Luis</td><td>Frederic</td><td>Tocher</td><td>Eye Candy</td><td>1970-05-18T04:00:00Z</td><td>923-90-1647</td><td>64550</td></tr><tr><td>5000013</td><td>Burt</td><td>Spencer</td><td>Brice</td><td>Eye Candy</td><td>1973-05-21T04:00:00Z</td><td>973-61-9660</td><td>108450</td></tr><tr><td>5000014</td><td>Riley</td><td>Vince</td><td>Gwin</td><td>Eye Candy</td><td>1972-08-14T04:00:00Z</td><td>974-44-5631</td><td>61581</td></tr><tr><td>5000015</td><td>Emmett</td><td>Irvin</td><td>Grgic</td><td>Eye Candy</td><td>1991-04-22T04:00:00Z</td><td>929-98-7767</td><td>113774</td></tr><tr><td>5000016</td><td>Nelson</td><td>Victor</td><td>Kelf</td><td>Eye Candy</td><td>1995-08-17T04:00:00Z</td><td>920-86-7784</td><td>107436</td></tr><tr><td>5000017</td><td>Sonny</td><td>Elisha</td><td>Kornousek</td><td>Eye Candy</td><td>1994-11-04T05:00:00Z</td><td>951-43-2361</td><td>45857</td></tr><tr><td>5000018</td><td>Lucio</td><td>Giuseppe</td><td>Orpwood</td><td>Eye Candy</td><td>1993-10-28T04:00:00Z</td><td>923-49-1796</td><td>64404</td></tr><tr><td>5000019</td><td>Bob</td><td>Laurence</td><td>Twyning</td><td>Eye Candy</td><td>1981-10-23T04:00:00Z</td><td>927-36-8524</td><td>83939</td></tr><tr><td>5000020</td><td>Coy</td><td>Jeramy</td><td>Klaves</td><td>Eye Candy</td><td>1956-05-22T04:00:00Z</td><td>972-71-1244</td><td>82414</td></tr></tbody></table></div>"
      ]
     },
     "metadata": {
      "application/vnd.databricks.v1+output": {
       "addedWidgets": {},
       "aggData": [],
       "aggError": "",
       "aggOverflow": false,
       "aggSchema": [],
       "aggSeriesLimitReached": false,
       "aggType": "",
       "arguments": {},
       "columnCustomDisplayInfos": {},
       "data": [
        [
         5000001,
         "Jasper",
         "Gil",
         "Neubigin",
         "Eye Candy",
         "1961-02-20T05:00:00Z",
         "900-26-1632",
         71908
        ],
        [
         5000002,
         "Robert",
         "Lindsay",
         "Kipling",
         "Eye Candy",
         "1986-01-02T05:00:00Z",
         "971-15-9711",
         73156
        ],
        [
         5000003,
         "Abdul",
         "Mickey",
         "Pachta",
         "Eye Candy",
         "1956-01-28T05:00:00Z",
         "935-93-3364",
         71366
        ],
        [
         5000004,
         "Earle",
         "Logan",
         "Gieraths",
         "Eye Candy",
         "1958-04-17T05:00:00Z",
         "995-20-3583",
         82976
        ],
        [
         5000005,
         "Mickey",
         "August",
         "Wotton",
         "Eye Candy",
         "1976-08-29T04:00:00Z",
         "666-63-8912",
         53965
        ],
        [
         5000006,
         "Theron",
         "Theo",
         "Aplin",
         "Eye Candy",
         "1995-03-16T05:00:00Z",
         "902-85-9597",
         92844
        ],
        [
         5000007,
         "Brice",
         "Jefferson",
         "Charge",
         "Eye Candy",
         "1973-07-17T04:00:00Z",
         "983-50-9434",
         66020
        ],
        [
         5000008,
         "Valentin",
         "Aubrey",
         "Yakunin",
         "Eye Candy",
         "1999-04-06T04:00:00Z",
         "951-85-8091",
         67641
        ],
        [
         5000009,
         "Trenton",
         "Rogelio",
         "Prangle",
         "Eye Candy",
         "1980-05-18T04:00:00Z",
         "922-19-4866",
         49319
        ],
        [
         5000010,
         "Brock",
         "Bruno",
         "Perdue",
         "Eye Candy",
         "1967-07-18T04:00:00Z",
         "968-59-2693",
         55465
        ],
        [
         5000011,
         "Glen",
         "Otto",
         "Petto",
         "Eye Candy",
         "1956-09-14T04:00:00Z",
         "951-22-9642",
         29916
        ],
        [
         5000012,
         "Luis",
         "Frederic",
         "Tocher",
         "Eye Candy",
         "1970-05-18T04:00:00Z",
         "923-90-1647",
         64550
        ],
        [
         5000013,
         "Burt",
         "Spencer",
         "Brice",
         "Eye Candy",
         "1973-05-21T04:00:00Z",
         "973-61-9660",
         108450
        ],
        [
         5000014,
         "Riley",
         "Vince",
         "Gwin",
         "Eye Candy",
         "1972-08-14T04:00:00Z",
         "974-44-5631",
         61581
        ],
        [
         5000015,
         "Emmett",
         "Irvin",
         "Grgic",
         "Eye Candy",
         "1991-04-22T04:00:00Z",
         "929-98-7767",
         113774
        ],
        [
         5000016,
         "Nelson",
         "Victor",
         "Kelf",
         "Eye Candy",
         "1995-08-17T04:00:00Z",
         "920-86-7784",
         107436
        ],
        [
         5000017,
         "Sonny",
         "Elisha",
         "Kornousek",
         "Eye Candy",
         "1994-11-04T05:00:00Z",
         "951-43-2361",
         45857
        ],
        [
         5000018,
         "Lucio",
         "Giuseppe",
         "Orpwood",
         "Eye Candy",
         "1993-10-28T04:00:00Z",
         "923-49-1796",
         64404
        ],
        [
         5000019,
         "Bob",
         "Laurence",
         "Twyning",
         "Eye Candy",
         "1981-10-23T04:00:00Z",
         "927-36-8524",
         83939
        ],
        [
         5000020,
         "Coy",
         "Jeramy",
         "Klaves",
         "Eye Candy",
         "1956-05-22T04:00:00Z",
         "972-71-1244",
         82414
        ]
       ],
       "datasetInfos": [],
       "dbfsResultPath": null,
       "isJsonSchema": true,
       "metadata": {
        "isDbfsCommandResult": false
       },
       "overflow": false,
       "plotOptions": {
        "customPlotOptions": {},
        "displayType": "table",
        "pivotAggregation": null,
        "pivotColumns": null,
        "xColumns": null,
        "yColumns": null
       },
       "removedWidgets": [],
       "schema": [
        {
         "metadata": "{}",
         "name": "id",
         "type": "\"integer\""
        },
        {
         "metadata": "{}",
         "name": "firstName",
         "type": "\"string\""
        },
        {
         "metadata": "{}",
         "name": "middleName",
         "type": "\"string\""
        },
        {
         "metadata": "{}",
         "name": "lastName",
         "type": "\"string\""
        },
        {
         "metadata": "{}",
         "name": "gender",
         "type": "\"string\""
        },
        {
         "metadata": "{}",
         "name": "birthDate",
         "type": "\"timestamp\""
        },
        {
         "metadata": "{}",
         "name": "ssn",
         "type": "\"string\""
        },
        {
         "metadata": "{}",
         "name": "salary",
         "type": "\"integer\""
        }
       ],
       "type": "table"
      }
     },
     "output_type": "display_data"
    }
   ],
   "source": [
    "%sql\n",
    "select * from people_10m where gender = 'Eye Candy' limit 20;"
   ]
  },
  {
   "cell_type": "code",
   "execution_count": 0,
   "metadata": {
    "application/vnd.databricks.v1+cell": {
     "cellMetadata": {
      "byteLimit": 2048000,
      "rowLimit": 10000
     },
     "inputWidgets": {},
     "nuid": "f1a61b47-e690-426c-9c72-ce95a2aaccdd",
     "showTitle": true,
     "title": "View Superhero"
    }
   },
   "outputs": [
    {
     "output_type": "display_data",
     "data": {
      "text/html": [
       "<style scoped>\n",
       "  .table-result-container {\n",
       "    max-height: 300px;\n",
       "    overflow: auto;\n",
       "  }\n",
       "  table, th, td {\n",
       "    border: 1px solid black;\n",
       "    border-collapse: collapse;\n",
       "  }\n",
       "  th, td {\n",
       "    padding: 5px;\n",
       "  }\n",
       "  th {\n",
       "    text-align: left;\n",
       "  }\n",
       "</style><div class='table-result-container'><table class='table-result'><thead style='background-color: white'><tr><th>id</th><th>firstName</th><th>middleName</th><th>lastName</th><th>gender</th><th>birthDate</th><th>ssn</th><th>salary</th></tr></thead><tbody><tr><td>1</td><td>Pennie</td><td>Carry</td><td>Hirschmann</td><td>Superhero</td><td>1955-07-02T04:00:00Z</td><td>981-43-9345</td><td>56172</td></tr><tr><td>2</td><td>An</td><td>Amira</td><td>Cowper</td><td>Superhero</td><td>1992-02-08T05:00:00Z</td><td>978-97-8086</td><td>40203</td></tr><tr><td>3</td><td>Quyen</td><td>Marlen</td><td>Dome</td><td>Superhero</td><td>1970-10-11T04:00:00Z</td><td>957-57-8246</td><td>53417</td></tr><tr><td>4</td><td>Coralie</td><td>Antonina</td><td>Marshal</td><td>Superhero</td><td>1990-04-11T04:00:00Z</td><td>963-39-4885</td><td>94727</td></tr><tr><td>5</td><td>Terrie</td><td>Wava</td><td>Bonar</td><td>Superhero</td><td>1980-01-16T05:00:00Z</td><td>964-49-8051</td><td>79908</td></tr><tr><td>6</td><td>Chassidy</td><td>Concepcion</td><td>Bourthouloume</td><td>Superhero</td><td>1990-11-24T05:00:00Z</td><td>954-59-9172</td><td>64652</td></tr><tr><td>7</td><td>Geri</td><td>Tambra</td><td>Mosby</td><td>Superhero</td><td>1970-12-19T05:00:00Z</td><td>968-16-4020</td><td>38195</td></tr><tr><td>8</td><td>Patria</td><td>Nancy</td><td>Arstall</td><td>Superhero</td><td>1985-01-02T05:00:00Z</td><td>984-76-3770</td><td>102053</td></tr><tr><td>9</td><td>Terese</td><td>Alfredia</td><td>Tocque</td><td>Superhero</td><td>1967-11-17T05:00:00Z</td><td>967-48-7309</td><td>91294</td></tr><tr><td>10</td><td>Wava</td><td>Lyndsey</td><td>Jeandon</td><td>Superhero</td><td>1963-12-30T05:00:00Z</td><td>997-82-2946</td><td>56521</td></tr><tr><td>11</td><td>Sophie</td><td>Emerita</td><td>Hearn</td><td>Superhero</td><td>1979-09-17T04:00:00Z</td><td>977-66-4483</td><td>90920</td></tr><tr><td>12</td><td>Jodie</td><td>Tabetha</td><td>Laneham</td><td>Superhero</td><td>1959-01-31T05:00:00Z</td><td>923-24-9769</td><td>90634</td></tr><tr><td>13</td><td>Marietta</td><td>Mandi</td><td>Yansons</td><td>Superhero</td><td>1974-02-19T04:00:00Z</td><td>900-34-8083</td><td>93162</td></tr><tr><td>14</td><td>Caridad</td><td>Maire</td><td>Snelle</td><td>Superhero</td><td>1960-09-26T04:00:00Z</td><td>992-11-7062</td><td>38859</td></tr><tr><td>15</td><td>Yasmine</td><td>Meg</td><td>Edworthye</td><td>Superhero</td><td>1960-01-29T05:00:00Z</td><td>922-12-9862</td><td>76220</td></tr><tr><td>16</td><td>Chan</td><td>Jani</td><td>Hartas</td><td>Superhero</td><td>1986-12-05T05:00:00Z</td><td>995-51-3115</td><td>75050</td></tr><tr><td>17</td><td>Evangeline</td><td>Wanetta</td><td>Casserley</td><td>Superhero</td><td>1961-09-29T04:00:00Z</td><td>926-61-3526</td><td>62814</td></tr><tr><td>18</td><td>Elnora</td><td>Kecia</td><td>Lipman</td><td>Superhero</td><td>1980-02-14T05:00:00Z</td><td>950-23-9739</td><td>71350</td></tr><tr><td>19</td><td>Adelle</td><td>Kathyrn</td><td>Grigoriev</td><td>Superhero</td><td>1978-11-14T05:00:00Z</td><td>923-23-5984</td><td>60600</td></tr><tr><td>20</td><td>Mica</td><td>Zandra</td><td>Challens</td><td>Superhero</td><td>1973-11-24T05:00:00Z</td><td>918-66-1232</td><td>51071</td></tr></tbody></table></div>"
      ]
     },
     "metadata": {
      "application/vnd.databricks.v1+output": {
       "addedWidgets": {},
       "aggData": [],
       "aggError": "",
       "aggOverflow": false,
       "aggSchema": [],
       "aggSeriesLimitReached": false,
       "aggType": "",
       "arguments": {},
       "columnCustomDisplayInfos": {},
       "data": [
        [
         1,
         "Pennie",
         "Carry",
         "Hirschmann",
         "Superhero",
         "1955-07-02T04:00:00Z",
         "981-43-9345",
         56172
        ],
        [
         2,
         "An",
         "Amira",
         "Cowper",
         "Superhero",
         "1992-02-08T05:00:00Z",
         "978-97-8086",
         40203
        ],
        [
         3,
         "Quyen",
         "Marlen",
         "Dome",
         "Superhero",
         "1970-10-11T04:00:00Z",
         "957-57-8246",
         53417
        ],
        [
         4,
         "Coralie",
         "Antonina",
         "Marshal",
         "Superhero",
         "1990-04-11T04:00:00Z",
         "963-39-4885",
         94727
        ],
        [
         5,
         "Terrie",
         "Wava",
         "Bonar",
         "Superhero",
         "1980-01-16T05:00:00Z",
         "964-49-8051",
         79908
        ],
        [
         6,
         "Chassidy",
         "Concepcion",
         "Bourthouloume",
         "Superhero",
         "1990-11-24T05:00:00Z",
         "954-59-9172",
         64652
        ],
        [
         7,
         "Geri",
         "Tambra",
         "Mosby",
         "Superhero",
         "1970-12-19T05:00:00Z",
         "968-16-4020",
         38195
        ],
        [
         8,
         "Patria",
         "Nancy",
         "Arstall",
         "Superhero",
         "1985-01-02T05:00:00Z",
         "984-76-3770",
         102053
        ],
        [
         9,
         "Terese",
         "Alfredia",
         "Tocque",
         "Superhero",
         "1967-11-17T05:00:00Z",
         "967-48-7309",
         91294
        ],
        [
         10,
         "Wava",
         "Lyndsey",
         "Jeandon",
         "Superhero",
         "1963-12-30T05:00:00Z",
         "997-82-2946",
         56521
        ],
        [
         11,
         "Sophie",
         "Emerita",
         "Hearn",
         "Superhero",
         "1979-09-17T04:00:00Z",
         "977-66-4483",
         90920
        ],
        [
         12,
         "Jodie",
         "Tabetha",
         "Laneham",
         "Superhero",
         "1959-01-31T05:00:00Z",
         "923-24-9769",
         90634
        ],
        [
         13,
         "Marietta",
         "Mandi",
         "Yansons",
         "Superhero",
         "1974-02-19T04:00:00Z",
         "900-34-8083",
         93162
        ],
        [
         14,
         "Caridad",
         "Maire",
         "Snelle",
         "Superhero",
         "1960-09-26T04:00:00Z",
         "992-11-7062",
         38859
        ],
        [
         15,
         "Yasmine",
         "Meg",
         "Edworthye",
         "Superhero",
         "1960-01-29T05:00:00Z",
         "922-12-9862",
         76220
        ],
        [
         16,
         "Chan",
         "Jani",
         "Hartas",
         "Superhero",
         "1986-12-05T05:00:00Z",
         "995-51-3115",
         75050
        ],
        [
         17,
         "Evangeline",
         "Wanetta",
         "Casserley",
         "Superhero",
         "1961-09-29T04:00:00Z",
         "926-61-3526",
         62814
        ],
        [
         18,
         "Elnora",
         "Kecia",
         "Lipman",
         "Superhero",
         "1980-02-14T05:00:00Z",
         "950-23-9739",
         71350
        ],
        [
         19,
         "Adelle",
         "Kathyrn",
         "Grigoriev",
         "Superhero",
         "1978-11-14T05:00:00Z",
         "923-23-5984",
         60600
        ],
        [
         20,
         "Mica",
         "Zandra",
         "Challens",
         "Superhero",
         "1973-11-24T05:00:00Z",
         "918-66-1232",
         51071
        ]
       ],
       "datasetInfos": [],
       "dbfsResultPath": null,
       "isJsonSchema": true,
       "metadata": {
        "isDbfsCommandResult": false
       },
       "overflow": false,
       "plotOptions": {
        "customPlotOptions": {},
        "displayType": "table",
        "pivotAggregation": null,
        "pivotColumns": null,
        "xColumns": null,
        "yColumns": null
       },
       "removedWidgets": [],
       "schema": [
        {
         "metadata": "{}",
         "name": "id",
         "type": "\"integer\""
        },
        {
         "metadata": "{}",
         "name": "firstName",
         "type": "\"string\""
        },
        {
         "metadata": "{}",
         "name": "middleName",
         "type": "\"string\""
        },
        {
         "metadata": "{}",
         "name": "lastName",
         "type": "\"string\""
        },
        {
         "metadata": "{}",
         "name": "gender",
         "type": "\"string\""
        },
        {
         "metadata": "{}",
         "name": "birthDate",
         "type": "\"timestamp\""
        },
        {
         "metadata": "{}",
         "name": "ssn",
         "type": "\"string\""
        },
        {
         "metadata": "{}",
         "name": "salary",
         "type": "\"integer\""
        }
       ],
       "type": "table"
      }
     },
     "output_type": "display_data"
    }
   ],
   "source": [
    "%sql\n",
    "select * from people_10m where gender = 'Superhero' limit 20;"
   ]
  },
  {
   "cell_type": "markdown",
   "metadata": {
    "application/vnd.databricks.v1+cell": {
     "cellMetadata": {},
     "inputWidgets": {},
     "nuid": "35e78f2c-fef9-4ce4-a2d1-264849536d74",
     "showTitle": false,
     "title": ""
    }
   },
   "source": [
    "## Delete from a table"
   ]
  },
  {
   "cell_type": "code",
   "execution_count": 0,
   "metadata": {
    "application/vnd.databricks.v1+cell": {
     "cellMetadata": {
      "byteLimit": 2048000,
      "rowLimit": 10000
     },
     "inputWidgets": {},
     "nuid": "1d4197e7-3ac0-4dda-9ce7-aa17d5da3549",
     "showTitle": true,
     "title": "Show our new inserts"
    }
   },
   "outputs": [
    {
     "output_type": "display_data",
     "data": {
      "text/html": [
       "<style scoped>\n",
       "  .table-result-container {\n",
       "    max-height: 300px;\n",
       "    overflow: auto;\n",
       "  }\n",
       "  table, th, td {\n",
       "    border: 1px solid black;\n",
       "    border-collapse: collapse;\n",
       "  }\n",
       "  th, td {\n",
       "    padding: 5px;\n",
       "  }\n",
       "  th {\n",
       "    text-align: left;\n",
       "  }\n",
       "</style><div class='table-result-container'><table class='table-result'><thead style='background-color: white'><tr><th>id</th><th>firstName</th><th>middleName</th><th>lastName</th><th>gender</th><th>birthDate</th><th>ssn</th><th>salary</th></tr></thead><tbody><tr><td>9999998</td><td>Hulk</td><td>Bruce</td><td>Banner</td><td>Eye Candy</td><td>1992-09-17T04:00:00Z</td><td>953-38-9452</td><td>55250</td></tr><tr><td>9999999</td><td>Batman</td><td>Bruce</td><td>Wayne</td><td>Eye Candy</td><td>1984-05-22T04:00:00Z</td><td>906-51-2137</td><td>48500</td></tr><tr><td>10000000</td><td>Thor</td><td>Chris</td><td>Hemsworth</td><td>Eye Candy</td><td>1968-07-22T04:00:00Z</td><td>988-61-6247</td><td>90000</td></tr><tr><td>20000001</td><td>Spiderman</td><td></td><td>Parker</td><td>Eye Candy</td><td>null</td><td>345-67-8901</td><td>55500</td></tr><tr><td>20000003</td><td>Wonder</td><td></td><td>Woman</td><td>Superhero</td><td>null</td><td>567-89-0123</td><td>89900</td></tr></tbody></table></div>"
      ]
     },
     "metadata": {
      "application/vnd.databricks.v1+output": {
       "addedWidgets": {},
       "aggData": [],
       "aggError": "",
       "aggOverflow": false,
       "aggSchema": [],
       "aggSeriesLimitReached": false,
       "aggType": "",
       "arguments": {},
       "columnCustomDisplayInfos": {},
       "data": [
        [
         9999998,
         "Hulk",
         "Bruce",
         "Banner",
         "Eye Candy",
         "1992-09-17T04:00:00Z",
         "953-38-9452",
         55250
        ],
        [
         9999999,
         "Batman",
         "Bruce",
         "Wayne",
         "Eye Candy",
         "1984-05-22T04:00:00Z",
         "906-51-2137",
         48500
        ],
        [
         10000000,
         "Thor",
         "Chris",
         "Hemsworth",
         "Eye Candy",
         "1968-07-22T04:00:00Z",
         "988-61-6247",
         90000
        ],
        [
         20000001,
         "Spiderman",
         "",
         "Parker",
         "Eye Candy",
         null,
         "345-67-8901",
         55500
        ],
        [
         20000003,
         "Wonder",
         "",
         "Woman",
         "Superhero",
         null,
         "567-89-0123",
         89900
        ]
       ],
       "datasetInfos": [],
       "dbfsResultPath": null,
       "isJsonSchema": true,
       "metadata": {
        "isDbfsCommandResult": false
       },
       "overflow": false,
       "plotOptions": {
        "customPlotOptions": {},
        "displayType": "table",
        "pivotAggregation": null,
        "pivotColumns": null,
        "xColumns": null,
        "yColumns": null
       },
       "removedWidgets": [],
       "schema": [
        {
         "metadata": "{}",
         "name": "id",
         "type": "\"integer\""
        },
        {
         "metadata": "{}",
         "name": "firstName",
         "type": "\"string\""
        },
        {
         "metadata": "{}",
         "name": "middleName",
         "type": "\"string\""
        },
        {
         "metadata": "{}",
         "name": "lastName",
         "type": "\"string\""
        },
        {
         "metadata": "{}",
         "name": "gender",
         "type": "\"string\""
        },
        {
         "metadata": "{}",
         "name": "birthDate",
         "type": "\"timestamp\""
        },
        {
         "metadata": "{}",
         "name": "ssn",
         "type": "\"string\""
        },
        {
         "metadata": "{}",
         "name": "salary",
         "type": "\"integer\""
        }
       ],
       "type": "table"
      }
     },
     "output_type": "display_data"
    }
   ],
   "source": [
    "%sql\n",
    "SELECT * FROM people_10m WHERE firstName IN ('Spiderman', 'Batman', 'Wonder', 'Thor', 'Hulk');"
   ]
  },
  {
   "cell_type": "code",
   "execution_count": 0,
   "metadata": {
    "application/vnd.databricks.v1+cell": {
     "cellMetadata": {
      "byteLimit": 2048000,
      "rowLimit": 10000
     },
     "inputWidgets": {},
     "nuid": "fceb4310-9b59-457f-adf8-4de64ec1ce46",
     "showTitle": true,
     "title": "View Spiderman"
    }
   },
   "outputs": [
    {
     "output_type": "display_data",
     "data": {
      "text/html": [
       "<style scoped>\n",
       "  .table-result-container {\n",
       "    max-height: 300px;\n",
       "    overflow: auto;\n",
       "  }\n",
       "  table, th, td {\n",
       "    border: 1px solid black;\n",
       "    border-collapse: collapse;\n",
       "  }\n",
       "  th, td {\n",
       "    padding: 5px;\n",
       "  }\n",
       "  th {\n",
       "    text-align: left;\n",
       "  }\n",
       "</style><div class='table-result-container'><table class='table-result'><thead style='background-color: white'><tr><th>id</th><th>firstName</th><th>middleName</th><th>lastName</th><th>gender</th><th>birthDate</th><th>ssn</th><th>salary</th></tr></thead><tbody><tr><td>20000001</td><td>Spiderman</td><td></td><td>Parker</td><td>Eye Candy</td><td>null</td><td>345-67-8901</td><td>55500</td></tr></tbody></table></div>"
      ]
     },
     "metadata": {
      "application/vnd.databricks.v1+output": {
       "addedWidgets": {},
       "aggData": [],
       "aggError": "",
       "aggOverflow": false,
       "aggSchema": [],
       "aggSeriesLimitReached": false,
       "aggType": "",
       "arguments": {},
       "columnCustomDisplayInfos": {},
       "data": [
        [
         20000001,
         "Spiderman",
         "",
         "Parker",
         "Eye Candy",
         null,
         "345-67-8901",
         55500
        ]
       ],
       "datasetInfos": [],
       "dbfsResultPath": null,
       "isJsonSchema": true,
       "metadata": {
        "isDbfsCommandResult": false
       },
       "overflow": false,
       "plotOptions": {
        "customPlotOptions": {},
        "displayType": "table",
        "pivotAggregation": null,
        "pivotColumns": null,
        "xColumns": null,
        "yColumns": null
       },
       "removedWidgets": [],
       "schema": [
        {
         "metadata": "{}",
         "name": "id",
         "type": "\"integer\""
        },
        {
         "metadata": "{}",
         "name": "firstName",
         "type": "\"string\""
        },
        {
         "metadata": "{}",
         "name": "middleName",
         "type": "\"string\""
        },
        {
         "metadata": "{}",
         "name": "lastName",
         "type": "\"string\""
        },
        {
         "metadata": "{}",
         "name": "gender",
         "type": "\"string\""
        },
        {
         "metadata": "{}",
         "name": "birthDate",
         "type": "\"timestamp\""
        },
        {
         "metadata": "{}",
         "name": "ssn",
         "type": "\"string\""
        },
        {
         "metadata": "{}",
         "name": "salary",
         "type": "\"integer\""
        }
       ],
       "type": "table"
      }
     },
     "output_type": "display_data"
    }
   ],
   "source": [
    "%sql\n",
    "SELECT * FROM people_10m WHERE firstName ='Spiderman'"
   ]
  },
  {
   "cell_type": "code",
   "execution_count": 0,
   "metadata": {
    "application/vnd.databricks.v1+cell": {
     "cellMetadata": {
      "byteLimit": 2048000,
      "rowLimit": 10000
     },
     "inputWidgets": {},
     "nuid": "665acacb-89d2-4b51-9e2a-3ad766547caf",
     "showTitle": true,
     "title": "Delete Spiderman"
    }
   },
   "outputs": [
    {
     "output_type": "display_data",
     "data": {
      "text/html": [
       "<style scoped>\n",
       "  .table-result-container {\n",
       "    max-height: 300px;\n",
       "    overflow: auto;\n",
       "  }\n",
       "  table, th, td {\n",
       "    border: 1px solid black;\n",
       "    border-collapse: collapse;\n",
       "  }\n",
       "  th, td {\n",
       "    padding: 5px;\n",
       "  }\n",
       "  th {\n",
       "    text-align: left;\n",
       "  }\n",
       "</style><div class='table-result-container'><table class='table-result'><thead style='background-color: white'><tr><th>num_affected_rows</th></tr></thead><tbody><tr><td>1</td></tr></tbody></table></div>"
      ]
     },
     "metadata": {
      "application/vnd.databricks.v1+output": {
       "addedWidgets": {},
       "aggData": [],
       "aggError": "",
       "aggOverflow": false,
       "aggSchema": [],
       "aggSeriesLimitReached": false,
       "aggType": "",
       "arguments": {},
       "columnCustomDisplayInfos": {},
       "data": [
        [
         1
        ]
       ],
       "datasetInfos": [],
       "dbfsResultPath": null,
       "isJsonSchema": true,
       "metadata": {
        "isDbfsCommandResult": false
       },
       "overflow": false,
       "plotOptions": {
        "customPlotOptions": {},
        "displayType": "table",
        "pivotAggregation": null,
        "pivotColumns": null,
        "xColumns": null,
        "yColumns": null
       },
       "removedWidgets": [],
       "schema": [
        {
         "metadata": "{}",
         "name": "num_affected_rows",
         "type": "\"long\""
        }
       ],
       "type": "table"
      }
     },
     "output_type": "display_data"
    }
   ],
   "source": [
    "%sql\n",
    "delete from people_10m where firstName = 'Spiderman'"
   ]
  },
  {
   "cell_type": "code",
   "execution_count": 0,
   "metadata": {
    "application/vnd.databricks.v1+cell": {
     "cellMetadata": {
      "byteLimit": 2048000,
      "rowLimit": 10000
     },
     "inputWidgets": {},
     "nuid": "88d3d2d8-1420-4b3a-9eef-01dd5074fddd",
     "showTitle": false,
     "title": ""
    }
   },
   "outputs": [
    {
     "output_type": "display_data",
     "data": {
      "text/html": [
       "<style scoped>\n",
       "  .table-result-container {\n",
       "    max-height: 300px;\n",
       "    overflow: auto;\n",
       "  }\n",
       "  table, th, td {\n",
       "    border: 1px solid black;\n",
       "    border-collapse: collapse;\n",
       "  }\n",
       "  th, td {\n",
       "    padding: 5px;\n",
       "  }\n",
       "  th {\n",
       "    text-align: left;\n",
       "  }\n",
       "</style><div class='table-result-container'><table class='table-result'><thead style='background-color: white'><tr><th>id</th><th>firstName</th><th>middleName</th><th>lastName</th><th>gender</th><th>birthDate</th><th>ssn</th><th>salary</th></tr></thead><tbody></tbody></table></div>"
      ]
     },
     "metadata": {
      "application/vnd.databricks.v1+output": {
       "addedWidgets": {},
       "aggData": [],
       "aggError": "",
       "aggOverflow": false,
       "aggSchema": [],
       "aggSeriesLimitReached": false,
       "aggType": "",
       "arguments": {},
       "columnCustomDisplayInfos": {},
       "data": [],
       "datasetInfos": [],
       "dbfsResultPath": null,
       "isJsonSchema": true,
       "metadata": {
        "isDbfsCommandResult": false
       },
       "overflow": false,
       "plotOptions": {
        "customPlotOptions": {},
        "displayType": "table",
        "pivotAggregation": null,
        "pivotColumns": null,
        "xColumns": null,
        "yColumns": null
       },
       "removedWidgets": [],
       "schema": [
        {
         "metadata": "{}",
         "name": "id",
         "type": "\"integer\""
        },
        {
         "metadata": "{}",
         "name": "firstName",
         "type": "\"string\""
        },
        {
         "metadata": "{}",
         "name": "middleName",
         "type": "\"string\""
        },
        {
         "metadata": "{}",
         "name": "lastName",
         "type": "\"string\""
        },
        {
         "metadata": "{}",
         "name": "gender",
         "type": "\"string\""
        },
        {
         "metadata": "{}",
         "name": "birthDate",
         "type": "\"timestamp\""
        },
        {
         "metadata": "{}",
         "name": "ssn",
         "type": "\"string\""
        },
        {
         "metadata": "{}",
         "name": "salary",
         "type": "\"integer\""
        }
       ],
       "type": "table"
      }
     },
     "output_type": "display_data"
    }
   ],
   "source": [
    "%sql\n",
    "SELECT * FROM people_10m WHERE firstName ='Spiderman'"
   ]
  },
  {
   "cell_type": "markdown",
   "metadata": {
    "application/vnd.databricks.v1+cell": {
     "cellMetadata": {},
     "inputWidgets": {},
     "nuid": "7202c7e4-3111-46fe-a8e7-b4a8287a3756",
     "showTitle": false,
     "title": ""
    }
   },
   "source": [
    "## Display table history"
   ]
  },
  {
   "cell_type": "code",
   "execution_count": 0,
   "metadata": {
    "application/vnd.databricks.v1+cell": {
     "cellMetadata": {
      "byteLimit": 2048000,
      "rowLimit": 10000
     },
     "inputWidgets": {},
     "nuid": "325695c5-694a-4418-868a-d895362204eb",
     "showTitle": false,
     "title": ""
    }
   },
   "outputs": [
    {
     "output_type": "display_data",
     "data": {
      "text/html": [
       "<style scoped>\n",
       "  .table-result-container {\n",
       "    max-height: 300px;\n",
       "    overflow: auto;\n",
       "  }\n",
       "  table, th, td {\n",
       "    border: 1px solid black;\n",
       "    border-collapse: collapse;\n",
       "  }\n",
       "  th, td {\n",
       "    padding: 5px;\n",
       "  }\n",
       "  th {\n",
       "    text-align: left;\n",
       "  }\n",
       "</style><div class='table-result-container'><table class='table-result'><thead style='background-color: white'><tr><th>version</th><th>timestamp</th><th>userId</th><th>userName</th><th>operation</th><th>operationParameters</th><th>job</th><th>notebook</th><th>clusterId</th><th>readVersion</th><th>isolationLevel</th><th>isBlindAppend</th><th>operationMetrics</th><th>userMetadata</th><th>engineInfo</th></tr></thead><tbody><tr><td>12</td><td>2024-01-27T17:47:46Z</td><td>5227933319595746</td><td>vtate01@qub.ac.uk</td><td>DELETE</td><td>Map(predicate -> [\"(firstName#14337 = Spiderman)\"])</td><td>null</td><td>List(4277377919892141)</td><td>0127-151556-vqpjky7e</td><td>11</td><td>WriteSerializable</td><td>false</td><td>Map(numRemovedFiles -> 1, numRemovedBytes -> 2567, numCopiedRows -> 4, numDeletionVectorsAdded -> 0, numDeletionVectorsRemoved -> 0, numAddedChangeFiles -> 0, executionTimeMs -> 4224, numDeletionVectorsUpdated -> 0, numDeletedRows -> 1, scanTimeMs -> 3000, numAddedFiles -> 1, numAddedBytes -> 2519, rewriteTimeMs -> 1224)</td><td>null</td><td>Databricks-Runtime/14.2.x-scala2.12</td></tr><tr><td>11</td><td>2024-01-27T17:26:17Z</td><td>5227933319595746</td><td>vtate01@qub.ac.uk</td><td>UPDATE</td><td>Map(predicate -> [\"(gender#12714 = Male)\"])</td><td>null</td><td>List(4277377919892141)</td><td>0127-151556-vqpjky7e</td><td>10</td><td>WriteSerializable</td><td>false</td><td>Map(numRemovedFiles -> 6, numRemovedBytes -> 147267517, numCopiedRows -> 1420479, numDeletionVectorsAdded -> 0, numDeletionVectorsRemoved -> 0, numAddedChangeFiles -> 0, executionTimeMs -> 46414, numDeletionVectorsUpdated -> 0, scanTimeMs -> 3232, numAddedFiles -> 6, numUpdatedRows -> 4812700, numAddedBytes -> 147270083, rewriteTimeMs -> 43182)</td><td>null</td><td>Databricks-Runtime/14.2.x-scala2.12</td></tr><tr><td>10</td><td>2024-01-27T17:25:27Z</td><td>5227933319595746</td><td>vtate01@qub.ac.uk</td><td>UPDATE</td><td>Map(predicate -> [\"(gender#11947 = Female)\"])</td><td>null</td><td>List(4277377919892141)</td><td>0127-151556-vqpjky7e</td><td>9</td><td>WriteSerializable</td><td>false</td><td>Map(numRemovedFiles -> 6, numRemovedBytes -> 147747087, numCopiedRows -> 1021495, numDeletionVectorsAdded -> 0, numDeletionVectorsRemoved -> 0, numAddedChangeFiles -> 0, executionTimeMs -> 46360, numDeletionVectorsUpdated -> 0, scanTimeMs -> 2937, numAddedFiles -> 6, numUpdatedRows -> 5187303, numAddedBytes -> 147748734, rewriteTimeMs -> 43423)</td><td>null</td><td>Databricks-Runtime/14.2.x-scala2.12</td></tr><tr><td>9</td><td>2024-01-27T17:20:37Z</td><td>5227933319595746</td><td>vtate01@qub.ac.uk</td><td>UPDATE</td><td>Map(predicate -> [\"(gender#11141 = M)\"])</td><td>null</td><td>List(4277377919892141)</td><td>0127-151556-vqpjky7e</td><td>8</td><td>WriteSerializable</td><td>false</td><td>Map(numRemovedFiles -> 0, numRemovedBytes -> 0, numCopiedRows -> 0, numDeletionVectorsAdded -> 0, numDeletionVectorsRemoved -> 0, numAddedChangeFiles -> 0, executionTimeMs -> 1761, numDeletionVectorsUpdated -> 0, scanTimeMs -> 1760, numAddedFiles -> 0, numUpdatedRows -> 0, numAddedBytes -> 0, rewriteTimeMs -> 0)</td><td>null</td><td>Databricks-Runtime/14.2.x-scala2.12</td></tr><tr><td>8</td><td>2024-01-27T17:20:32Z</td><td>5227933319595746</td><td>vtate01@qub.ac.uk</td><td>UPDATE</td><td>Map(predicate -> [\"(gender#10621 = F)\"])</td><td>null</td><td>List(4277377919892141)</td><td>0127-151556-vqpjky7e</td><td>7</td><td>WriteSerializable</td><td>false</td><td>Map(numRemovedFiles -> 0, numRemovedBytes -> 0, numCopiedRows -> 0, numDeletionVectorsAdded -> 0, numDeletionVectorsRemoved -> 0, numAddedChangeFiles -> 0, executionTimeMs -> 953, numDeletionVectorsUpdated -> 0, scanTimeMs -> 952, numAddedFiles -> 0, numUpdatedRows -> 0, numAddedBytes -> 0, rewriteTimeMs -> 0)</td><td>null</td><td>Databricks-Runtime/14.2.x-scala2.12</td></tr><tr><td>7</td><td>2024-01-27T17:20:01Z</td><td>5227933319595746</td><td>vtate01@qub.ac.uk</td><td>UPDATE</td><td>Map(predicate -> [\"(gender#10098 = M)\"])</td><td>null</td><td>List(4277377919892141)</td><td>0127-151556-vqpjky7e</td><td>6</td><td>WriteSerializable</td><td>false</td><td>Map(numRemovedFiles -> 0, numRemovedBytes -> 0, numCopiedRows -> 0, numDeletionVectorsAdded -> 0, numDeletionVectorsRemoved -> 0, numAddedChangeFiles -> 0, executionTimeMs -> 1637, numDeletionVectorsUpdated -> 0, scanTimeMs -> 1637, numAddedFiles -> 0, numUpdatedRows -> 0, numAddedBytes -> 0, rewriteTimeMs -> 0)</td><td>null</td><td>Databricks-Runtime/14.2.x-scala2.12</td></tr><tr><td>6</td><td>2024-01-27T17:19:57Z</td><td>5227933319595746</td><td>vtate01@qub.ac.uk</td><td>UPDATE</td><td>Map(predicate -> [\"(gender#9578 = F)\"])</td><td>null</td><td>List(4277377919892141)</td><td>0127-151556-vqpjky7e</td><td>5</td><td>WriteSerializable</td><td>false</td><td>Map(numRemovedFiles -> 0, numRemovedBytes -> 0, numCopiedRows -> 0, numDeletionVectorsAdded -> 0, numDeletionVectorsRemoved -> 0, numAddedChangeFiles -> 0, executionTimeMs -> 886, numDeletionVectorsUpdated -> 0, scanTimeMs -> 883, numAddedFiles -> 0, numUpdatedRows -> 0, numAddedBytes -> 0, rewriteTimeMs -> 0)</td><td>null</td><td>Databricks-Runtime/14.2.x-scala2.12</td></tr><tr><td>5</td><td>2024-01-27T17:19:30Z</td><td>5227933319595746</td><td>vtate01@qub.ac.uk</td><td>UPDATE</td><td>Map(predicate -> [\"(gender#9055 = M)\"])</td><td>null</td><td>List(4277377919892141)</td><td>0127-151556-vqpjky7e</td><td>4</td><td>WriteSerializable</td><td>false</td><td>Map(numRemovedFiles -> 0, numRemovedBytes -> 0, numCopiedRows -> 0, numDeletionVectorsAdded -> 0, numDeletionVectorsRemoved -> 0, numAddedChangeFiles -> 0, executionTimeMs -> 1414, numDeletionVectorsUpdated -> 0, scanTimeMs -> 1414, numAddedFiles -> 0, numUpdatedRows -> 0, numAddedBytes -> 0, rewriteTimeMs -> 0)</td><td>null</td><td>Databricks-Runtime/14.2.x-scala2.12</td></tr><tr><td>4</td><td>2024-01-27T17:19:25Z</td><td>5227933319595746</td><td>vtate01@qub.ac.uk</td><td>UPDATE</td><td>Map(predicate -> [\"(gender#8535 = F)\"])</td><td>null</td><td>List(4277377919892141)</td><td>0127-151556-vqpjky7e</td><td>3</td><td>WriteSerializable</td><td>false</td><td>Map(numRemovedFiles -> 0, numRemovedBytes -> 0, numCopiedRows -> 0, numDeletionVectorsAdded -> 0, numDeletionVectorsRemoved -> 0, numAddedChangeFiles -> 0, executionTimeMs -> 999, numDeletionVectorsUpdated -> 0, scanTimeMs -> 999, numAddedFiles -> 0, numUpdatedRows -> 0, numAddedBytes -> 0, rewriteTimeMs -> 0)</td><td>null</td><td>Databricks-Runtime/14.2.x-scala2.12</td></tr><tr><td>3</td><td>2024-01-27T17:16:35Z</td><td>5227933319595746</td><td>vtate01@qub.ac.uk</td><td>UPDATE</td><td>Map(predicate -> [\"(gender#7654 = M)\"])</td><td>null</td><td>List(4277377919892141)</td><td>0127-151556-vqpjky7e</td><td>2</td><td>WriteSerializable</td><td>false</td><td>Map(numRemovedFiles -> 10, numRemovedBytes -> 147274614, numCopiedRows -> 1420479, numDeletionVectorsAdded -> 0, numDeletionVectorsRemoved -> 0, numAddedChangeFiles -> 0, executionTimeMs -> 45891, numDeletionVectorsUpdated -> 0, scanTimeMs -> 4741, numAddedFiles -> 6, numUpdatedRows -> 4812700, numAddedBytes -> 147267076, rewriteTimeMs -> 41150)</td><td>null</td><td>Databricks-Runtime/14.2.x-scala2.12</td></tr><tr><td>2</td><td>2024-01-27T17:15:44Z</td><td>5227933319595746</td><td>vtate01@qub.ac.uk</td><td>UPDATE</td><td>Map(predicate -> [\"(gender#6885 = F)\"])</td><td>null</td><td>List(4277377919892141)</td><td>0127-151556-vqpjky7e</td><td>1</td><td>WriteSerializable</td><td>false</td><td>Map(numRemovedFiles -> 6, numRemovedBytes -> 147744021, numCopiedRows -> 1021495, numDeletionVectorsAdded -> 0, numDeletionVectorsRemoved -> 0, numAddedChangeFiles -> 0, executionTimeMs -> 49339, numDeletionVectorsUpdated -> 0, scanTimeMs -> 3986, numAddedFiles -> 6, numUpdatedRows -> 5187303, numAddedBytes -> 147746766, rewriteTimeMs -> 45346)</td><td>null</td><td>Databricks-Runtime/14.2.x-scala2.12</td></tr><tr><td>1</td><td>2024-01-27T16:57:19Z</td><td>5227933319595746</td><td>vtate01@qub.ac.uk</td><td>MERGE</td><td>Map(predicate -> [\"(id#4592 = id#4568)\"], matchedPredicates -> [{\"actionType\":\"update\"}], statsOnLoad -> false, notMatchedBySourcePredicates -> [], notMatchedPredicates -> [{\"actionType\":\"insert\"}])</td><td>null</td><td>List(4277377919892141)</td><td>0127-151556-vqpjky7e</td><td>0</td><td>WriteSerializable</td><td>false</td><td>Map(numTargetRowsCopied -> 1192230, numTargetRowsDeleted -> 0, numTargetFilesAdded -> 7, numTargetBytesAdded -> 28323049, numTargetBytesRemoved -> 28309339, numTargetDeletionVectorsAdded -> 0, numTargetRowsMatchedUpdated -> 3, executionTimeMs -> 19064, numTargetRowsInserted -> 3, numTargetRowsMatchedDeleted -> 0, scanTimeMs -> 5473, numTargetRowsUpdated -> 3, numOutputRows -> 1192236, numTargetDeletionVectorsRemoved -> 0, numTargetRowsNotMatchedBySourceUpdated -> 0, numTargetChangeFilesAdded -> 0, numSourceRows -> 6, numTargetFilesRemoved -> 1, numTargetRowsNotMatchedBySourceDeleted -> 0, rewriteTimeMs -> 12747)</td><td>null</td><td>Databricks-Runtime/14.2.x-scala2.12</td></tr><tr><td>0</td><td>2024-01-27T16:19:51Z</td><td>5227933319595746</td><td>vtate01@qub.ac.uk</td><td>CREATE TABLE AS SELECT</td><td>Map(partitionBy -> [], description -> null, isManaged -> true, properties -> {}, statsOnLoad -> false)</td><td>null</td><td>List(4277377919892141)</td><td>0127-151556-vqpjky7e</td><td>null</td><td>WriteSerializable</td><td>true</td><td>Map(numFiles -> 8, numOutputRows -> 10000000, numOutputBytes -> 236921468)</td><td>null</td><td>Databricks-Runtime/14.2.x-scala2.12</td></tr></tbody></table></div>"
      ]
     },
     "metadata": {
      "application/vnd.databricks.v1+output": {
       "addedWidgets": {},
       "aggData": [],
       "aggError": "",
       "aggOverflow": false,
       "aggSchema": [],
       "aggSeriesLimitReached": false,
       "aggType": "",
       "arguments": {},
       "columnCustomDisplayInfos": {},
       "data": [
        [
         12,
         "2024-01-27T17:47:46Z",
         "5227933319595746",
         "vtate01@qub.ac.uk",
         "DELETE",
         {
          "predicate": "[\"(firstName#14337 = Spiderman)\"]"
         },
         null,
         [
          "4277377919892141"
         ],
         "0127-151556-vqpjky7e",
         11,
         "WriteSerializable",
         false,
         {
          "executionTimeMs": "4224",
          "numAddedBytes": "2519",
          "numAddedChangeFiles": "0",
          "numAddedFiles": "1",
          "numCopiedRows": "4",
          "numDeletedRows": "1",
          "numDeletionVectorsAdded": "0",
          "numDeletionVectorsRemoved": "0",
          "numDeletionVectorsUpdated": "0",
          "numRemovedBytes": "2567",
          "numRemovedFiles": "1",
          "rewriteTimeMs": "1224",
          "scanTimeMs": "3000"
         },
         null,
         "Databricks-Runtime/14.2.x-scala2.12"
        ],
        [
         11,
         "2024-01-27T17:26:17Z",
         "5227933319595746",
         "vtate01@qub.ac.uk",
         "UPDATE",
         {
          "predicate": "[\"(gender#12714 = Male)\"]"
         },
         null,
         [
          "4277377919892141"
         ],
         "0127-151556-vqpjky7e",
         10,
         "WriteSerializable",
         false,
         {
          "executionTimeMs": "46414",
          "numAddedBytes": "147270083",
          "numAddedChangeFiles": "0",
          "numAddedFiles": "6",
          "numCopiedRows": "1420479",
          "numDeletionVectorsAdded": "0",
          "numDeletionVectorsRemoved": "0",
          "numDeletionVectorsUpdated": "0",
          "numRemovedBytes": "147267517",
          "numRemovedFiles": "6",
          "numUpdatedRows": "4812700",
          "rewriteTimeMs": "43182",
          "scanTimeMs": "3232"
         },
         null,
         "Databricks-Runtime/14.2.x-scala2.12"
        ],
        [
         10,
         "2024-01-27T17:25:27Z",
         "5227933319595746",
         "vtate01@qub.ac.uk",
         "UPDATE",
         {
          "predicate": "[\"(gender#11947 = Female)\"]"
         },
         null,
         [
          "4277377919892141"
         ],
         "0127-151556-vqpjky7e",
         9,
         "WriteSerializable",
         false,
         {
          "executionTimeMs": "46360",
          "numAddedBytes": "147748734",
          "numAddedChangeFiles": "0",
          "numAddedFiles": "6",
          "numCopiedRows": "1021495",
          "numDeletionVectorsAdded": "0",
          "numDeletionVectorsRemoved": "0",
          "numDeletionVectorsUpdated": "0",
          "numRemovedBytes": "147747087",
          "numRemovedFiles": "6",
          "numUpdatedRows": "5187303",
          "rewriteTimeMs": "43423",
          "scanTimeMs": "2937"
         },
         null,
         "Databricks-Runtime/14.2.x-scala2.12"
        ],
        [
         9,
         "2024-01-27T17:20:37Z",
         "5227933319595746",
         "vtate01@qub.ac.uk",
         "UPDATE",
         {
          "predicate": "[\"(gender#11141 = M)\"]"
         },
         null,
         [
          "4277377919892141"
         ],
         "0127-151556-vqpjky7e",
         8,
         "WriteSerializable",
         false,
         {
          "executionTimeMs": "1761",
          "numAddedBytes": "0",
          "numAddedChangeFiles": "0",
          "numAddedFiles": "0",
          "numCopiedRows": "0",
          "numDeletionVectorsAdded": "0",
          "numDeletionVectorsRemoved": "0",
          "numDeletionVectorsUpdated": "0",
          "numRemovedBytes": "0",
          "numRemovedFiles": "0",
          "numUpdatedRows": "0",
          "rewriteTimeMs": "0",
          "scanTimeMs": "1760"
         },
         null,
         "Databricks-Runtime/14.2.x-scala2.12"
        ],
        [
         8,
         "2024-01-27T17:20:32Z",
         "5227933319595746",
         "vtate01@qub.ac.uk",
         "UPDATE",
         {
          "predicate": "[\"(gender#10621 = F)\"]"
         },
         null,
         [
          "4277377919892141"
         ],
         "0127-151556-vqpjky7e",
         7,
         "WriteSerializable",
         false,
         {
          "executionTimeMs": "953",
          "numAddedBytes": "0",
          "numAddedChangeFiles": "0",
          "numAddedFiles": "0",
          "numCopiedRows": "0",
          "numDeletionVectorsAdded": "0",
          "numDeletionVectorsRemoved": "0",
          "numDeletionVectorsUpdated": "0",
          "numRemovedBytes": "0",
          "numRemovedFiles": "0",
          "numUpdatedRows": "0",
          "rewriteTimeMs": "0",
          "scanTimeMs": "952"
         },
         null,
         "Databricks-Runtime/14.2.x-scala2.12"
        ],
        [
         7,
         "2024-01-27T17:20:01Z",
         "5227933319595746",
         "vtate01@qub.ac.uk",
         "UPDATE",
         {
          "predicate": "[\"(gender#10098 = M)\"]"
         },
         null,
         [
          "4277377919892141"
         ],
         "0127-151556-vqpjky7e",
         6,
         "WriteSerializable",
         false,
         {
          "executionTimeMs": "1637",
          "numAddedBytes": "0",
          "numAddedChangeFiles": "0",
          "numAddedFiles": "0",
          "numCopiedRows": "0",
          "numDeletionVectorsAdded": "0",
          "numDeletionVectorsRemoved": "0",
          "numDeletionVectorsUpdated": "0",
          "numRemovedBytes": "0",
          "numRemovedFiles": "0",
          "numUpdatedRows": "0",
          "rewriteTimeMs": "0",
          "scanTimeMs": "1637"
         },
         null,
         "Databricks-Runtime/14.2.x-scala2.12"
        ],
        [
         6,
         "2024-01-27T17:19:57Z",
         "5227933319595746",
         "vtate01@qub.ac.uk",
         "UPDATE",
         {
          "predicate": "[\"(gender#9578 = F)\"]"
         },
         null,
         [
          "4277377919892141"
         ],
         "0127-151556-vqpjky7e",
         5,
         "WriteSerializable",
         false,
         {
          "executionTimeMs": "886",
          "numAddedBytes": "0",
          "numAddedChangeFiles": "0",
          "numAddedFiles": "0",
          "numCopiedRows": "0",
          "numDeletionVectorsAdded": "0",
          "numDeletionVectorsRemoved": "0",
          "numDeletionVectorsUpdated": "0",
          "numRemovedBytes": "0",
          "numRemovedFiles": "0",
          "numUpdatedRows": "0",
          "rewriteTimeMs": "0",
          "scanTimeMs": "883"
         },
         null,
         "Databricks-Runtime/14.2.x-scala2.12"
        ],
        [
         5,
         "2024-01-27T17:19:30Z",
         "5227933319595746",
         "vtate01@qub.ac.uk",
         "UPDATE",
         {
          "predicate": "[\"(gender#9055 = M)\"]"
         },
         null,
         [
          "4277377919892141"
         ],
         "0127-151556-vqpjky7e",
         4,
         "WriteSerializable",
         false,
         {
          "executionTimeMs": "1414",
          "numAddedBytes": "0",
          "numAddedChangeFiles": "0",
          "numAddedFiles": "0",
          "numCopiedRows": "0",
          "numDeletionVectorsAdded": "0",
          "numDeletionVectorsRemoved": "0",
          "numDeletionVectorsUpdated": "0",
          "numRemovedBytes": "0",
          "numRemovedFiles": "0",
          "numUpdatedRows": "0",
          "rewriteTimeMs": "0",
          "scanTimeMs": "1414"
         },
         null,
         "Databricks-Runtime/14.2.x-scala2.12"
        ],
        [
         4,
         "2024-01-27T17:19:25Z",
         "5227933319595746",
         "vtate01@qub.ac.uk",
         "UPDATE",
         {
          "predicate": "[\"(gender#8535 = F)\"]"
         },
         null,
         [
          "4277377919892141"
         ],
         "0127-151556-vqpjky7e",
         3,
         "WriteSerializable",
         false,
         {
          "executionTimeMs": "999",
          "numAddedBytes": "0",
          "numAddedChangeFiles": "0",
          "numAddedFiles": "0",
          "numCopiedRows": "0",
          "numDeletionVectorsAdded": "0",
          "numDeletionVectorsRemoved": "0",
          "numDeletionVectorsUpdated": "0",
          "numRemovedBytes": "0",
          "numRemovedFiles": "0",
          "numUpdatedRows": "0",
          "rewriteTimeMs": "0",
          "scanTimeMs": "999"
         },
         null,
         "Databricks-Runtime/14.2.x-scala2.12"
        ],
        [
         3,
         "2024-01-27T17:16:35Z",
         "5227933319595746",
         "vtate01@qub.ac.uk",
         "UPDATE",
         {
          "predicate": "[\"(gender#7654 = M)\"]"
         },
         null,
         [
          "4277377919892141"
         ],
         "0127-151556-vqpjky7e",
         2,
         "WriteSerializable",
         false,
         {
          "executionTimeMs": "45891",
          "numAddedBytes": "147267076",
          "numAddedChangeFiles": "0",
          "numAddedFiles": "6",
          "numCopiedRows": "1420479",
          "numDeletionVectorsAdded": "0",
          "numDeletionVectorsRemoved": "0",
          "numDeletionVectorsUpdated": "0",
          "numRemovedBytes": "147274614",
          "numRemovedFiles": "10",
          "numUpdatedRows": "4812700",
          "rewriteTimeMs": "41150",
          "scanTimeMs": "4741"
         },
         null,
         "Databricks-Runtime/14.2.x-scala2.12"
        ],
        [
         2,
         "2024-01-27T17:15:44Z",
         "5227933319595746",
         "vtate01@qub.ac.uk",
         "UPDATE",
         {
          "predicate": "[\"(gender#6885 = F)\"]"
         },
         null,
         [
          "4277377919892141"
         ],
         "0127-151556-vqpjky7e",
         1,
         "WriteSerializable",
         false,
         {
          "executionTimeMs": "49339",
          "numAddedBytes": "147746766",
          "numAddedChangeFiles": "0",
          "numAddedFiles": "6",
          "numCopiedRows": "1021495",
          "numDeletionVectorsAdded": "0",
          "numDeletionVectorsRemoved": "0",
          "numDeletionVectorsUpdated": "0",
          "numRemovedBytes": "147744021",
          "numRemovedFiles": "6",
          "numUpdatedRows": "5187303",
          "rewriteTimeMs": "45346",
          "scanTimeMs": "3986"
         },
         null,
         "Databricks-Runtime/14.2.x-scala2.12"
        ],
        [
         1,
         "2024-01-27T16:57:19Z",
         "5227933319595746",
         "vtate01@qub.ac.uk",
         "MERGE",
         {
          "matchedPredicates": "[{\"actionType\":\"update\"}]",
          "notMatchedBySourcePredicates": "[]",
          "notMatchedPredicates": "[{\"actionType\":\"insert\"}]",
          "predicate": "[\"(id#4592 = id#4568)\"]",
          "statsOnLoad": "false"
         },
         null,
         [
          "4277377919892141"
         ],
         "0127-151556-vqpjky7e",
         0,
         "WriteSerializable",
         false,
         {
          "executionTimeMs": "19064",
          "numOutputRows": "1192236",
          "numSourceRows": "6",
          "numTargetBytesAdded": "28323049",
          "numTargetBytesRemoved": "28309339",
          "numTargetChangeFilesAdded": "0",
          "numTargetDeletionVectorsAdded": "0",
          "numTargetDeletionVectorsRemoved": "0",
          "numTargetFilesAdded": "7",
          "numTargetFilesRemoved": "1",
          "numTargetRowsCopied": "1192230",
          "numTargetRowsDeleted": "0",
          "numTargetRowsInserted": "3",
          "numTargetRowsMatchedDeleted": "0",
          "numTargetRowsMatchedUpdated": "3",
          "numTargetRowsNotMatchedBySourceDeleted": "0",
          "numTargetRowsNotMatchedBySourceUpdated": "0",
          "numTargetRowsUpdated": "3",
          "rewriteTimeMs": "12747",
          "scanTimeMs": "5473"
         },
         null,
         "Databricks-Runtime/14.2.x-scala2.12"
        ],
        [
         0,
         "2024-01-27T16:19:51Z",
         "5227933319595746",
         "vtate01@qub.ac.uk",
         "CREATE TABLE AS SELECT",
         {
          "description": null,
          "isManaged": "true",
          "partitionBy": "[]",
          "properties": "{}",
          "statsOnLoad": "false"
         },
         null,
         [
          "4277377919892141"
         ],
         "0127-151556-vqpjky7e",
         null,
         "WriteSerializable",
         true,
         {
          "numFiles": "8",
          "numOutputBytes": "236921468",
          "numOutputRows": "10000000"
         },
         null,
         "Databricks-Runtime/14.2.x-scala2.12"
        ]
       ],
       "datasetInfos": [],
       "dbfsResultPath": null,
       "isJsonSchema": true,
       "metadata": {
        "isDbfsCommandResult": false
       },
       "overflow": false,
       "plotOptions": {
        "customPlotOptions": {},
        "displayType": "table",
        "pivotAggregation": null,
        "pivotColumns": null,
        "xColumns": null,
        "yColumns": null
       },
       "removedWidgets": [],
       "schema": [
        {
         "metadata": "{}",
         "name": "version",
         "type": "\"long\""
        },
        {
         "metadata": "{}",
         "name": "timestamp",
         "type": "\"timestamp\""
        },
        {
         "metadata": "{}",
         "name": "userId",
         "type": "\"string\""
        },
        {
         "metadata": "{}",
         "name": "userName",
         "type": "\"string\""
        },
        {
         "metadata": "{}",
         "name": "operation",
         "type": "\"string\""
        },
        {
         "metadata": "{}",
         "name": "operationParameters",
         "type": "{\"type\":\"map\",\"keyType\":\"string\",\"valueType\":\"string\",\"valueContainsNull\":true}"
        },
        {
         "metadata": "{}",
         "name": "job",
         "type": "{\"type\":\"struct\",\"fields\":[{\"name\":\"jobId\",\"type\":\"string\",\"nullable\":true,\"metadata\":{}},{\"name\":\"jobName\",\"type\":\"string\",\"nullable\":true,\"metadata\":{}},{\"name\":\"jobRunId\",\"type\":\"string\",\"nullable\":true,\"metadata\":{}},{\"name\":\"runId\",\"type\":\"string\",\"nullable\":true,\"metadata\":{}},{\"name\":\"jobOwnerId\",\"type\":\"string\",\"nullable\":true,\"metadata\":{}},{\"name\":\"triggerType\",\"type\":\"string\",\"nullable\":true,\"metadata\":{}}]}"
        },
        {
         "metadata": "{}",
         "name": "notebook",
         "type": "{\"type\":\"struct\",\"fields\":[{\"name\":\"notebookId\",\"type\":\"string\",\"nullable\":true,\"metadata\":{}}]}"
        },
        {
         "metadata": "{}",
         "name": "clusterId",
         "type": "\"string\""
        },
        {
         "metadata": "{}",
         "name": "readVersion",
         "type": "\"long\""
        },
        {
         "metadata": "{}",
         "name": "isolationLevel",
         "type": "\"string\""
        },
        {
         "metadata": "{}",
         "name": "isBlindAppend",
         "type": "\"boolean\""
        },
        {
         "metadata": "{}",
         "name": "operationMetrics",
         "type": "{\"type\":\"map\",\"keyType\":\"string\",\"valueType\":\"string\",\"valueContainsNull\":true}"
        },
        {
         "metadata": "{}",
         "name": "userMetadata",
         "type": "\"string\""
        },
        {
         "metadata": "{}",
         "name": "engineInfo",
         "type": "\"string\""
        }
       ],
       "type": "table"
      }
     },
     "output_type": "display_data"
    }
   ],
   "source": [
    "%sql\n",
    "describe history people_10m"
   ]
  },
  {
   "cell_type": "markdown",
   "metadata": {
    "application/vnd.databricks.v1+cell": {
     "cellMetadata": {},
     "inputWidgets": {},
     "nuid": "84fae4e6-bba6-4a7c-967a-3497ab944fc9",
     "showTitle": false,
     "title": ""
    }
   },
   "source": [
    "# ACID (time travel) With VERSION\n",
    "## Query an earlier version of the table (time travel)"
   ]
  },
  {
   "cell_type": "code",
   "execution_count": 0,
   "metadata": {
    "application/vnd.databricks.v1+cell": {
     "cellMetadata": {
      "byteLimit": 2048000,
      "rowLimit": 10000
     },
     "inputWidgets": {},
     "nuid": "f3b9609c-602f-40f6-957f-325e66e134c4",
     "showTitle": true,
     "title": "VERSION - As in the History - You can Select a Version"
    }
   },
   "outputs": [
    {
     "output_type": "display_data",
     "data": {
      "text/html": [
       "<style scoped>\n",
       "  .table-result-container {\n",
       "    max-height: 300px;\n",
       "    overflow: auto;\n",
       "  }\n",
       "  table, th, td {\n",
       "    border: 1px solid black;\n",
       "    border-collapse: collapse;\n",
       "  }\n",
       "  th, td {\n",
       "    padding: 5px;\n",
       "  }\n",
       "  th {\n",
       "    text-align: left;\n",
       "  }\n",
       "</style><div class='table-result-container'><table class='table-result'><thead style='background-color: white'><tr><th>id</th><th>firstName</th><th>middleName</th><th>lastName</th><th>gender</th><th>birthDate</th><th>ssn</th><th>salary</th></tr></thead><tbody><tr><td>5016568</td><td>Enrique</td><td>Emmett</td><td>Carvil</td><td>M</td><td>1960-01-17T05:00:00Z</td><td>909-88-7612</td><td>62241</td></tr><tr><td>5016569</td><td>Jordan</td><td>Alva</td><td>Penk</td><td>M</td><td>1979-05-02T04:00:00Z</td><td>936-39-5888</td><td>74778</td></tr><tr><td>5016570</td><td>Leo</td><td>Merlin</td><td>Conkay</td><td>M</td><td>1981-05-21T04:00:00Z</td><td>919-71-2948</td><td>82321</td></tr><tr><td>5016571</td><td>Bernard</td><td>Wiley</td><td>Thackham</td><td>M</td><td>1983-10-12T04:00:00Z</td><td>976-38-5505</td><td>72797</td></tr><tr><td>5016572</td><td>Devin</td><td>Loyd</td><td>Gipp</td><td>M</td><td>1990-01-20T05:00:00Z</td><td>934-44-9546</td><td>99538</td></tr><tr><td>5016573</td><td>Howard</td><td>Wade</td><td>Cokly</td><td>M</td><td>1979-04-10T05:00:00Z</td><td>901-17-5955</td><td>39998</td></tr><tr><td>5016574</td><td>Clyde</td><td>Anibal</td><td>Silvester</td><td>M</td><td>1964-02-03T05:00:00Z</td><td>992-74-4926</td><td>88749</td></tr><tr><td>5016575</td><td>Craig</td><td>Doug</td><td>Dohmer</td><td>M</td><td>1971-10-28T04:00:00Z</td><td>943-46-5612</td><td>75135</td></tr><tr><td>5016576</td><td>Eddie</td><td>Mikel</td><td>Handyside</td><td>M</td><td>1962-01-07T05:00:00Z</td><td>916-66-9845</td><td>67990</td></tr><tr><td>5016577</td><td>Burton</td><td>Scotty</td><td>Broggini</td><td>M</td><td>1968-02-16T05:00:00Z</td><td>973-55-2258</td><td>64515</td></tr></tbody></table></div>"
      ]
     },
     "metadata": {
      "application/vnd.databricks.v1+output": {
       "addedWidgets": {},
       "aggData": [],
       "aggError": "",
       "aggOverflow": false,
       "aggSchema": [],
       "aggSeriesLimitReached": false,
       "aggType": "",
       "arguments": {},
       "columnCustomDisplayInfos": {},
       "data": [
        [
         5016568,
         "Enrique",
         "Emmett",
         "Carvil",
         "M",
         "1960-01-17T05:00:00Z",
         "909-88-7612",
         62241
        ],
        [
         5016569,
         "Jordan",
         "Alva",
         "Penk",
         "M",
         "1979-05-02T04:00:00Z",
         "936-39-5888",
         74778
        ],
        [
         5016570,
         "Leo",
         "Merlin",
         "Conkay",
         "M",
         "1981-05-21T04:00:00Z",
         "919-71-2948",
         82321
        ],
        [
         5016571,
         "Bernard",
         "Wiley",
         "Thackham",
         "M",
         "1983-10-12T04:00:00Z",
         "976-38-5505",
         72797
        ],
        [
         5016572,
         "Devin",
         "Loyd",
         "Gipp",
         "M",
         "1990-01-20T05:00:00Z",
         "934-44-9546",
         99538
        ],
        [
         5016573,
         "Howard",
         "Wade",
         "Cokly",
         "M",
         "1979-04-10T05:00:00Z",
         "901-17-5955",
         39998
        ],
        [
         5016574,
         "Clyde",
         "Anibal",
         "Silvester",
         "M",
         "1964-02-03T05:00:00Z",
         "992-74-4926",
         88749
        ],
        [
         5016575,
         "Craig",
         "Doug",
         "Dohmer",
         "M",
         "1971-10-28T04:00:00Z",
         "943-46-5612",
         75135
        ],
        [
         5016576,
         "Eddie",
         "Mikel",
         "Handyside",
         "M",
         "1962-01-07T05:00:00Z",
         "916-66-9845",
         67990
        ],
        [
         5016577,
         "Burton",
         "Scotty",
         "Broggini",
         "M",
         "1968-02-16T05:00:00Z",
         "973-55-2258",
         64515
        ]
       ],
       "datasetInfos": [],
       "dbfsResultPath": null,
       "isJsonSchema": true,
       "metadata": {
        "isDbfsCommandResult": false
       },
       "overflow": false,
       "plotOptions": {
        "customPlotOptions": {},
        "displayType": "table",
        "pivotAggregation": null,
        "pivotColumns": null,
        "xColumns": null,
        "yColumns": null
       },
       "removedWidgets": [],
       "schema": [
        {
         "metadata": "{}",
         "name": "id",
         "type": "\"integer\""
        },
        {
         "metadata": "{}",
         "name": "firstName",
         "type": "\"string\""
        },
        {
         "metadata": "{}",
         "name": "middleName",
         "type": "\"string\""
        },
        {
         "metadata": "{}",
         "name": "lastName",
         "type": "\"string\""
        },
        {
         "metadata": "{}",
         "name": "gender",
         "type": "\"string\""
        },
        {
         "metadata": "{}",
         "name": "birthDate",
         "type": "\"timestamp\""
        },
        {
         "metadata": "{}",
         "name": "ssn",
         "type": "\"string\""
        },
        {
         "metadata": "{}",
         "name": "salary",
         "type": "\"integer\""
        }
       ],
       "type": "table"
      }
     },
     "output_type": "display_data"
    }
   ],
   "source": [
    "%sql\n",
    "SELECT * FROM people_10m VERSION AS OF 0 limit 10"
   ]
  },
  {
   "cell_type": "markdown",
   "metadata": {
    "application/vnd.databricks.v1+cell": {
     "cellMetadata": {},
     "inputWidgets": {},
     "nuid": "d42d40f5-fac5-4710-b1dd-ec2d04f7a83f",
     "showTitle": false,
     "title": ""
    }
   },
   "source": [
    "# Optimise a table\n",
    "### Once you have performed multiple changes to a table, you might have a lot of small files. To improve the speed of read queries, you can use OPTIMISE to collapse small files into larger ones:"
   ]
  },
  {
   "cell_type": "code",
   "execution_count": 0,
   "metadata": {
    "application/vnd.databricks.v1+cell": {
     "cellMetadata": {
      "byteLimit": 2048000,
      "rowLimit": 10000
     },
     "inputWidgets": {},
     "nuid": "7eae7e2b-c2a1-4f09-81e1-251fdaffb390",
     "showTitle": false,
     "title": ""
    }
   },
   "outputs": [
    {
     "output_type": "display_data",
     "data": {
      "text/html": [
       "<style scoped>\n",
       "  .table-result-container {\n",
       "    max-height: 300px;\n",
       "    overflow: auto;\n",
       "  }\n",
       "  table, th, td {\n",
       "    border: 1px solid black;\n",
       "    border-collapse: collapse;\n",
       "  }\n",
       "  th, td {\n",
       "    padding: 5px;\n",
       "  }\n",
       "  th {\n",
       "    text-align: left;\n",
       "  }\n",
       "</style><div class='table-result-container'><table class='table-result'><thead style='background-color: white'><tr><th>path</th><th>metrics</th></tr></thead><tbody><tr><td>dbfs:/user/hive/warehouse/people_10m</td><td>List(1, 10, List(236792941, 236792941, 2.36792941E8, 1, 236792941), List(2281, 30171404, 2.3693455E7, 10, 236934550), 0, null, 1, 10, 0, true, 0, 0, 1706380055599, 1706380137578, 8, 1, null, List(0, 0), 8, 8, 74770, 0, null)</td></tr></tbody></table></div>"
      ]
     },
     "metadata": {
      "application/vnd.databricks.v1+output": {
       "addedWidgets": {},
       "aggData": [],
       "aggError": "",
       "aggOverflow": false,
       "aggSchema": [],
       "aggSeriesLimitReached": false,
       "aggType": "",
       "arguments": {},
       "columnCustomDisplayInfos": {},
       "data": [
        [
         "dbfs:/user/hive/warehouse/people_10m",
         [
          1,
          10,
          [
           236792941,
           236792941,
           2.36792941E8,
           1,
           236792941
          ],
          [
           2281,
           30171404,
           2.3693455E7,
           10,
           236934550
          ],
          0,
          null,
          1,
          10,
          0,
          true,
          0,
          0,
          1706380055599,
          1706380137578,
          8,
          1,
          null,
          [
           0,
           0
          ],
          8,
          8,
          74770,
          0,
          null
         ]
        ]
       ],
       "datasetInfos": [],
       "dbfsResultPath": null,
       "isJsonSchema": true,
       "metadata": {
        "isDbfsCommandResult": false
       },
       "overflow": false,
       "plotOptions": {
        "customPlotOptions": {},
        "displayType": "table",
        "pivotAggregation": null,
        "pivotColumns": null,
        "xColumns": null,
        "yColumns": null
       },
       "removedWidgets": [],
       "schema": [
        {
         "metadata": "{}",
         "name": "path",
         "type": "\"string\""
        },
        {
         "metadata": "{}",
         "name": "metrics",
         "type": "{\"type\":\"struct\",\"fields\":[{\"name\":\"numFilesAdded\",\"type\":\"long\",\"nullable\":false,\"metadata\":{}},{\"name\":\"numFilesRemoved\",\"type\":\"long\",\"nullable\":false,\"metadata\":{}},{\"name\":\"filesAdded\",\"type\":{\"type\":\"struct\",\"fields\":[{\"name\":\"min\",\"type\":\"long\",\"nullable\":true,\"metadata\":{}},{\"name\":\"max\",\"type\":\"long\",\"nullable\":true,\"metadata\":{}},{\"name\":\"avg\",\"type\":\"double\",\"nullable\":false,\"metadata\":{}},{\"name\":\"totalFiles\",\"type\":\"long\",\"nullable\":false,\"metadata\":{}},{\"name\":\"totalSize\",\"type\":\"long\",\"nullable\":false,\"metadata\":{}}]},\"nullable\":true,\"metadata\":{}},{\"name\":\"filesRemoved\",\"type\":{\"type\":\"struct\",\"fields\":[{\"name\":\"min\",\"type\":\"long\",\"nullable\":true,\"metadata\":{}},{\"name\":\"max\",\"type\":\"long\",\"nullable\":true,\"metadata\":{}},{\"name\":\"avg\",\"type\":\"double\",\"nullable\":false,\"metadata\":{}},{\"name\":\"totalFiles\",\"type\":\"long\",\"nullable\":false,\"metadata\":{}},{\"name\":\"totalSize\",\"type\":\"long\",\"nullable\":false,\"metadata\":{}}]},\"nullable\":true,\"metadata\":{}},{\"name\":\"partitionsOptimized\",\"type\":\"long\",\"nullable\":false,\"metadata\":{}},{\"name\":\"zOrderStats\",\"type\":{\"type\":\"struct\",\"fields\":[{\"name\":\"strategyName\",\"type\":\"string\",\"nullable\":true,\"metadata\":{}},{\"name\":\"inputCubeFiles\",\"type\":{\"type\":\"struct\",\"fields\":[{\"name\":\"num\",\"type\":\"long\",\"nullable\":false,\"metadata\":{}},{\"name\":\"size\",\"type\":\"long\",\"nullable\":false,\"metadata\":{}}]},\"nullable\":true,\"metadata\":{}},{\"name\":\"inputOtherFiles\",\"type\":{\"type\":\"struct\",\"fields\":[{\"name\":\"num\",\"type\":\"long\",\"nullable\":false,\"metadata\":{}},{\"name\":\"size\",\"type\":\"long\",\"nullable\":false,\"metadata\":{}}]},\"nullable\":true,\"metadata\":{}},{\"name\":\"inputNumCubes\",\"type\":\"long\",\"nullable\":false,\"metadata\":{}},{\"name\":\"mergedFiles\",\"type\":{\"type\":\"struct\",\"fields\":[{\"name\":\"num\",\"type\":\"long\",\"nullable\":false,\"metadata\":{}},{\"name\":\"size\",\"type\":\"long\",\"nullable\":false,\"metadata\":{}}]},\"nullable\":true,\"metadata\":{}},{\"name\":\"numOutputCubes\",\"type\":\"long\",\"nullable\":false,\"metadata\":{}},{\"name\":\"mergedNumCubes\",\"type\":\"long\",\"nullable\":true,\"metadata\":{}}]},\"nullable\":true,\"metadata\":{}},{\"name\":\"numBatches\",\"type\":\"long\",\"nullable\":false,\"metadata\":{}},{\"name\":\"totalConsideredFiles\",\"type\":\"long\",\"nullable\":false,\"metadata\":{}},{\"name\":\"totalFilesSkipped\",\"type\":\"long\",\"nullable\":false,\"metadata\":{}},{\"name\":\"preserveInsertionOrder\",\"type\":\"boolean\",\"nullable\":false,\"metadata\":{}},{\"name\":\"numFilesSkippedToReduceWriteAmplification\",\"type\":\"long\",\"nullable\":false,\"metadata\":{}},{\"name\":\"numBytesSkippedToReduceWriteAmplification\",\"type\":\"long\",\"nullable\":false,\"metadata\":{}},{\"name\":\"startTimeMs\",\"type\":\"long\",\"nullable\":false,\"metadata\":{}},{\"name\":\"endTimeMs\",\"type\":\"long\",\"nullable\":false,\"metadata\":{}},{\"name\":\"totalClusterParallelism\",\"type\":\"long\",\"nullable\":false,\"metadata\":{}},{\"name\":\"totalScheduledTasks\",\"type\":\"long\",\"nullable\":false,\"metadata\":{}},{\"name\":\"autoCompactParallelismStats\",\"type\":{\"type\":\"struct\",\"fields\":[{\"name\":\"maxClusterActiveParallelism\",\"type\":\"long\",\"nullable\":true,\"metadata\":{}},{\"name\":\"minClusterActiveParallelism\",\"type\":\"long\",\"nullable\":true,\"metadata\":{}},{\"name\":\"maxSessionActiveParallelism\",\"type\":\"long\",\"nullable\":true,\"metadata\":{}},{\"name\":\"minSessionActiveParallelism\",\"type\":\"long\",\"nullable\":true,\"metadata\":{}}]},\"nullable\":true,\"metadata\":{}},{\"name\":\"deletionVectorStats\",\"type\":{\"type\":\"struct\",\"fields\":[{\"name\":\"numDeletionVectorsRemoved\",\"type\":\"long\",\"nullable\":false,\"metadata\":{}},{\"name\":\"numDeletionVectorRowsRemoved\",\"type\":\"long\",\"nullable\":false,\"metadata\":{}}]},\"nullable\":true,\"metadata\":{}},{\"name\":\"numTableColumns\",\"type\":\"long\",\"nullable\":false,\"metadata\":{}},{\"name\":\"numTableColumnsWithStats\",\"type\":\"long\",\"nullable\":false,\"metadata\":{}},{\"name\":\"totalTaskExecutionTimeMs\",\"type\":\"long\",\"nullable\":false,\"metadata\":{}},{\"name\":\"skippedArchivedFiles\",\"type\":\"long\",\"nullable\":false,\"metadata\":{}},{\"name\":\"clusteringMetrics\",\"type\":{\"type\":\"struct\",\"fields\":[{\"name\":\"sizeOfTableInBytesBeforeLazyClustering\",\"type\":\"long\",\"nullable\":false,\"metadata\":{}},{\"name\":\"isNewMetadataCreated\",\"type\":\"boolean\",\"nullable\":false,\"metadata\":{}},{\"name\":\"numFilesClassifiedToIntermediateNodes\",\"type\":\"long\",\"nullable\":false,\"metadata\":{}},{\"name\":\"sizeOfFilesClassifiedToIntermediateNodesInBytes\",\"type\":\"long\",\"nullable\":false,\"metadata\":{}},{\"name\":\"logicalSizeOfFilesClassifiedToIntermediateNodesInBytes\",\"type\":\"long\",\"nullable\":false,\"metadata\":{}},{\"name\":\"numFilesClassifiedToLeafNodes\",\"type\":\"long\",\"nullable\":false,\"metadata\":{}},{\"name\":\"sizeOfFilesClassifiedToLeafNodesInBytes\",\"type\":\"long\",\"nullable\":false,\"metadata\":{}},{\"name\":\"logicalSizeOfFilesClassifiedToLeafNodesInBytes\",\"type\":\"long\",\"nullable\":false,\"metadata\":{}},{\"name\":\"clusterThresholdStrategy\",\"type\":\"string\",\"nullable\":true,\"metadata\":{}},{\"name\":\"minFileSize\",\"type\":\"long\",\"nullable\":false,\"metadata\":{}},{\"name\":\"maxFileSize\",\"type\":\"long\",\"nullable\":false,\"metadata\":{}},{\"name\":\"nodeMinNumFilesToCompact\",\"type\":\"long\",\"nullable\":false,\"metadata\":{}},{\"name\":\"numIdealFiles\",\"type\":\"long\",\"nullable\":false,\"metadata\":{}},{\"name\":\"numClusteringTasksPlanned\",\"type\":\"integer\",\"nullable\":false,\"metadata\":{}},{\"name\":\"numCompactionTasksPlanned\",\"type\":\"integer\",\"nullable\":false,\"metadata\":{}},{\"name\":\"numOptimizeBatchesPlanned\",\"type\":\"integer\",\"nullable\":false,\"metadata\":{}},{\"name\":\"numLeafNodesExpanded\",\"type\":\"long\",\"nullable\":false,\"metadata\":{}},{\"name\":\"numLeafNodesClustered\",\"type\":\"long\",\"nullable\":false,\"metadata\":{}},{\"name\":\"numGetFilesForNodeCalls\",\"type\":\"long\",\"nullable\":false,\"metadata\":{}},{\"name\":\"numSamplingJobs\",\"type\":\"long\",\"nullable\":false,\"metadata\":{}},{\"name\":\"numLeafNodesCompacted\",\"type\":\"long\",\"nullable\":false,\"metadata\":{}},{\"name\":\"numIntermediateNodesCompacted\",\"type\":\"long\",\"nullable\":false,\"metadata\":{}},{\"name\":\"totalSizeOfDataToCompactInBytes\",\"type\":\"long\",\"nullable\":false,\"metadata\":{}},{\"name\":\"totalLogicalSizeOfDataToCompactInBytes\",\"type\":\"long\",\"nullable\":false,\"metadata\":{}},{\"name\":\"numIntermediateNodesClustered\",\"type\":\"long\",\"nullable\":false,\"metadata\":{}},{\"name\":\"numFilesSkippedAfterExpansion\",\"type\":\"long\",\"nullable\":false,\"metadata\":{}},{\"name\":\"totalSizeOfFilesSkippedAfterExpansionInBytes\",\"type\":\"long\",\"nullable\":false,\"metadata\":{}},{\"name\":\"totalLogicalSizeOfFilesSkippedAfterExpansionInBytes\",\"type\":\"long\",\"nullable\":false,\"metadata\":{}},{\"name\":\"totalSizeOfDataToRewriteInBytes\",\"type\":\"long\",\"nullable\":false,\"metadata\":{}},{\"name\":\"totalLogicalSizeOfDataToRewriteInBytes\",\"type\":\"long\",\"nullable\":false,\"metadata\":{}},{\"name\":\"timeMetrics\",\"type\":{\"type\":\"struct\",\"fields\":[{\"name\":\"classifierTimeMs\",\"type\":\"long\",\"nullable\":false,\"metadata\":{}},{\"name\":\"optimizerTimeMs\",\"type\":\"long\",\"nullable\":false,\"metadata\":{}},{\"name\":\"metadataLoadTimeMs\",\"type\":\"long\",\"nullable\":false,\"metadata\":{}},{\"name\":\"totalGetFilesForNodeCallsTimeMs\",\"type\":\"long\",\"nullable\":false,\"metadata\":{}},{\"name\":\"totalSamplingTimeMs\",\"type\":\"long\",\"nullable\":false,\"metadata\":{}},{\"name\":\"metadataCreationTimeMs\",\"type\":\"long\",\"nullable\":false,\"metadata\":{}}]},\"nullable\":true,\"metadata\":{}}]},\"nullable\":true,\"metadata\":{}}]}"
        }
       ],
       "type": "table"
      }
     },
     "output_type": "display_data"
    }
   ],
   "source": [
    "%sql\n",
    "optimize people_10m"
   ]
  },
  {
   "cell_type": "markdown",
   "metadata": {
    "application/vnd.databricks.v1+cell": {
     "cellMetadata": {},
     "inputWidgets": {},
     "nuid": "2433bb2e-935f-4f7a-bb48-d98898dad479",
     "showTitle": false,
     "title": ""
    }
   },
   "source": [
    "## Z-ordering By Columns\n",
    "#### [Useful read](https://docs.databricks.com/en/delta/optimize.html#how-often-should-i-run-optimize)\n",
    "#### Z-Ordering is a technique used in Delta Lake to co-locate related information in the same set of files, which is automatically used by Delta Lake in data-skipping algorithms. \n",
    "This behavior dramatically reduces the amount of data that Delta Lake needs to read, resulting in faster queries and improved query performance.\n",
    "By reorganising the data in storage, certain queries can read less data, so they run faster.\n"
   ]
  },
  {
   "cell_type": "code",
   "execution_count": 0,
   "metadata": {
    "application/vnd.databricks.v1+cell": {
     "cellMetadata": {
      "byteLimit": 2048000,
      "rowLimit": 10000
     },
     "inputWidgets": {},
     "nuid": "5ac14dfc-3901-43d4-a134-f01d9610f6c7",
     "showTitle": false,
     "title": ""
    }
   },
   "outputs": [
    {
     "output_type": "display_data",
     "data": {
      "text/html": [
       "<style scoped>\n",
       "  .table-result-container {\n",
       "    max-height: 300px;\n",
       "    overflow: auto;\n",
       "  }\n",
       "  table, th, td {\n",
       "    border: 1px solid black;\n",
       "    border-collapse: collapse;\n",
       "  }\n",
       "  th, td {\n",
       "    padding: 5px;\n",
       "  }\n",
       "  th {\n",
       "    text-align: left;\n",
       "  }\n",
       "</style><div class='table-result-container'><table class='table-result'><thead style='background-color: white'><tr><th>path</th><th>metrics</th></tr></thead><tbody><tr><td>dbfs:/user/hive/warehouse/people_10m</td><td>List(0, 0, List(null, null, 0.0, 0, 0), List(null, null, 0.0, 0, 0), 0, List(minCubeSize(107374182400), List(0, 0), List(1, 236792941), 0, List(0, 0), 0, null), 0, 1, 1, false, 0, 0, 1706380156515, 1706380159613, 8, 0, null, List(0, 0), 8, 8, 0, 0, null)</td></tr></tbody></table></div>"
      ]
     },
     "metadata": {
      "application/vnd.databricks.v1+output": {
       "addedWidgets": {},
       "aggData": [],
       "aggError": "",
       "aggOverflow": false,
       "aggSchema": [],
       "aggSeriesLimitReached": false,
       "aggType": "",
       "arguments": {},
       "columnCustomDisplayInfos": {},
       "data": [
        [
         "dbfs:/user/hive/warehouse/people_10m",
         [
          0,
          0,
          [
           null,
           null,
           0.0,
           0,
           0
          ],
          [
           null,
           null,
           0.0,
           0,
           0
          ],
          0,
          [
           "minCubeSize(107374182400)",
           [
            0,
            0
           ],
           [
            1,
            236792941
           ],
           0,
           [
            0,
            0
           ],
           0,
           null
          ],
          0,
          1,
          1,
          false,
          0,
          0,
          1706380156515,
          1706380159613,
          8,
          0,
          null,
          [
           0,
           0
          ],
          8,
          8,
          0,
          0,
          null
         ]
        ]
       ],
       "datasetInfos": [],
       "dbfsResultPath": null,
       "isJsonSchema": true,
       "metadata": {
        "isDbfsCommandResult": false
       },
       "overflow": false,
       "plotOptions": {
        "customPlotOptions": {},
        "displayType": "table",
        "pivotAggregation": null,
        "pivotColumns": null,
        "xColumns": null,
        "yColumns": null
       },
       "removedWidgets": [],
       "schema": [
        {
         "metadata": "{}",
         "name": "path",
         "type": "\"string\""
        },
        {
         "metadata": "{}",
         "name": "metrics",
         "type": "{\"type\":\"struct\",\"fields\":[{\"name\":\"numFilesAdded\",\"type\":\"long\",\"nullable\":false,\"metadata\":{}},{\"name\":\"numFilesRemoved\",\"type\":\"long\",\"nullable\":false,\"metadata\":{}},{\"name\":\"filesAdded\",\"type\":{\"type\":\"struct\",\"fields\":[{\"name\":\"min\",\"type\":\"long\",\"nullable\":true,\"metadata\":{}},{\"name\":\"max\",\"type\":\"long\",\"nullable\":true,\"metadata\":{}},{\"name\":\"avg\",\"type\":\"double\",\"nullable\":false,\"metadata\":{}},{\"name\":\"totalFiles\",\"type\":\"long\",\"nullable\":false,\"metadata\":{}},{\"name\":\"totalSize\",\"type\":\"long\",\"nullable\":false,\"metadata\":{}}]},\"nullable\":true,\"metadata\":{}},{\"name\":\"filesRemoved\",\"type\":{\"type\":\"struct\",\"fields\":[{\"name\":\"min\",\"type\":\"long\",\"nullable\":true,\"metadata\":{}},{\"name\":\"max\",\"type\":\"long\",\"nullable\":true,\"metadata\":{}},{\"name\":\"avg\",\"type\":\"double\",\"nullable\":false,\"metadata\":{}},{\"name\":\"totalFiles\",\"type\":\"long\",\"nullable\":false,\"metadata\":{}},{\"name\":\"totalSize\",\"type\":\"long\",\"nullable\":false,\"metadata\":{}}]},\"nullable\":true,\"metadata\":{}},{\"name\":\"partitionsOptimized\",\"type\":\"long\",\"nullable\":false,\"metadata\":{}},{\"name\":\"zOrderStats\",\"type\":{\"type\":\"struct\",\"fields\":[{\"name\":\"strategyName\",\"type\":\"string\",\"nullable\":true,\"metadata\":{}},{\"name\":\"inputCubeFiles\",\"type\":{\"type\":\"struct\",\"fields\":[{\"name\":\"num\",\"type\":\"long\",\"nullable\":false,\"metadata\":{}},{\"name\":\"size\",\"type\":\"long\",\"nullable\":false,\"metadata\":{}}]},\"nullable\":true,\"metadata\":{}},{\"name\":\"inputOtherFiles\",\"type\":{\"type\":\"struct\",\"fields\":[{\"name\":\"num\",\"type\":\"long\",\"nullable\":false,\"metadata\":{}},{\"name\":\"size\",\"type\":\"long\",\"nullable\":false,\"metadata\":{}}]},\"nullable\":true,\"metadata\":{}},{\"name\":\"inputNumCubes\",\"type\":\"long\",\"nullable\":false,\"metadata\":{}},{\"name\":\"mergedFiles\",\"type\":{\"type\":\"struct\",\"fields\":[{\"name\":\"num\",\"type\":\"long\",\"nullable\":false,\"metadata\":{}},{\"name\":\"size\",\"type\":\"long\",\"nullable\":false,\"metadata\":{}}]},\"nullable\":true,\"metadata\":{}},{\"name\":\"numOutputCubes\",\"type\":\"long\",\"nullable\":false,\"metadata\":{}},{\"name\":\"mergedNumCubes\",\"type\":\"long\",\"nullable\":true,\"metadata\":{}}]},\"nullable\":true,\"metadata\":{}},{\"name\":\"numBatches\",\"type\":\"long\",\"nullable\":false,\"metadata\":{}},{\"name\":\"totalConsideredFiles\",\"type\":\"long\",\"nullable\":false,\"metadata\":{}},{\"name\":\"totalFilesSkipped\",\"type\":\"long\",\"nullable\":false,\"metadata\":{}},{\"name\":\"preserveInsertionOrder\",\"type\":\"boolean\",\"nullable\":false,\"metadata\":{}},{\"name\":\"numFilesSkippedToReduceWriteAmplification\",\"type\":\"long\",\"nullable\":false,\"metadata\":{}},{\"name\":\"numBytesSkippedToReduceWriteAmplification\",\"type\":\"long\",\"nullable\":false,\"metadata\":{}},{\"name\":\"startTimeMs\",\"type\":\"long\",\"nullable\":false,\"metadata\":{}},{\"name\":\"endTimeMs\",\"type\":\"long\",\"nullable\":false,\"metadata\":{}},{\"name\":\"totalClusterParallelism\",\"type\":\"long\",\"nullable\":false,\"metadata\":{}},{\"name\":\"totalScheduledTasks\",\"type\":\"long\",\"nullable\":false,\"metadata\":{}},{\"name\":\"autoCompactParallelismStats\",\"type\":{\"type\":\"struct\",\"fields\":[{\"name\":\"maxClusterActiveParallelism\",\"type\":\"long\",\"nullable\":true,\"metadata\":{}},{\"name\":\"minClusterActiveParallelism\",\"type\":\"long\",\"nullable\":true,\"metadata\":{}},{\"name\":\"maxSessionActiveParallelism\",\"type\":\"long\",\"nullable\":true,\"metadata\":{}},{\"name\":\"minSessionActiveParallelism\",\"type\":\"long\",\"nullable\":true,\"metadata\":{}}]},\"nullable\":true,\"metadata\":{}},{\"name\":\"deletionVectorStats\",\"type\":{\"type\":\"struct\",\"fields\":[{\"name\":\"numDeletionVectorsRemoved\",\"type\":\"long\",\"nullable\":false,\"metadata\":{}},{\"name\":\"numDeletionVectorRowsRemoved\",\"type\":\"long\",\"nullable\":false,\"metadata\":{}}]},\"nullable\":true,\"metadata\":{}},{\"name\":\"numTableColumns\",\"type\":\"long\",\"nullable\":false,\"metadata\":{}},{\"name\":\"numTableColumnsWithStats\",\"type\":\"long\",\"nullable\":false,\"metadata\":{}},{\"name\":\"totalTaskExecutionTimeMs\",\"type\":\"long\",\"nullable\":false,\"metadata\":{}},{\"name\":\"skippedArchivedFiles\",\"type\":\"long\",\"nullable\":false,\"metadata\":{}},{\"name\":\"clusteringMetrics\",\"type\":{\"type\":\"struct\",\"fields\":[{\"name\":\"sizeOfTableInBytesBeforeLazyClustering\",\"type\":\"long\",\"nullable\":false,\"metadata\":{}},{\"name\":\"isNewMetadataCreated\",\"type\":\"boolean\",\"nullable\":false,\"metadata\":{}},{\"name\":\"numFilesClassifiedToIntermediateNodes\",\"type\":\"long\",\"nullable\":false,\"metadata\":{}},{\"name\":\"sizeOfFilesClassifiedToIntermediateNodesInBytes\",\"type\":\"long\",\"nullable\":false,\"metadata\":{}},{\"name\":\"logicalSizeOfFilesClassifiedToIntermediateNodesInBytes\",\"type\":\"long\",\"nullable\":false,\"metadata\":{}},{\"name\":\"numFilesClassifiedToLeafNodes\",\"type\":\"long\",\"nullable\":false,\"metadata\":{}},{\"name\":\"sizeOfFilesClassifiedToLeafNodesInBytes\",\"type\":\"long\",\"nullable\":false,\"metadata\":{}},{\"name\":\"logicalSizeOfFilesClassifiedToLeafNodesInBytes\",\"type\":\"long\",\"nullable\":false,\"metadata\":{}},{\"name\":\"clusterThresholdStrategy\",\"type\":\"string\",\"nullable\":true,\"metadata\":{}},{\"name\":\"minFileSize\",\"type\":\"long\",\"nullable\":false,\"metadata\":{}},{\"name\":\"maxFileSize\",\"type\":\"long\",\"nullable\":false,\"metadata\":{}},{\"name\":\"nodeMinNumFilesToCompact\",\"type\":\"long\",\"nullable\":false,\"metadata\":{}},{\"name\":\"numIdealFiles\",\"type\":\"long\",\"nullable\":false,\"metadata\":{}},{\"name\":\"numClusteringTasksPlanned\",\"type\":\"integer\",\"nullable\":false,\"metadata\":{}},{\"name\":\"numCompactionTasksPlanned\",\"type\":\"integer\",\"nullable\":false,\"metadata\":{}},{\"name\":\"numOptimizeBatchesPlanned\",\"type\":\"integer\",\"nullable\":false,\"metadata\":{}},{\"name\":\"numLeafNodesExpanded\",\"type\":\"long\",\"nullable\":false,\"metadata\":{}},{\"name\":\"numLeafNodesClustered\",\"type\":\"long\",\"nullable\":false,\"metadata\":{}},{\"name\":\"numGetFilesForNodeCalls\",\"type\":\"long\",\"nullable\":false,\"metadata\":{}},{\"name\":\"numSamplingJobs\",\"type\":\"long\",\"nullable\":false,\"metadata\":{}},{\"name\":\"numLeafNodesCompacted\",\"type\":\"long\",\"nullable\":false,\"metadata\":{}},{\"name\":\"numIntermediateNodesCompacted\",\"type\":\"long\",\"nullable\":false,\"metadata\":{}},{\"name\":\"totalSizeOfDataToCompactInBytes\",\"type\":\"long\",\"nullable\":false,\"metadata\":{}},{\"name\":\"totalLogicalSizeOfDataToCompactInBytes\",\"type\":\"long\",\"nullable\":false,\"metadata\":{}},{\"name\":\"numIntermediateNodesClustered\",\"type\":\"long\",\"nullable\":false,\"metadata\":{}},{\"name\":\"numFilesSkippedAfterExpansion\",\"type\":\"long\",\"nullable\":false,\"metadata\":{}},{\"name\":\"totalSizeOfFilesSkippedAfterExpansionInBytes\",\"type\":\"long\",\"nullable\":false,\"metadata\":{}},{\"name\":\"totalLogicalSizeOfFilesSkippedAfterExpansionInBytes\",\"type\":\"long\",\"nullable\":false,\"metadata\":{}},{\"name\":\"totalSizeOfDataToRewriteInBytes\",\"type\":\"long\",\"nullable\":false,\"metadata\":{}},{\"name\":\"totalLogicalSizeOfDataToRewriteInBytes\",\"type\":\"long\",\"nullable\":false,\"metadata\":{}},{\"name\":\"timeMetrics\",\"type\":{\"type\":\"struct\",\"fields\":[{\"name\":\"classifierTimeMs\",\"type\":\"long\",\"nullable\":false,\"metadata\":{}},{\"name\":\"optimizerTimeMs\",\"type\":\"long\",\"nullable\":false,\"metadata\":{}},{\"name\":\"metadataLoadTimeMs\",\"type\":\"long\",\"nullable\":false,\"metadata\":{}},{\"name\":\"totalGetFilesForNodeCallsTimeMs\",\"type\":\"long\",\"nullable\":false,\"metadata\":{}},{\"name\":\"totalSamplingTimeMs\",\"type\":\"long\",\"nullable\":false,\"metadata\":{}},{\"name\":\"metadataCreationTimeMs\",\"type\":\"long\",\"nullable\":false,\"metadata\":{}}]},\"nullable\":true,\"metadata\":{}}]},\"nullable\":true,\"metadata\":{}}]}"
        }
       ],
       "type": "table"
      }
     },
     "output_type": "display_data"
    }
   ],
   "source": [
    "%sql\n",
    "OPTIMIZE people_10m\n",
    "ZORDER BY (gender)"
   ]
  }
 ],
 "metadata": {
  "application/vnd.databricks.v1+notebook": {
   "dashboards": [],
   "language": "python",
   "notebookMetadata": {
    "mostRecentlyExecutedCommandWithImplicitDF": {
     "commandId": -1,
     "dataframes": [
      "_sqldf"
     ]
    },
    "pythonIndentUnit": 4
   },
   "notebookName": "DB 04 Delta Notebook",
   "widgets": {}
  }
 },
 "nbformat": 4,
 "nbformat_minor": 0
}
